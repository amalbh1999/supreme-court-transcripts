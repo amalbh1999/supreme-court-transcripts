{
 "cells": [
  {
   "cell_type": "markdown",
   "metadata": {},
   "source": [
    "## **Supreme Court Transcripts Database Design**\n",
    "\n",
    "### Contents:\n",
    " 1. Finding Justices Present\n",
    " 2. Date, Year\n",
    " 3. Appearances\n",
    " 4. Sentiment Analysis \n",
    " 5. Building the DataFrame\n",
    " \n",
    "## Note to Everyone: Make sure you've uploaded the textfiles from this folder: https://drive.google.com/drive/folders/1aepNIVRUS0rwu-m_fqK7KnWEqhyJFBvW my directory might be different from yours so make sure to check !"
   ]
  },
  {
   "cell_type": "code",
   "execution_count": 1,
   "metadata": {
    "scrolled": true
   },
   "outputs": [],
   "source": [
    "import pandas as pd\n",
    "import regex as re\n",
    "import numpy as np\n",
    "import os\n",
    "from os import listdir\n",
    "from os.path import isfile,join\n",
    "\n",
    "# Read in a plain text file\n",
    "files = []\n",
    "path = r\"C:\\Users\\Avena Cheng\\Desktop\\Liberating Archives\\supremecourt\\textfiles\\\\\"\n",
    "for i in os.listdir(r\"C:\\Users\\Avena Cheng\\Desktop\\Liberating Archives\\supremecourt\\textfiles\"):\n",
    "    if i.endswith('.txt'):\n",
    "        text = open(path+i,encoding=\"utf8\").read()\n",
    "        files.append(text)"
   ]
  },
  {
   "cell_type": "code",
   "execution_count": 2,
   "metadata": {},
   "outputs": [
    {
     "data": {
      "text/plain": [
       "1302"
      ]
     },
     "execution_count": 2,
     "metadata": {},
     "output_type": "execute_result"
    }
   ],
   "source": [
    "len(files)"
   ]
  },
  {
   "cell_type": "code",
   "execution_count": 3,
   "metadata": {},
   "outputs": [],
   "source": [
    "cleaned = []\n",
    "for txt in files:\n",
    "    clean = re.sub('\\xad','',txt)\n",
    "    clean = re.sub('\\n','',clean)\n",
    "    clean = re.sub('\\\\\\\\','',clean)\n",
    "    cleaned += [clean]"
   ]
  },
  {
   "cell_type": "markdown",
   "metadata": {},
   "source": [
    "### **Finding Justices Present**"
   ]
  },
  {
   "cell_type": "code",
   "execution_count": 4,
   "metadata": {},
   "outputs": [],
   "source": [
    "def unique(lst):\n",
    "    uni = []\n",
    "    for i in lst:\n",
    "        if i not in uni:\n",
    "            uni += [i]\n",
    "    return uni\n",
    "\n",
    "def case_no(txt):\n",
    "    return unique(re.findall('No.\\s*\\d+[-]*\\d+',txt))"
   ]
  },
  {
   "cell_type": "code",
   "execution_count": 5,
   "metadata": {},
   "outputs": [],
   "source": [
    "def justices(txt):\n",
    "    j = re.findall('JUSTICE[A-Z\\s]+:',txt)\n",
    "    justice = sorted(unique(j))\n",
    "    cleaned_list = [justice[i][:-1] for i in range(len(justice))]\n",
    "    return cleaned_list"
   ]
  },
  {
   "cell_type": "code",
   "execution_count": 6,
   "metadata": {},
   "outputs": [],
   "source": [
    "#def justices(texts):\n",
    " #   d = {}\n",
    "  #  for txt in texts:\n",
    "   #     num = case_no(txt)[0]\n",
    "    #    j = re.findall('JUSTICE[A-Z\\s]+:',txt)\n",
    "     #   justice = sorted(unique(j))\n",
    "      #  cleaned_list = [justice[i][:-1] for i in range(len(justice))]\n",
    "       # d[num] = cleaned_list\n",
    "    #return d"
   ]
  },
  {
   "cell_type": "markdown",
   "metadata": {},
   "source": [
    "## **Date, Year**"
   ]
  },
  {
   "cell_type": "code",
   "execution_count": 7,
   "metadata": {},
   "outputs": [],
   "source": [
    "def date(text):\n",
    "    return re.findall('\\W\\w+,*\\s+\\d+\\w*\\w*,\\s+\\d{4}',text)"
   ]
  },
  {
   "cell_type": "code",
   "execution_count": 8,
   "metadata": {},
   "outputs": [],
   "source": [
    "def year(text):\n",
    "    return re.findall('\\d\\d\\d\\d',date(text))"
   ]
  },
  {
   "cell_type": "markdown",
   "metadata": {},
   "source": [
    "## **Appearances**"
   ]
  },
  {
   "cell_type": "code",
   "execution_count": 9,
   "metadata": {},
   "outputs": [],
   "source": [
    "def appearances(text):\n",
    "    app = re.findall('APPEARANCES:[\\s\\S]*?Reporting',text)[0]\n",
    "    app = re.findall('[\\s\\S]*?;[\\s\\S]*?\\.',app)\n",
    "    app = [re.sub('\\d','',app[i]) for i in range(len(app))]\n",
    "    remove_appearance = re.sub('APPEARANCES:\\s','',app[0])\n",
    "    app[0] = remove_appearance\n",
    "    app = [re.sub('[\\s\\s]+',' ',app[i]) for i in range(len(app))]\n",
    "    return app"
   ]
  },
  {
   "cell_type": "code",
   "execution_count": 10,
   "metadata": {
    "scrolled": true
   },
   "outputs": [],
   "source": [
    "#for i in cleaned:\n",
    " #   app = appearances(i)\n",
    "  #  for j in app:\n",
    "   #     print(j)\n",
    "    #print('-----------------------')"
   ]
  },
  {
   "cell_type": "markdown",
   "metadata": {},
   "source": [
    "## **Sentiment Analysis**"
   ]
  },
  {
   "cell_type": "markdown",
   "metadata": {},
   "source": [
    "**Checkpoint 10/22**\n",
    "\n",
    "* need to work on finding the regex pattern between speakers\n",
    "* General pattern: \"SPEAKER: anything they say until the next SPEAKER:\"\n",
    "\n",
    "### STEPS:\n",
    "1. Extract the sentences from each speaker.\n",
    "2. Develop a function (actually there's one written in the github link below that you could model yours from; it's very good)\n",
    "3. Test it on various transcripts to ensure it's generalized"
   ]
  },
  {
   "cell_type": "markdown",
   "metadata": {},
   "source": [
    "### Note to Amal: Please look at these slides for performing sentiment analysis. They are from my IEOR class, and these techniques are very useful. Please let me know if you would like to go over it together.\n",
    "\n",
    "https://github.com/ikhlaqsidhu/data-x/blob/master/07a-tools-nlp-sentiment_add_missing_si/notebook-nlp-sentiment-analysis-imdb-afo_v2.ipynb"
   ]
  },
  {
   "cell_type": "code",
   "execution_count": 11,
   "metadata": {},
   "outputs": [],
   "source": [
    "## I was trying to extract the speakers from each text. \n",
    "\n",
    "def dialogue(text):\n",
    "    sents = re.findall('[A-Z\\s]+:[\\s\\S]+?[A-Z]+?:',text) #regex pattern to find all instances\n",
    "    sents = [re.sub('\\d','',i) for i in sents] # cleaning transcript\n",
    "    sents = [re.sub('[\\s\\s]+',' ',i) for i in sents] #cleaning transcript\n",
    "    return sents\n",
    "\n",
    "other_regex_patters = re.findall('[A-Z\\s.]+:[\\s\\S]+?[A-Z\\s]+?:',text)"
   ]
  },
  {
   "cell_type": "code",
   "execution_count": 12,
   "metadata": {},
   "outputs": [],
   "source": [
    "for i in re.findall('(MR. DABNEY:)([\\s\\S\\]+?)([A-Z][A-Z\\s]*:)',cleaned[0]):\n",
    "    print(i)\n",
    "    print('')"
   ]
  },
  {
   "cell_type": "code",
   "execution_count": 13,
   "metadata": {},
   "outputs": [
    {
     "data": {
      "text/plain": [
       "\" CHIEF JUSTICE ROBERTS: We'll hear argument next in Case -, Penn Plaza LLC v. Pyett. Mr. Salvatore. ORAL ARGUMENT OF PAUL SALVATORE ON BEHALF OF THE PETITIONERS MR. SALVATORE:\""
      ]
     },
     "execution_count": 13,
     "metadata": {},
     "output_type": "execute_result"
    }
   ],
   "source": [
    "dialogue(cleaned[0])[1]"
   ]
  },
  {
   "cell_type": "markdown",
   "metadata": {},
   "source": [
    "# **Building the DataFrame**"
   ]
  },
  {
   "cell_type": "markdown",
   "metadata": {},
   "source": [
    "#### Justices!\n",
    "`#print(cleaned[4])`\n",
    "\n",
    "If we run the above ...\n",
    "\n",
    "Notice that instead of having the justices' name, it just says \"QUESTION\". This is usually the case for when it appears there is only one justice present. It seems to be only for Justice Rehnquist."
   ]
  },
  {
   "cell_type": "code",
   "execution_count": 14,
   "metadata": {},
   "outputs": [],
   "source": [
    "justice = [justices(i) for i in cleaned]\n",
    "for i in range(len(justice)):\n",
    "    justice[i] = \", \".join(justice[i])"
   ]
  },
  {
   "cell_type": "code",
   "execution_count": 15,
   "metadata": {},
   "outputs": [],
   "source": [
    "for i in range(len(justice)):\n",
    "    justice[i] = re.sub('JUSTICE','',justice[i])"
   ]
  },
  {
   "cell_type": "markdown",
   "metadata": {},
   "source": [
    "#### Dates!"
   ]
  },
  {
   "cell_type": "code",
   "execution_count": 16,
   "metadata": {},
   "outputs": [
    {
     "data": {
      "text/plain": [
       "' December 1, 2008'"
      ]
     },
     "execution_count": 16,
     "metadata": {},
     "output_type": "execute_result"
    }
   ],
   "source": [
    "date(cleaned[0])[0]"
   ]
  },
  {
   "cell_type": "code",
   "execution_count": 17,
   "metadata": {},
   "outputs": [],
   "source": [
    "dates = []\n",
    "for i in cleaned:\n",
    "    dates += [date(i)[0]]"
   ]
  },
  {
   "cell_type": "code",
   "execution_count": 18,
   "metadata": {},
   "outputs": [
    {
     "data": {
      "text/plain": [
       "1302"
      ]
     },
     "execution_count": 18,
     "metadata": {},
     "output_type": "execute_result"
    }
   ],
   "source": [
    "len(dates)"
   ]
  },
  {
   "cell_type": "markdown",
   "metadata": {},
   "source": [
    "#### Year!"
   ]
  },
  {
   "cell_type": "code",
   "execution_count": 19,
   "metadata": {},
   "outputs": [],
   "source": [
    "years = []\n",
    "for i in dates:\n",
    "    years += re.findall('\\d\\d\\d\\d',i)"
   ]
  },
  {
   "cell_type": "code",
   "execution_count": 20,
   "metadata": {},
   "outputs": [
    {
     "data": {
      "text/plain": [
       "1302"
      ]
     },
     "execution_count": 20,
     "metadata": {},
     "output_type": "execute_result"
    }
   ],
   "source": [
    "len(years)"
   ]
  },
  {
   "cell_type": "markdown",
   "metadata": {},
   "source": [
    "#### Case Numbers!"
   ]
  },
  {
   "cell_type": "code",
   "execution_count": 21,
   "metadata": {},
   "outputs": [
    {
     "data": {
      "text/plain": [
       "['No. 07-581']"
      ]
     },
     "execution_count": 21,
     "metadata": {},
     "output_type": "execute_result"
    }
   ],
   "source": [
    "case_no(cleaned[0])"
   ]
  },
  {
   "cell_type": "code",
   "execution_count": 22,
   "metadata": {},
   "outputs": [],
   "source": [
    "cases = []\n",
    "for i in cleaned:\n",
    "    cases += [case_no(i)[0]]"
   ]
  },
  {
   "cell_type": "code",
   "execution_count": 23,
   "metadata": {},
   "outputs": [
    {
     "data": {
      "text/plain": [
       "1302"
      ]
     },
     "execution_count": 23,
     "metadata": {},
     "output_type": "execute_result"
    }
   ],
   "source": [
    "len(cleaned)"
   ]
  },
  {
   "cell_type": "markdown",
   "metadata": {},
   "source": [
    "#### Appearances!"
   ]
  },
  {
   "cell_type": "code",
   "execution_count": 24,
   "metadata": {},
   "outputs": [],
   "source": [
    "def appearances(text):\n",
    "    app = re.findall('APPEARANCES:[\\s\\S]*?Reporting.*?',text)\n",
    "    if len(app) == 0:\n",
    "        app = re.findall('APPEARANCES:[\\s\\S]*?REPORTING.*?',text)\n",
    "        if len(app) == 0:\n",
    "            app = re.findall('APPEARANCES:[\\s\\S]*?C O N T E N T S.*?',text)\n",
    "            if len(app) == 0:\n",
    "                app = re.findall('APPEARANCES:[\\s\\S]*?CONTENTS.*?',text)\n",
    "    app = app[0]\n",
    "    app = re.findall('[\\s\\S]*?;[\\s\\S]*?\\.',app)\n",
    "    app = [re.sub('\\d','',app[i]) for i in range(len(app))]\n",
    "    remove_appearance = re.sub('APPEARANCES:\\s','',app[0])\n",
    "    app[0] = remove_appearance\n",
    "    app = [re.sub('[\\s\\s]+',' ',app[i]) for i in range(len(app))]\n",
    "    return app"
   ]
  },
  {
   "cell_type": "code",
   "execution_count": 25,
   "metadata": {},
   "outputs": [],
   "source": [
    "def diff(text):\n",
    "    app = re.findall('APPEARANCES:*[\\s\\S]*?Reporting.*?',text)\n",
    "    if len(app) == 0 or len(app)>400:\n",
    "        app = re.findall('APPEARANCES:[\\s\\S]*?REPORTING.*?',text)\n",
    "        if len(app) == 0:\n",
    "            app = re.findall('APPEARANCES:[\\s\\S]*?C O N T E N T S.*?',text)\n",
    "            if len(app) == 0:\n",
    "                app = re.findall('APPEARANCES:[\\s\\S]*?CONTENTS.*?',text)\n",
    "    app = app[0]\n",
    "    app = re.sub('\\d','',app)\n",
    "    remove_appearance = re.sub('APPEARANCES:*\\s','',app)\n",
    "    app = re.sub('[\\s\\s]+',' ',remove_appearance)\n",
    "    return app"
   ]
  },
  {
   "cell_type": "code",
   "execution_count": 26,
   "metadata": {
    "scrolled": true
   },
   "outputs": [],
   "source": [
    "ugh = []\n",
    "c = 1\n",
    "for i in cleaned:\n",
    "    #print(c)\n",
    "    try:\n",
    "        ugh+=[diff(i)]\n",
    "        #print('')\n",
    "    except:\n",
    "        ugh+= [\"ERROR\"]\n",
    "        continue\n",
    "    c+=1"
   ]
  },
  {
   "cell_type": "code",
   "execution_count": 27,
   "metadata": {},
   "outputs": [
    {
     "name": "stdout",
     "output_type": "stream",
     "text": [
      "ERROR\n"
     ]
    }
   ],
   "source": [
    "for i in ugh:\n",
    "    if i == \"ERROR\":\n",
    "        print(i)"
   ]
  },
  {
   "cell_type": "code",
   "execution_count": 28,
   "metadata": {},
   "outputs": [],
   "source": [
    "#diff(cleaned[1023])"
   ]
  },
  {
   "cell_type": "code",
   "execution_count": 29,
   "metadata": {
    "scrolled": true
   },
   "outputs": [
    {
     "data": {
      "text/plain": [
       "[' SCOTT A. KELLER, Solicitor General of Texas, Austin, Texas; on behalf of the Appellants.',\n",
       " ' EDWIN S. KNEEDLER, Deputy Solicitor General, Department of Justice, Washington, D.C.; on behalf of Appellee United States, in support of the Appellants.',\n",
       " ' MAX RENEA HICKS, ESQ., Austin, Texas; on behalf of the Appellees in No.',\n",
       " ' -. ALLISON J. RIGGS, ESQ., Durham, North Carolina; on behalf of the Appellees in No.']"
      ]
     },
     "execution_count": 29,
     "metadata": {},
     "output_type": "execute_result"
    }
   ],
   "source": [
    "appearances(cleaned[1])"
   ]
  },
  {
   "cell_type": "code",
   "execution_count": 30,
   "metadata": {},
   "outputs": [
    {
     "data": {
      "text/plain": [
       "'ERROR'"
      ]
     },
     "execution_count": 30,
     "metadata": {},
     "output_type": "execute_result"
    }
   ],
   "source": [
    "ugh[1023]"
   ]
  },
  {
   "cell_type": "code",
   "execution_count": 31,
   "metadata": {},
   "outputs": [],
   "source": [
    "for i in range(len(ugh)):\n",
    "    if i == 1023:\n",
    "        ugh[i] = 'ignore'\n",
    "    else:\n",
    "        ugh[i] = re.sub('in No. -','',ugh[i])"
   ]
  },
  {
   "cell_type": "code",
   "execution_count": 32,
   "metadata": {},
   "outputs": [],
   "source": [
    "reporting_pattern = '[A-Z][a-z]+\\sReporting'\n",
    "REPORTING_pattern = '[A-Z]+\\sREPORTING'\n",
    "contents_pattern = 'CONTENTS'\n",
    "CONTENTS_pattren = 'C O N T E N T S'"
   ]
  },
  {
   "cell_type": "code",
   "execution_count": 33,
   "metadata": {
    "scrolled": true
   },
   "outputs": [
    {
     "data": {
      "text/plain": [
       "'PAUL SALVATORE, ESQ., New York, N.Y.; on behalf of the Petitioners. DAVID C. FREDERICK, ESQ., Washington, D.C.; on behalf of the Respondents. CURTIS E. GANNON, ESQ., Assistant to the Solicitor General, Department of Justice, Washington, D.C.; on behalf of the United States, as amicus curiae, supporting the Respondents. '"
      ]
     },
     "execution_count": 33,
     "metadata": {},
     "output_type": "execute_result"
    }
   ],
   "source": [
    "re.sub(re.findall(reporting_pattern,ugh[0])[0],'',ugh[0])"
   ]
  },
  {
   "cell_type": "code",
   "execution_count": 34,
   "metadata": {},
   "outputs": [],
   "source": [
    "for i in range(len(ugh)):\n",
    "    if i == 1023:\n",
    "        ugh[i] == 'JASON D. HAWKINS, ESQ., Assistant Federal Public Defender, Dallas, Texas; for Petitioner. WILLIAM M. JAY, ESQ., Assistant to the Solicitor General, Department of Justice, Washington, D.C.; for  Respondent, in support of Petitioner. EVAN A. YOUNG, ESQ., Austin, Texas; for amicus curiae, in support of the judgment below; appointed by this Court.'\n",
    "    else:\n",
    "        report1 = re.findall(reporting_pattern,ugh[i])\n",
    "        report2 = re.findall(REPORTING_pattern,ugh[i])\n",
    "        content1 = re.findall(contents_pattern,ugh[i])\n",
    "        content2 = re.findall(CONTENTS_pattren,ugh[i])\n",
    "        if len(report1) > 0:\n",
    "            ugh[i]=re.sub(report1[0],'',ugh[i])\n",
    "        elif len(report2) > 0:\n",
    "            ugh[i]=re.sub(report2[0],'',ugh[i])\n",
    "        elif len(content1) > 0:\n",
    "            ugh[i]=re.sub(content1[0],'',ugh[i])\n",
    "        else:\n",
    "            ugh[i]=re.sub(content2[0],'',ugh[i])"
   ]
  },
  {
   "cell_type": "code",
   "execution_count": 35,
   "metadata": {},
   "outputs": [],
   "source": [
    "bad = 'JASON D. HAWKINS, ESQ., Assistant Federal Public Defender, Dallas, Texas; for Petitioner. WILLIAM M. JAY, ESQ., Assistant to the Solicitor General, Department of Justice, Washington, D.C.; for  Respondent, in support of Petitioner. EVAN A. YOUNG, ESQ., Austin, Texas; for amicus curiae, in support of the judgment below; appointed by this Court.'"
   ]
  },
  {
   "cell_type": "code",
   "execution_count": 36,
   "metadata": {},
   "outputs": [],
   "source": [
    "#ugh"
   ]
  },
  {
   "cell_type": "markdown",
   "metadata": {},
   "source": [
    "#### Title!"
   ]
  },
  {
   "cell_type": "code",
   "execution_count": 37,
   "metadata": {},
   "outputs": [],
   "source": [
    "title = [f for f in listdir(r\"C:\\Users\\Avena Cheng\\Desktop\\Liberating Archives\\supremecourt\\textfiles\") if isfile(join(r\"C:\\Users\\Avena Cheng\\Desktop\\Liberating Archives\\supremecourt\\textfiles\", f))]\n",
    "for i in range(len(title)):\n",
    "    title[i] = re.sub('.pdf.txt','',title[i])\n",
    "title.remove('DatabaseDesign1.ipynb')"
   ]
  },
  {
   "cell_type": "markdown",
   "metadata": {},
   "source": [
    "### ACTUAL DATAFRAME!!!\n",
    "\n",
    "** Note: Some cases only have one justice, Rehnquist, but this is actually because the rest of the questions appear as \"QUESTION:\" rather than the justices' name."
   ]
  },
  {
   "cell_type": "code",
   "execution_count": 38,
   "metadata": {},
   "outputs": [
    {
     "name": "stdout",
     "output_type": "stream",
     "text": [
      "1302 1302 1302 1302 1302\n"
     ]
    }
   ],
   "source": [
    "#make sure they're all the same length\n",
    "print(len(justice),\n",
    "len(title),\n",
    "len(ugh),\n",
    "len(years),\n",
    "len(cases))"
   ]
  },
  {
   "cell_type": "code",
   "execution_count": 39,
   "metadata": {
    "scrolled": true
   },
   "outputs": [],
   "source": [
    "data = pd.DataFrame({'Title':title,'Case No': cases,'Date':dates,'Year':years,'Justices':justice,'Appearances':ugh})#'Justices':justice,'Appearances':people})"
   ]
  },
  {
   "cell_type": "code",
   "execution_count": 40,
   "metadata": {},
   "outputs": [],
   "source": [
    "#data.to_csv(r\"C:\\Users\\Avena Cheng\\Desktop\\Liberating Archives\\supremecourt\\textfiles\\data.csv\")"
   ]
  },
  {
   "cell_type": "code",
   "execution_count": 41,
   "metadata": {
    "scrolled": true
   },
   "outputs": [],
   "source": [
    "data['Appearances'] = data['Appearances'].replace('ignore',bad)"
   ]
  },
  {
   "cell_type": "markdown",
   "metadata": {},
   "source": [
    "#### People!"
   ]
  },
  {
   "cell_type": "code",
   "execution_count": 42,
   "metadata": {},
   "outputs": [],
   "source": [
    "people = []\n",
    "for i in range(len(ugh)):\n",
    "    p = re.findall('[A-Z]+\\s[A-Z\\.\\s]*[A-Z]+',ugh[i])\n",
    "    people += [p]\n",
    "    \n",
    "for i in range(len(people)):\n",
    "    people[i] = \", \".join(people[i])\n",
    "    \n",
    "data['People'] = people"
   ]
  },
  {
   "cell_type": "code",
   "execution_count": 74,
   "metadata": {},
   "outputs": [
    {
     "data": {
      "text/plain": [
       "'PAUL SALVATORE, DAVID C. FREDERICK, CURTIS E. GANNON'"
      ]
     },
     "execution_count": 74,
     "metadata": {},
     "output_type": "execute_result"
    }
   ],
   "source": [
    "for i in range(1302):\n",
    "    p = re.findall('[A-Z]+people[0]"
   ]
  },
  {
   "cell_type": "code",
   "execution_count": 44,
   "metadata": {},
   "outputs": [],
   "source": [
    "check_unique = [justices(i) for i in cleaned]\n"
   ]
  },
  {
   "cell_type": "code",
   "execution_count": 46,
   "metadata": {
    "scrolled": false
   },
   "outputs": [],
   "source": [
    "#unique(justice)"
   ]
  },
  {
   "cell_type": "code",
   "execution_count": 54,
   "metadata": {},
   "outputs": [],
   "source": [
    "import regex as re\n",
    "import numpy\n",
    "import os\n",
    "\n",
    "def unique(texts):\n",
    "    return list(set(texts))\n",
    "\n",
    "#return a set of nonunique bill mentioned in the speech.\n",
    "def bill(texts):\n",
    "    no_num = re.sub('\\d+','',texts)\n",
    "    no_n = re.sub('\\n','',no_num)\n",
    "    evenly_spaced = re.sub('\\s+',' ',no_n)\n",
    "    b= re.findall(\"[A-Z][a-z]+\\s[A-Z][a-z]+\\sAct\", evenly_spaced)\n",
    "    return b\n",
    "#return a set of unique bill mentioned in the speech.\n",
    "def unibill(texts):\n",
    "    return unique(bill(texts))\n",
    "#return the name and times it appears.\n",
    "def count(texts):\n",
    "    bills = bill(texts)\n",
    "    ret = []\n",
    "    for i in range(0,len(bills)):\n",
    "        count = bills.count(bills[i])\n",
    "        ret.append (str(bills[i]) + \" \" + \":\" + ' '+str(count))\n",
    "    return unique(ret)\n"
   ]
  },
  {
   "cell_type": "code",
   "execution_count": 56,
   "metadata": {},
   "outputs": [
    {
     "data": {
      "text/plain": [
       "['Labor Relations Act : 2', 'Labor Standards Act : 1']"
      ]
     },
     "execution_count": 56,
     "metadata": {},
     "output_type": "execute_result"
    }
   ],
   "source": [
    "unibill(cleaned[0])\n",
    "count(cleaned[0])"
   ]
  },
  {
   "cell_type": "code",
   "execution_count": 64,
   "metadata": {},
   "outputs": [],
   "source": [
    "bills_mentioned = []\n",
    "for i in range(len(cleaned)):\n",
    "    bills_mentioned += [count(cleaned[i])]"
   ]
  },
  {
   "cell_type": "code",
   "execution_count": 68,
   "metadata": {},
   "outputs": [
    {
     "data": {
      "text/plain": [
       "1302"
      ]
     },
     "execution_count": 68,
     "metadata": {},
     "output_type": "execute_result"
    }
   ],
   "source": [
    "len(bills_mentioned)"
   ]
  },
  {
   "cell_type": "code",
   "execution_count": 69,
   "metadata": {},
   "outputs": [],
   "source": [
    "data['Bills Mentioned'] = bills_mentioned"
   ]
  },
  {
   "cell_type": "code",
   "execution_count": 70,
   "metadata": {},
   "outputs": [
    {
     "data": {
      "text/html": [
       "<div>\n",
       "<style scoped>\n",
       "    .dataframe tbody tr th:only-of-type {\n",
       "        vertical-align: middle;\n",
       "    }\n",
       "\n",
       "    .dataframe tbody tr th {\n",
       "        vertical-align: top;\n",
       "    }\n",
       "\n",
       "    .dataframe thead th {\n",
       "        text-align: right;\n",
       "    }\n",
       "</style>\n",
       "<table border=\"1\" class=\"dataframe\">\n",
       "  <thead>\n",
       "    <tr style=\"text-align: right;\">\n",
       "      <th></th>\n",
       "      <th>Title</th>\n",
       "      <th>Case No</th>\n",
       "      <th>Date</th>\n",
       "      <th>Year</th>\n",
       "      <th>Justices</th>\n",
       "      <th>Appearances</th>\n",
       "      <th>People</th>\n",
       "      <th>Bills Mentioned</th>\n",
       "    </tr>\n",
       "  </thead>\n",
       "  <tbody>\n",
       "    <tr>\n",
       "      <th>0</th>\n",
       "      <td>14 Penn Plaza LLC v. Pyett</td>\n",
       "      <td>No. 07-581</td>\n",
       "      <td>December 1, 2008</td>\n",
       "      <td>2008</td>\n",
       "      <td>ALITO,  BREYER,  GINSBURG,  KENNEDY,  ROBERTS...</td>\n",
       "      <td>PAUL SALVATORE, ESQ., New York, N.Y.; on behal...</td>\n",
       "      <td>PAUL SALVATORE, DAVID C. FREDERICK, CURTIS E. ...</td>\n",
       "      <td>[Labor Relations Act : 2, Labor Standards Act ...</td>\n",
       "    </tr>\n",
       "    <tr>\n",
       "      <th>1</th>\n",
       "      <td>Abbott v. Perez</td>\n",
       "      <td>No. 17-586</td>\n",
       "      <td>April 24, 2018</td>\n",
       "      <td>2018</td>\n",
       "      <td>ALITO,  BREYER,  GINSBURG,  GORSUCH,  KAGAN, ...</td>\n",
       "      <td>SCOTT A. KELLER, Solicitor General of Texas, ...</td>\n",
       "      <td>SCOTT A. KELLER, EDWIN S. KNEEDLER, MAX RENEA ...</td>\n",
       "      <td>[Voting Rights Act : 3]</td>\n",
       "    </tr>\n",
       "    <tr>\n",
       "      <th>2</th>\n",
       "      <td>Abbott v. United States</td>\n",
       "      <td>No. 09-479</td>\n",
       "      <td>October 4, 2010</td>\n",
       "      <td>2010</td>\n",
       "      <td>ALITO,  BREYER,  GINSBURG,  ROBERTS,  SCALIA,...</td>\n",
       "      <td>DAVID L. HORAN, ESQ., Dallas, Texas; on behalf...</td>\n",
       "      <td>DAVID L. HORAN, JAMES E. RYAN</td>\n",
       "      <td>[Career Criminal Act : 3]</td>\n",
       "    </tr>\n",
       "    <tr>\n",
       "      <th>3</th>\n",
       "      <td>Abdul-Kabir v. Quarterman</td>\n",
       "      <td>No. 05-11284</td>\n",
       "      <td>January 17, 2006</td>\n",
       "      <td>2006</td>\n",
       "      <td>ALITO,  BREYER,  GINSBURG,  KENNEDY,  ROBERTS...</td>\n",
       "      <td>ROBERT C. OWEN, ESQ., Austin, Tex.; on behalf...</td>\n",
       "      <td>ROBERT C. OWEN, EDWARD L. MARSHALL</td>\n",
       "      <td>[]</td>\n",
       "    </tr>\n",
       "    <tr>\n",
       "      <th>4</th>\n",
       "      <td>Abdur_Rahman v. Bell</td>\n",
       "      <td>No. 01-9094</td>\n",
       "      <td>November 6, 2002</td>\n",
       "      <td>2002</td>\n",
       "      <td>REHNQUIST</td>\n",
       "      <td>JAMES S. LIEBMAN, ESQ., New York, New York; on...</td>\n",
       "      <td>JAMES S. LIEBMAN, PAUL G. SUMMERS, PAUL J. ZID...</td>\n",
       "      <td>[]</td>\n",
       "    </tr>\n",
       "    <tr>\n",
       "      <th>5</th>\n",
       "      <td>Abramski v. United States</td>\n",
       "      <td>No. 121493</td>\n",
       "      <td>January 22, 2014</td>\n",
       "      <td>2014</td>\n",
       "      <td>ALITO,  BREYER,  GINSBURG,  KAGAN,  KENNEDY, ...</td>\n",
       "      <td>RICHARD D. DIETZ, ESQ., WinstonSalem, North Ca...</td>\n",
       "      <td>RICHARD D. DIETZ, JOSEPH R. PALMORE</td>\n",
       "      <td>[Gun Control Act : 12, Owners Protection Act : 2]</td>\n",
       "    </tr>\n",
       "    <tr>\n",
       "      <th>6</th>\n",
       "      <td>Abuelhawa v. United States</td>\n",
       "      <td>No. 08-192</td>\n",
       "      <td>March 4, 2009</td>\n",
       "      <td>2009</td>\n",
       "      <td>ALITO,  BREYER,  GINSBURG,  KENNEDY,  ROBERTS...</td>\n",
       "      <td>SRI SRINIVASAN, ESQ., Washington, D.C.; on beh...</td>\n",
       "      <td>SRI SRINIVASAN, ERIC D. MILLER</td>\n",
       "      <td>[The Travel Act : 1, Controlled Substances Act...</td>\n",
       "    </tr>\n",
       "    <tr>\n",
       "      <th>7</th>\n",
       "      <td>Adams v. Florida Power Corp.</td>\n",
       "      <td>No. 01-584</td>\n",
       "      <td>March 20, 2002</td>\n",
       "      <td>2002</td>\n",
       "      <td>REHNQUIST</td>\n",
       "      <td>JOHN J. CRABTREE, ESQ., Key Biscayne, Florida;...</td>\n",
       "      <td>JOHN J. CRABTREE, GLEN D. NAGER</td>\n",
       "      <td>[Age Discrimination Act : 3, Civil Rights Act ...</td>\n",
       "    </tr>\n",
       "    <tr>\n",
       "      <th>8</th>\n",
       "      <td>Adarand Constructors, Inc. v. Mineta</td>\n",
       "      <td>No. 00-730</td>\n",
       "      <td>October 31, 2001</td>\n",
       "      <td>2001</td>\n",
       "      <td>REHNQUIST</td>\n",
       "      <td>WILLIAM P. PENDLEY, ESQ., President and Chief ...</td>\n",
       "      <td>WILLIAM P. PENDLEY, THEODORE B. OLSON</td>\n",
       "      <td>[Small Business Act : 3]</td>\n",
       "    </tr>\n",
       "    <tr>\n",
       "      <th>9</th>\n",
       "      <td>Adoptive Couple v. Baby Girl</td>\n",
       "      <td>No. 12-399</td>\n",
       "      <td>April 16, 2013</td>\n",
       "      <td>2013</td>\n",
       "      <td>ALITO,  BREYER,  GINSBURG,  KAGAN,  KENNEDY, ...</td>\n",
       "      <td>LISA S. BLATT, ESQ., Washington, D.C.; on beha...</td>\n",
       "      <td>LISA S. BLATT, PAUL D. CLEMENT, CHARLES A. ROT...</td>\n",
       "      <td>[Child Welfare Act : 1]</td>\n",
       "    </tr>\n",
       "    <tr>\n",
       "      <th>10</th>\n",
       "      <td>Advocate Health Care Network v. Stapleton</td>\n",
       "      <td>No. 16-74</td>\n",
       "      <td>March 27, 2017</td>\n",
       "      <td>2017</td>\n",
       "      <td>ALITO,  BREYER,  GINSBURG,  KAGAN,  KENNEDY, ...</td>\n",
       "      <td>LISA S. BLATT, ESQ., Washington, D.C.; on beh...</td>\n",
       "      <td>LISA S. BLATT, MALCOLM L. STEWART, JAMES A. FE...</td>\n",
       "      <td>[]</td>\n",
       "    </tr>\n",
       "    <tr>\n",
       "      <th>11</th>\n",
       "      <td>Aetna Health Inc. v. Davila</td>\n",
       "      <td>No. 02-1845</td>\n",
       "      <td>March 23, 2004</td>\n",
       "      <td>2004</td>\n",
       "      <td>REHNQUIST</td>\n",
       "      <td>MIGUEL A. ESTRADA, ESQ., Washington, D.C.; on...</td>\n",
       "      <td>MIGUEL A. ESTRADA, JAMES A. FELDMAN, GEORGE P....</td>\n",
       "      <td>[Management Relations Act : 1]</td>\n",
       "    </tr>\n",
       "    <tr>\n",
       "      <th>12</th>\n",
       "      <td>Agency for Int_l Development v. Alliance for O...</td>\n",
       "      <td>No. 12-10</td>\n",
       "      <td>April 22, 2013</td>\n",
       "      <td>2013</td>\n",
       "      <td>ALITO,  BREYER,  GINSBURG,  KENNEDY,  ROBERTS...</td>\n",
       "      <td>SRI SRINIVASAN, ESQ., Deputy Solicitor General...</td>\n",
       "      <td>SRI SRINIVASAN, DAVID W. BOWKER</td>\n",
       "      <td>[Affordable Care Act : 1]</td>\n",
       "    </tr>\n",
       "    <tr>\n",
       "      <th>13</th>\n",
       "      <td>Air Wisconsin Airlines Corp. v. Hoeper</td>\n",
       "      <td>No. 12315</td>\n",
       "      <td>December 9, 2013</td>\n",
       "      <td>2013</td>\n",
       "      <td>ALITO,  BREYER,  GINSBURG,  KAGAN,  KENNEDY, ...</td>\n",
       "      <td>JONATHAN F. COHN, ESQ., Washington, D.C.; on b...</td>\n",
       "      <td>JONATHAN F. COHN, ERIC J. FEIGIN, KEVIN K. RUS...</td>\n",
       "      <td>[Transportation Security Act : 1]</td>\n",
       "    </tr>\n",
       "    <tr>\n",
       "      <th>14</th>\n",
       "      <td>Air _ Liquid Systems Corp. v. DeVries</td>\n",
       "      <td>No. 17-1104</td>\n",
       "      <td>October 10, 2018</td>\n",
       "      <td>2018</td>\n",
       "      <td>ALITO,  BREYER,  GINSBURG,  GORSUCH,  KAGAN, ...</td>\n",
       "      <td>SHAY DVORETZKY, ESQ., Washington, D.C.; on beh...</td>\n",
       "      <td>SHAY DVORETZKY, THOMAS C. GOLDSTEIN</td>\n",
       "      <td>[]</td>\n",
       "    </tr>\n",
       "    <tr>\n",
       "      <th>15</th>\n",
       "      <td>Alabama Dept. of Revenue v. CSX Transp., Inc.....</td>\n",
       "      <td>No. 13553</td>\n",
       "      <td>December 9, 2014</td>\n",
       "      <td>2014</td>\n",
       "      <td>ALITO,  BREYER,  GINSBURG,  KAGAN,  KENNEDY, ...</td>\n",
       "      <td>ANDREW L. BRASHER, ESQ., solicitor General, Mo...</td>\n",
       "      <td>ANDREW L. BRASHER, ELAINE J. GOLDENBERG, CARTE...</td>\n",
       "      <td>[]</td>\n",
       "    </tr>\n",
       "    <tr>\n",
       "      <th>16</th>\n",
       "      <td>Alabama Dept. of Revenue v. CSX Transp., Inc.</td>\n",
       "      <td>No. 13553</td>\n",
       "      <td>December 9, 2014</td>\n",
       "      <td>2014</td>\n",
       "      <td>ALITO,  BREYER,  GINSBURG,  KAGAN,  KENNEDY, ...</td>\n",
       "      <td>ANDREW L. BRASHER, ESQ., solicitor General, Mo...</td>\n",
       "      <td>ANDREW L. BRASHER, ELAINE J. GOLDENBERG, CARTE...</td>\n",
       "      <td>[]</td>\n",
       "    </tr>\n",
       "    <tr>\n",
       "      <th>17</th>\n",
       "      <td>Alabama Legislative Black Caucus v. Alabama</td>\n",
       "      <td>No. 13895</td>\n",
       "      <td>November 12, 2014</td>\n",
       "      <td>2014</td>\n",
       "      <td>ALITO,  BREYER,  GINSBURG,  KAGAN,  KENNEDY, ...</td>\n",
       "      <td>RICHARD PILDES, ESQ., New York, N.Y.; on behal...</td>\n",
       "      <td>RICHARD PILDES</td>\n",
       "      <td>[Voting Rights Act : 3]</td>\n",
       "    </tr>\n",
       "    <tr>\n",
       "      <th>18</th>\n",
       "      <td>Alabama v. Bozeman</td>\n",
       "      <td>No. 00-492</td>\n",
       "      <td>April 17, 2001</td>\n",
       "      <td>2001</td>\n",
       "      <td>REHNQUIST</td>\n",
       "      <td>SANDRA JEAN STEWART, ESQ., Assistant Attorney ...</td>\n",
       "      <td>SANDRA JEAN STEWART, JEFFREY A. LAMKEN, MARK J...</td>\n",
       "      <td>[]</td>\n",
       "    </tr>\n",
       "    <tr>\n",
       "      <th>19</th>\n",
       "      <td>Alabama v. North Carolina</td>\n",
       "      <td>No. 132</td>\n",
       "      <td>January 11, 2010</td>\n",
       "      <td>2010</td>\n",
       "      <td>ALITO,  BREYER,  GINSBURG,  KENNEDY,  ROBERTS...</td>\n",
       "      <td>CARTER G. PHILLIPS, ESQ., Washington, D.C.; on...</td>\n",
       "      <td>CARTER G. PHILLIPS, EDWIN S. KNEEDLER ESQ, WAL...</td>\n",
       "      <td>[]</td>\n",
       "    </tr>\n",
       "    <tr>\n",
       "      <th>20</th>\n",
       "      <td>Alabama v. Shelton</td>\n",
       "      <td>No. 00-1214</td>\n",
       "      <td>February 19, 2002</td>\n",
       "      <td>2002</td>\n",
       "      <td>REHNQUIST</td>\n",
       "      <td>WILLIAM H. PRYOR, JR., ESQ., Attorney General ...</td>\n",
       "      <td>WILLIAM H. PRYOR, CHARLES FRIED, WILLIAM H. MI...</td>\n",
       "      <td>[]</td>\n",
       "    </tr>\n",
       "    <tr>\n",
       "      <th>21</th>\n",
       "      <td>Alaska Dept. of Environmental Conservation v. EPA</td>\n",
       "      <td>No. 02-658</td>\n",
       "      <td>October 8, 2003</td>\n",
       "      <td>2003</td>\n",
       "      <td>REHNQUIST</td>\n",
       "      <td>JONATHAN S. FRANKLIN, ESQ., Washington, D.C., ...</td>\n",
       "      <td>JONATHAN S. FRANKLIN, THOMAS G. HUNGAR</td>\n",
       "      <td>[Clean Air Act : 3]</td>\n",
       "    </tr>\n",
       "    <tr>\n",
       "      <th>22</th>\n",
       "      <td>Alaska v. United States</td>\n",
       "      <td>No. 128</td>\n",
       "      <td>January 10, 2005</td>\n",
       "      <td>2005</td>\n",
       "      <td>BREYER,  GINSBURG,  KENNEDY,  SCALIA,  SOUTER...</td>\n",
       "      <td>JONATHAN S. FRANKLIN, ESQ., Washington, D.C.;...</td>\n",
       "      <td>JONATHAN S. FRANKLIN, JEFFREY P. MINEAR</td>\n",
       "      <td>[The Antiquities Act : 1, Submerged Lands Act ...</td>\n",
       "    </tr>\n",
       "    <tr>\n",
       "      <th>23</th>\n",
       "      <td>Alexander v. Sandoval</td>\n",
       "      <td>No. 99-1908</td>\n",
       "      <td>January 16, 2001</td>\n",
       "      <td>2001</td>\n",
       "      <td>REHNQUIST</td>\n",
       "      <td>JEFFREY S. SUTTON, ESQ., Columbus, Ohio; on be...</td>\n",
       "      <td>JEFFREY S. SUTTON, ERIC SCHNAPPER, SETH P. WAXMAN</td>\n",
       "      <td>[Voting Rights Act : 2, Civil Rights Act : 3, ...</td>\n",
       "    </tr>\n",
       "    <tr>\n",
       "      <th>24</th>\n",
       "      <td>Ali v. Federal Bureau of Prisons</td>\n",
       "      <td>No. 06-9130</td>\n",
       "      <td>October 29, 2007</td>\n",
       "      <td>2007</td>\n",
       "      <td>ALITO,  BREYER,  GINSBURG,  ROBERTS,  SCALIA,...</td>\n",
       "      <td>JEAN-CLAUDE ANDRE, ESQ., Los Angeles, Cal.; on...</td>\n",
       "      <td>CLAUDE ANDRE, KANNON K. SHANMUGAM</td>\n",
       "      <td>[Tort Claims Act : 1, Federal Arbitration Act ...</td>\n",
       "    </tr>\n",
       "    <tr>\n",
       "      <th>25</th>\n",
       "      <td>Alice Corp. v. CLS Bank Int’l</td>\n",
       "      <td>No. 13298</td>\n",
       "      <td>March 31, 2014</td>\n",
       "      <td>2014</td>\n",
       "      <td>BREYER,  GINSBURG,  KAGAN,  KENNEDY,  ROBERTS...</td>\n",
       "      <td>CARTER G. PHILLIPS, ESQ., Washington, D.C.; on...</td>\n",
       "      <td>CARTER G. PHILLIPS, MARK A. PERRY, DONALD B. V...</td>\n",
       "      <td>[]</td>\n",
       "    </tr>\n",
       "    <tr>\n",
       "      <th>26</th>\n",
       "      <td>Alleyne v. United States</td>\n",
       "      <td>No. 11-9335</td>\n",
       "      <td>January 14, 2013</td>\n",
       "      <td>2013</td>\n",
       "      <td>ALITO,  BREYER,  GINSBURG,  KAGAN,  KENNEDY, ...</td>\n",
       "      <td>MARY E. MAGUIRE, ESQ., Assistant Federal Publi...</td>\n",
       "      <td>MARY E. MAGUIRE, MICHAEL R. DREEBEN</td>\n",
       "      <td>[First Crimes Act : 1]</td>\n",
       "    </tr>\n",
       "    <tr>\n",
       "      <th>27</th>\n",
       "      <td>Allison Engine Co. v. United States Ex Rel. Sa...</td>\n",
       "      <td>No. 07-214</td>\n",
       "      <td>February 26, 2008</td>\n",
       "      <td>2008</td>\n",
       "      <td>ALITO,  BREYER,  GINSBURG,  KENNEDY,  ROBERTS...</td>\n",
       "      <td>THEODORE B. OLSON, ESQ., Washington, D.C.; on ...</td>\n",
       "      <td>THEODORE B. OLSON, MALCOLM L. STEWART, JAMES B...</td>\n",
       "      <td>[False Claims Act : 14]</td>\n",
       "    </tr>\n",
       "    <tr>\n",
       "      <th>28</th>\n",
       "      <td>Already, LLC v. Nike, Inc.</td>\n",
       "      <td>No. 11-982</td>\n",
       "      <td>November 7, 2012</td>\n",
       "      <td>2012</td>\n",
       "      <td>BREYER,  GINSBURG,  KAGAN,  KENNEDY,  ROBERTS...</td>\n",
       "      <td>JAMES W. DABNEY, ESQ., New York, New York; on ...</td>\n",
       "      <td>JAMES W. DABNEY, GINGER D. ANDERS, THOMAS C. G...</td>\n",
       "      <td>[Declaratory Judgment Act : 1]</td>\n",
       "    </tr>\n",
       "    <tr>\n",
       "      <th>29</th>\n",
       "      <td>Altria Group, Inc. v. Good</td>\n",
       "      <td>No. 07-562</td>\n",
       "      <td>October 6, 2008</td>\n",
       "      <td>2008</td>\n",
       "      <td>ALITO,  BREYER,  GINSBURG,  KENNEDY,  ROBERTS...</td>\n",
       "      <td>THEODORE B. OLSON, ESQ., Washington, D.C.; on ...</td>\n",
       "      <td>THEODORE B. OLSON, DAVID C. FREDERICK, DOUGLAS...</td>\n",
       "      <td>[Airline Deregulation Act : 1, Trade Commissio...</td>\n",
       "    </tr>\n",
       "    <tr>\n",
       "      <th>...</th>\n",
       "      <td>...</td>\n",
       "      <td>...</td>\n",
       "      <td>...</td>\n",
       "      <td>...</td>\n",
       "      <td>...</td>\n",
       "      <td>...</td>\n",
       "      <td>...</td>\n",
       "      <td>...</td>\n",
       "    </tr>\n",
       "    <tr>\n",
       "      <th>1272</th>\n",
       "      <td>Williams-Yulee v. Florida Bar</td>\n",
       "      <td>No. 131499</td>\n",
       "      <td>January 20, 2015</td>\n",
       "      <td>2015</td>\n",
       "      <td>ALITO,  BREYER,  GINSBURG,  KAGAN,  KENNEDY, ...</td>\n",
       "      <td>ANDREW J. PINCUS, ESQ., Washington, D.C.; on b...</td>\n",
       "      <td>ANDREW J. PINCUS, BARRY RICHARD</td>\n",
       "      <td>[]</td>\n",
       "    </tr>\n",
       "    <tr>\n",
       "      <th>1273</th>\n",
       "      <td>Williamson v. Mazda Motor of America, Inc.</td>\n",
       "      <td>No. 08-1314</td>\n",
       "      <td>November 3, 2010</td>\n",
       "      <td>2010</td>\n",
       "      <td>ALITO,  BREYER,  GINSBURG,  KENNEDY,  ROBERTS...</td>\n",
       "      <td>MARTIN N. BUCHANAN, ESQ., San Diego, Californi...</td>\n",
       "      <td>MARTIN N. BUCHANAN, WILLIAM M. JAY, GREGORY G....</td>\n",
       "      <td>[Vehicle Safety Act : 1]</td>\n",
       "    </tr>\n",
       "    <tr>\n",
       "      <th>1274</th>\n",
       "      <td>Wilson v. Sellers</td>\n",
       "      <td>No. 16-6855</td>\n",
       "      <td>October 30, 2017</td>\n",
       "      <td>2017</td>\n",
       "      <td>ALITO,  BREYER,  GINSBURG,  GORSUCH,  KAGAN, ...</td>\n",
       "      <td>MARK E. OLIVE, Tallahassee, Florida; on behalf...</td>\n",
       "      <td>MARK E. OLIVE, SARAH HAWKINS WARREN</td>\n",
       "      <td>[]</td>\n",
       "    </tr>\n",
       "    <tr>\n",
       "      <th>1275</th>\n",
       "      <td>Winkelman v. Parma City School Distr.</td>\n",
       "      <td>No. 05-98311</td>\n",
       "      <td>February 27, 2007</td>\n",
       "      <td>2007</td>\n",
       "      <td>ALITO,  BREYER,  GINSBURG,  KENNEDY,  ROBERTS...</td>\n",
       "      <td>JEAN-CLAUDE ANDRE, ESQ., Los Angeles, Cal.; on...</td>\n",
       "      <td>CLAUDE ANDRE</td>\n",
       "      <td>[]</td>\n",
       "    </tr>\n",
       "    <tr>\n",
       "      <th>1276</th>\n",
       "      <td>Winter v. Natural Resources Defense Council, Inc.</td>\n",
       "      <td>No. 07-1239</td>\n",
       "      <td>October 8, 2008</td>\n",
       "      <td>2008</td>\n",
       "      <td>ALITO,  BREYER,  GINSBURG,  KENNEDY,  ROBERTS...</td>\n",
       "      <td>GEN. GREGORY G. GARRE, ESQ., Solicitor General...</td>\n",
       "      <td>GREGORY G. GARRE, RICHARD B. KENDALL</td>\n",
       "      <td>[Mammal Protection Act : 1]</td>\n",
       "    </tr>\n",
       "    <tr>\n",
       "      <th>1277</th>\n",
       "      <td>Wisconsin Central Ltd. v. United States</td>\n",
       "      <td>No. 17-530</td>\n",
       "      <td>April 16, 2018</td>\n",
       "      <td>2018</td>\n",
       "      <td>ALITO,  GINSBURG,  GORSUCH,  KAGAN,  KENNEDY,...</td>\n",
       "      <td>THOMAS H. DUPREE, JR., ESQ., Washington, D.C.;...</td>\n",
       "      <td>THOMAS H. DUPREE, RACHEL P. KOVNER</td>\n",
       "      <td>[Retirement Tax Act : 2]</td>\n",
       "    </tr>\n",
       "    <tr>\n",
       "      <th>1278</th>\n",
       "      <td>Wisconsin Dept. of Health and Family Servs. v....</td>\n",
       "      <td>No. 00-952</td>\n",
       "      <td>December 3, 2001</td>\n",
       "      <td>2001</td>\n",
       "      <td>REHNQUIST,              REHNQUIST</td>\n",
       "      <td>MAUREEN M. FLANAGAN, ESQ., Assistant Attorney ...</td>\n",
       "      <td>MAUREEN M. FLANAGAN, JEFFREY A. LAMKEN, MITCHE...</td>\n",
       "      <td>[Federal Medicaid Act : 1, Catastrophic Covera...</td>\n",
       "    </tr>\n",
       "    <tr>\n",
       "      <th>1279</th>\n",
       "      <td>Wisconsin Right to Life, Inc. v. Federal Elect...</td>\n",
       "      <td>No. 04-1581</td>\n",
       "      <td>January 17, 2006</td>\n",
       "      <td>2006</td>\n",
       "      <td>BREYER,  GINSBURG,  KENNEDY,  ROBERTS,  SCALI...</td>\n",
       "      <td>JAMES BOPP, JR., ESQ., Terre Haute, Indiana; ...</td>\n",
       "      <td>JAMES BOPP, PAUL D. CLEMENT, NW S</td>\n",
       "      <td>[]</td>\n",
       "    </tr>\n",
       "    <tr>\n",
       "      <th>1280</th>\n",
       "      <td>Wittman v. Personhuballah</td>\n",
       "      <td>No. 141504</td>\n",
       "      <td>March 21, 2016</td>\n",
       "      <td>2016</td>\n",
       "      <td>ALITO,  BREYER,  GINSBURG,  KAGAN,  KENNEDY, ...</td>\n",
       "      <td>MICHAEL A. CARVIN, ESQ., Washington, D.C.; on ...</td>\n",
       "      <td>MICHAEL A. CARVIN, STUART A. RAPHAEL, MARC E. ...</td>\n",
       "      <td>[Voting Rights Act : 7]</td>\n",
       "    </tr>\n",
       "    <tr>\n",
       "      <th>1281</th>\n",
       "      <td>Wood v. Allen</td>\n",
       "      <td>No. 08-9156</td>\n",
       "      <td>November 4, 2009</td>\n",
       "      <td>2009</td>\n",
       "      <td>ALITO,  BREYER,  GINSBURG,  KENNEDY,  ROBERTS...</td>\n",
       "      <td>KERRY A. SCANLON, ESQ., Washington, D.C.; on b...</td>\n",
       "      <td>KERRY A. SCANLON, COREY L. MAZE</td>\n",
       "      <td>[]</td>\n",
       "    </tr>\n",
       "    <tr>\n",
       "      <th>1282</th>\n",
       "      <td>Wood v. Milyard</td>\n",
       "      <td>No. 10-9995</td>\n",
       "      <td>February 27, 2012</td>\n",
       "      <td>2012</td>\n",
       "      <td>ALITO,  BREYER,  GINSBURG,  KAGAN,  ROBERTS, ...</td>\n",
       "      <td>KATHLEEN A. LORD, ESQ., Assistant Federal Publ...</td>\n",
       "      <td>KATHLEEN A. LORD, DANIEL D. DOMENICO, MELISSA ...</td>\n",
       "      <td>[]</td>\n",
       "    </tr>\n",
       "    <tr>\n",
       "      <th>1283</th>\n",
       "      <td>Wood v. Moss</td>\n",
       "      <td>No. 13115</td>\n",
       "      <td>March 26, 2014</td>\n",
       "      <td>2014</td>\n",
       "      <td>ALITO,  BREYER,  GINSBURG,  KAGAN,  KENNEDY, ...</td>\n",
       "      <td>IAN H. GERSHENGORN, ESQ., Deputy Solicitor Gen...</td>\n",
       "      <td>IAN H. GERSHENGORN, STEVEN M. WILKER</td>\n",
       "      <td>[]</td>\n",
       "    </tr>\n",
       "    <tr>\n",
       "      <th>1284</th>\n",
       "      <td>Woodford v. Garceau</td>\n",
       "      <td>No. 01-1862</td>\n",
       "      <td>January 21, 2003</td>\n",
       "      <td>2003</td>\n",
       "      <td>REHNQUIST</td>\n",
       "      <td>JANIS S. McLEAN, ESQ., Supervising Deputy Atto...</td>\n",
       "      <td>JANIS S. M, LYNNE S. COFFIN</td>\n",
       "      <td>[]</td>\n",
       "    </tr>\n",
       "    <tr>\n",
       "      <th>1285</th>\n",
       "      <td>Woodford v. Ngo</td>\n",
       "      <td>No. 05-416</td>\n",
       "      <td>March 22, 2006</td>\n",
       "      <td>2006</td>\n",
       "      <td>ALITO,  BREYER,  GINSBURG,  KENNEDY,  ROBERTS...</td>\n",
       "      <td>JENNIFER G. PERKELL, ESQ., Deputy Attorney Ge...</td>\n",
       "      <td>JENNIFER G. PERKELL, DAN HIMMELFARB, MEIR FEDE...</td>\n",
       "      <td>[Age Discrimination Act : 2, Litigation Reform...</td>\n",
       "    </tr>\n",
       "    <tr>\n",
       "      <th>1286</th>\n",
       "      <td>Wyeth v. Levine</td>\n",
       "      <td>No. 06-1249</td>\n",
       "      <td>November 3, 2008</td>\n",
       "      <td>2008</td>\n",
       "      <td>ALITO,  BREYER,  GINSBURG,  KENNEDY,  ROBERTS...</td>\n",
       "      <td>SETH P. WAXMAN, ESQ., Washington, D.C.; on beh...</td>\n",
       "      <td>SETH P. WAXMAN, EDWIN S. KNEEDLER, DAVID C. FR...</td>\n",
       "      <td>[Federal Drug Act : 1, Medical Device Act : 1]</td>\n",
       "    </tr>\n",
       "    <tr>\n",
       "      <th>1287</th>\n",
       "      <td>Yarborough v. Alvarado</td>\n",
       "      <td>No. 02-1684</td>\n",
       "      <td>March 1, 2004</td>\n",
       "      <td>2004</td>\n",
       "      <td>REHNQUIST</td>\n",
       "      <td>DEBORAH J. CHUANG, ESQ., Deputy Attorney Gener...</td>\n",
       "      <td>DEBORAH J. CHUANG, JOHN P. ELWOOD, TARA K. ALLEN</td>\n",
       "      <td>[]</td>\n",
       "    </tr>\n",
       "    <tr>\n",
       "      <th>1288</th>\n",
       "      <td>Yates v. United States</td>\n",
       "      <td>No. 137451</td>\n",
       "      <td>November 5, 2014</td>\n",
       "      <td>2014</td>\n",
       "      <td>ALITO,  BREYER,  GINSBURG,  KAGAN,  KENNEDY, ...</td>\n",
       "      <td>JOHN L. BADALAMENTI, ESQ., Assistant Federal D...</td>\n",
       "      <td>JOHN L. BADALAMENTI, ROMAN MARTINEZ</td>\n",
       "      <td>[Oxley Grouper Act : 1]</td>\n",
       "    </tr>\n",
       "    <tr>\n",
       "      <th>1289</th>\n",
       "      <td>Yeager v. United States</td>\n",
       "      <td>No. 08-67</td>\n",
       "      <td>March 23, 2009</td>\n",
       "      <td>2009</td>\n",
       "      <td>ALITO,  BREYER,  GINSBURG,  KENNEDY,  ROBERTS...</td>\n",
       "      <td>SAMUEL J. BUFFONE, ESQ., Washington, D.C.; on ...</td>\n",
       "      <td>SAMUEL J. BUFFONE, MICHAEL R. DREEBEN</td>\n",
       "      <td>[]</td>\n",
       "    </tr>\n",
       "    <tr>\n",
       "      <th>1290</th>\n",
       "      <td>Yellow Transp. Inc. v. Michigan, et al</td>\n",
       "      <td>No. 01-270</td>\n",
       "      <td>October 7, 2002</td>\n",
       "      <td>2002</td>\n",
       "      <td>REHNQUIST</td>\n",
       "      <td>CHARLES A. ROTHFELD, ESQ., Washington, D.C.; o...</td>\n",
       "      <td>CHARLES A. ROTHFELD, AUSTIN C. SCHLICK, THOMAS...</td>\n",
       "      <td>[Transportation Efficiency Act : 1]</td>\n",
       "    </tr>\n",
       "    <tr>\n",
       "      <th>1291</th>\n",
       "      <td>Young v. United Parcel Service, Inc.</td>\n",
       "      <td>No. 121226</td>\n",
       "      <td>December 3, 2014</td>\n",
       "      <td>2014</td>\n",
       "      <td>ALITO,  BREYER,  GINSBURG,  KAGAN ,  KAGAN,  ...</td>\n",
       "      <td>SAMUEL R. BAGENSTOS, ESQ., Ann Arbor, Mich.; o...</td>\n",
       "      <td>SAMUEL R. BAGENSTOS, DONALD B. VERRILLI, CAITL...</td>\n",
       "      <td>[Civil Rights Act : 1, Pregnancy Discriminatio...</td>\n",
       "    </tr>\n",
       "    <tr>\n",
       "      <th>1292</th>\n",
       "      <td>Young v. United States</td>\n",
       "      <td>No. 00-1567</td>\n",
       "      <td>January 9, 2002</td>\n",
       "      <td>2002</td>\n",
       "      <td>REHNQUIST</td>\n",
       "      <td>GRENVILLE CLARK, III, ESQ., Manchester, New Ha...</td>\n",
       "      <td>GRENVILLE CLARK, PATRICIA A. MILLETT</td>\n",
       "      <td>[]</td>\n",
       "    </tr>\n",
       "    <tr>\n",
       "      <th>1293</th>\n",
       "      <td>Ysursa v. Pocatello Ed. Assn.</td>\n",
       "      <td>No. 07-869</td>\n",
       "      <td>November 3, 2008</td>\n",
       "      <td>2008</td>\n",
       "      <td>ALITO,  BREYER,  GINSBURG,  KENNEDY,  ROBERTS...</td>\n",
       "      <td>CLAY R. SMITH, ESQ., Deputy Attorney General, ...</td>\n",
       "      <td>CLAY R. SMITH, JEREMIAH A. COLLINS</td>\n",
       "      <td>[Federal Power Act : 1, Voluntary Contribution...</td>\n",
       "    </tr>\n",
       "    <tr>\n",
       "      <th>1294</th>\n",
       "      <td>Zadvydas v. Underdown</td>\n",
       "      <td>No. 99-7791</td>\n",
       "      <td>February 21, 2001</td>\n",
       "      <td>2001</td>\n",
       "      <td>REHNQUIST</td>\n",
       "      <td>JAY W. STANSELL, ESQ., Assistant Federal Publi...</td>\n",
       "      <td>JAY W. STANSELL, ROBERT F. BARNARD</td>\n",
       "      <td>[]</td>\n",
       "    </tr>\n",
       "    <tr>\n",
       "      <th>1295</th>\n",
       "      <td>Zedner v. United States</td>\n",
       "      <td>No. 05-5992</td>\n",
       "      <td>April 18, 2006</td>\n",
       "      <td>2006</td>\n",
       "      <td>ALITO,  BREYER,  GINSBURG,  KENNEDY,  ROBERTS...</td>\n",
       "      <td>EDWARD S. ZAS, ESQ., New York, New York; on b...</td>\n",
       "      <td>EDWARD S. ZAS, DARYL JOSEFFER, NW S</td>\n",
       "      <td>[Speedy Trial Act : 14]</td>\n",
       "    </tr>\n",
       "    <tr>\n",
       "      <th>1296</th>\n",
       "      <td>Zelman v. Simmons-Harris</td>\n",
       "      <td>No. 00-1751</td>\n",
       "      <td>February 20, 2002</td>\n",
       "      <td>2002</td>\n",
       "      <td>REHNQUIST</td>\n",
       "      <td>JUDITH L. FRENCH, ESQ., Assistant Attorney Ge...</td>\n",
       "      <td>JUDITH L. FRENCH, DAVID J. YOUNG, THEODORE B. ...</td>\n",
       "      <td>[Community School Act : 1]</td>\n",
       "    </tr>\n",
       "    <tr>\n",
       "      <th>1297</th>\n",
       "      <td>Ziglar v. Abbasi</td>\n",
       "      <td>No. 15-1358</td>\n",
       "      <td>January 18, 2017</td>\n",
       "      <td>2017</td>\n",
       "      <td>ALITO,  BREYER,  GINSBURG,  KENNEDY,  ROBERTS</td>\n",
       "      <td>IAN H. GERSHENGORN, ESQ., Acting Solicitor Ge...</td>\n",
       "      <td>IAN H. GERSHENGORN, JEFFREY A. LAMKEN, RACHEL ...</td>\n",
       "      <td>[Administrative Procedures Act : 1]</td>\n",
       "    </tr>\n",
       "    <tr>\n",
       "      <th>1298</th>\n",
       "      <td>Zivotofsky v. Clinton</td>\n",
       "      <td>No. 10-699</td>\n",
       "      <td>November 7, 2011</td>\n",
       "      <td>2011</td>\n",
       "      <td>ALITO,  BREYER,  GINSBURG,  KAGAN,  KENNEDY, ...</td>\n",
       "      <td>NATHAN LEWIN, ESQ., Washington, D.C.; on behal...</td>\n",
       "      <td>NATHAN LEWIN, DONALD B. VERRILLI</td>\n",
       "      <td>[]</td>\n",
       "    </tr>\n",
       "    <tr>\n",
       "      <th>1299</th>\n",
       "      <td>Zivotofsky v. Kerry</td>\n",
       "      <td>No. 13628</td>\n",
       "      <td>November 3, 2014</td>\n",
       "      <td>2014</td>\n",
       "      <td>ALITO,  BREYER,  GINSBURG,  KAGAN,  KENNEDY, ...</td>\n",
       "      <td>ALYZA D. LEWIN, ESQ., Washington, D.C.; on beh...</td>\n",
       "      <td>ALYZA D. LEWIN, DONALD B. VERRILLI</td>\n",
       "      <td>[Taiwan Relations Act : 2, Jerusalem Embassy A...</td>\n",
       "    </tr>\n",
       "    <tr>\n",
       "      <th>1300</th>\n",
       "      <td>Zubik v. Burwell</td>\n",
       "      <td>No. 141418</td>\n",
       "      <td>March 23, 2016</td>\n",
       "      <td>2016</td>\n",
       "      <td>ALITO,  BREYER,  GINSBURG,  KAGAN,  KENNEDY, ...</td>\n",
       "      <td>PAUL D. CLEMENT, ESQ., Washington, D.C.; on be...</td>\n",
       "      <td>PAUL D. CLEMENT, NOEL FRANCISCO, DONALD B. VER...</td>\n",
       "      <td>[Affordable Care Act : 1, Freedom Restoration ...</td>\n",
       "    </tr>\n",
       "    <tr>\n",
       "      <th>1301</th>\n",
       "      <td>Zuni Public School Dist. v. Department of Educ...</td>\n",
       "      <td>No. 05-1508</td>\n",
       "      <td>January 10, 2007</td>\n",
       "      <td>2007</td>\n",
       "      <td>ALITO,  BREYER,  GINSBURG,  KENNEDY,  ROBERTS...</td>\n",
       "      <td>RONALD J. VAN AMBERG, ESQ., Santa Fe, N.M.; on...</td>\n",
       "      <td>RONALD J. VAN AMBERG, SRI SRINIVASAN, LEIGH M....</td>\n",
       "      <td>[Impact Aid Act : 4]</td>\n",
       "    </tr>\n",
       "  </tbody>\n",
       "</table>\n",
       "<p>1302 rows × 8 columns</p>\n",
       "</div>"
      ],
      "text/plain": [
       "                                                  Title       Case No  \\\n",
       "0                            14 Penn Plaza LLC v. Pyett    No. 07-581   \n",
       "1                                       Abbott v. Perez    No. 17-586   \n",
       "2                               Abbott v. United States    No. 09-479   \n",
       "3                             Abdul-Kabir v. Quarterman  No. 05-11284   \n",
       "4                                  Abdur_Rahman v. Bell   No. 01-9094   \n",
       "5                             Abramski v. United States    No. 121493   \n",
       "6                            Abuelhawa v. United States    No. 08-192   \n",
       "7                          Adams v. Florida Power Corp.    No. 01-584   \n",
       "8                  Adarand Constructors, Inc. v. Mineta    No. 00-730   \n",
       "9                          Adoptive Couple v. Baby Girl    No. 12-399   \n",
       "10            Advocate Health Care Network v. Stapleton     No. 16-74   \n",
       "11                          Aetna Health Inc. v. Davila   No. 02-1845   \n",
       "12    Agency for Int_l Development v. Alliance for O...     No. 12-10   \n",
       "13               Air Wisconsin Airlines Corp. v. Hoeper     No. 12315   \n",
       "14                Air _ Liquid Systems Corp. v. DeVries   No. 17-1104   \n",
       "15    Alabama Dept. of Revenue v. CSX Transp., Inc.....     No. 13553   \n",
       "16        Alabama Dept. of Revenue v. CSX Transp., Inc.     No. 13553   \n",
       "17          Alabama Legislative Black Caucus v. Alabama     No. 13895   \n",
       "18                                   Alabama v. Bozeman    No. 00-492   \n",
       "19                            Alabama v. North Carolina       No. 132   \n",
       "20                                   Alabama v. Shelton   No. 00-1214   \n",
       "21    Alaska Dept. of Environmental Conservation v. EPA    No. 02-658   \n",
       "22                              Alaska v. United States       No. 128   \n",
       "23                                Alexander v. Sandoval   No. 99-1908   \n",
       "24                     Ali v. Federal Bureau of Prisons   No. 06-9130   \n",
       "25                        Alice Corp. v. CLS Bank Int’l     No. 13298   \n",
       "26                             Alleyne v. United States   No. 11-9335   \n",
       "27    Allison Engine Co. v. United States Ex Rel. Sa...    No. 07-214   \n",
       "28                           Already, LLC v. Nike, Inc.    No. 11-982   \n",
       "29                           Altria Group, Inc. v. Good    No. 07-562   \n",
       "...                                                 ...           ...   \n",
       "1272                      Williams-Yulee v. Florida Bar    No. 131499   \n",
       "1273         Williamson v. Mazda Motor of America, Inc.   No. 08-1314   \n",
       "1274                                  Wilson v. Sellers   No. 16-6855   \n",
       "1275              Winkelman v. Parma City School Distr.  No. 05-98311   \n",
       "1276  Winter v. Natural Resources Defense Council, Inc.   No. 07-1239   \n",
       "1277            Wisconsin Central Ltd. v. United States    No. 17-530   \n",
       "1278  Wisconsin Dept. of Health and Family Servs. v....    No. 00-952   \n",
       "1279  Wisconsin Right to Life, Inc. v. Federal Elect...   No. 04-1581   \n",
       "1280                          Wittman v. Personhuballah    No. 141504   \n",
       "1281                                      Wood v. Allen   No. 08-9156   \n",
       "1282                                    Wood v. Milyard   No. 10-9995   \n",
       "1283                                       Wood v. Moss     No. 13115   \n",
       "1284                                Woodford v. Garceau   No. 01-1862   \n",
       "1285                                    Woodford v. Ngo    No. 05-416   \n",
       "1286                                    Wyeth v. Levine   No. 06-1249   \n",
       "1287                             Yarborough v. Alvarado   No. 02-1684   \n",
       "1288                             Yates v. United States    No. 137451   \n",
       "1289                            Yeager v. United States     No. 08-67   \n",
       "1290             Yellow Transp. Inc. v. Michigan, et al    No. 01-270   \n",
       "1291               Young v. United Parcel Service, Inc.    No. 121226   \n",
       "1292                             Young v. United States   No. 00-1567   \n",
       "1293                      Ysursa v. Pocatello Ed. Assn.    No. 07-869   \n",
       "1294                              Zadvydas v. Underdown   No. 99-7791   \n",
       "1295                            Zedner v. United States   No. 05-5992   \n",
       "1296                           Zelman v. Simmons-Harris   No. 00-1751   \n",
       "1297                                   Ziglar v. Abbasi   No. 15-1358   \n",
       "1298                              Zivotofsky v. Clinton    No. 10-699   \n",
       "1299                                Zivotofsky v. Kerry     No. 13628   \n",
       "1300                                   Zubik v. Burwell    No. 141418   \n",
       "1301  Zuni Public School Dist. v. Department of Educ...   No. 05-1508   \n",
       "\n",
       "                    Date  Year  \\\n",
       "0       December 1, 2008  2008   \n",
       "1         April 24, 2018  2018   \n",
       "2        October 4, 2010  2010   \n",
       "3       January 17, 2006  2006   \n",
       "4       November 6, 2002  2002   \n",
       "5       January 22, 2014  2014   \n",
       "6          March 4, 2009  2009   \n",
       "7         March 20, 2002  2002   \n",
       "8       October 31, 2001  2001   \n",
       "9         April 16, 2013  2013   \n",
       "10        March 27, 2017  2017   \n",
       "11        March 23, 2004  2004   \n",
       "12        April 22, 2013  2013   \n",
       "13      December 9, 2013  2013   \n",
       "14      October 10, 2018  2018   \n",
       "15      December 9, 2014  2014   \n",
       "16      December 9, 2014  2014   \n",
       "17     November 12, 2014  2014   \n",
       "18        April 17, 2001  2001   \n",
       "19      January 11, 2010  2010   \n",
       "20     February 19, 2002  2002   \n",
       "21       October 8, 2003  2003   \n",
       "22      January 10, 2005  2005   \n",
       "23      January 16, 2001  2001   \n",
       "24      October 29, 2007  2007   \n",
       "25        March 31, 2014  2014   \n",
       "26      January 14, 2013  2013   \n",
       "27     February 26, 2008  2008   \n",
       "28      November 7, 2012  2012   \n",
       "29       October 6, 2008  2008   \n",
       "...                  ...   ...   \n",
       "1272    January 20, 2015  2015   \n",
       "1273    November 3, 2010  2010   \n",
       "1274    October 30, 2017  2017   \n",
       "1275   February 27, 2007  2007   \n",
       "1276     October 8, 2008  2008   \n",
       "1277      April 16, 2018  2018   \n",
       "1278    December 3, 2001  2001   \n",
       "1279    January 17, 2006  2006   \n",
       "1280      March 21, 2016  2016   \n",
       "1281    November 4, 2009  2009   \n",
       "1282   February 27, 2012  2012   \n",
       "1283      March 26, 2014  2014   \n",
       "1284    January 21, 2003  2003   \n",
       "1285      March 22, 2006  2006   \n",
       "1286    November 3, 2008  2008   \n",
       "1287       March 1, 2004  2004   \n",
       "1288    November 5, 2014  2014   \n",
       "1289      March 23, 2009  2009   \n",
       "1290     October 7, 2002  2002   \n",
       "1291    December 3, 2014  2014   \n",
       "1292     January 9, 2002  2002   \n",
       "1293    November 3, 2008  2008   \n",
       "1294   February 21, 2001  2001   \n",
       "1295      April 18, 2006  2006   \n",
       "1296   February 20, 2002  2002   \n",
       "1297    January 18, 2017  2017   \n",
       "1298    November 7, 2011  2011   \n",
       "1299    November 3, 2014  2014   \n",
       "1300      March 23, 2016  2016   \n",
       "1301    January 10, 2007  2007   \n",
       "\n",
       "                                               Justices  \\\n",
       "0      ALITO,  BREYER,  GINSBURG,  KENNEDY,  ROBERTS...   \n",
       "1      ALITO,  BREYER,  GINSBURG,  GORSUCH,  KAGAN, ...   \n",
       "2      ALITO,  BREYER,  GINSBURG,  ROBERTS,  SCALIA,...   \n",
       "3      ALITO,  BREYER,  GINSBURG,  KENNEDY,  ROBERTS...   \n",
       "4                                             REHNQUIST   \n",
       "5      ALITO,  BREYER,  GINSBURG,  KAGAN,  KENNEDY, ...   \n",
       "6      ALITO,  BREYER,  GINSBURG,  KENNEDY,  ROBERTS...   \n",
       "7                                             REHNQUIST   \n",
       "8                                             REHNQUIST   \n",
       "9      ALITO,  BREYER,  GINSBURG,  KAGAN,  KENNEDY, ...   \n",
       "10     ALITO,  BREYER,  GINSBURG,  KAGAN,  KENNEDY, ...   \n",
       "11                                            REHNQUIST   \n",
       "12     ALITO,  BREYER,  GINSBURG,  KENNEDY,  ROBERTS...   \n",
       "13     ALITO,  BREYER,  GINSBURG,  KAGAN,  KENNEDY, ...   \n",
       "14     ALITO,  BREYER,  GINSBURG,  GORSUCH,  KAGAN, ...   \n",
       "15     ALITO,  BREYER,  GINSBURG,  KAGAN,  KENNEDY, ...   \n",
       "16     ALITO,  BREYER,  GINSBURG,  KAGAN,  KENNEDY, ...   \n",
       "17     ALITO,  BREYER,  GINSBURG,  KAGAN,  KENNEDY, ...   \n",
       "18                                            REHNQUIST   \n",
       "19     ALITO,  BREYER,  GINSBURG,  KENNEDY,  ROBERTS...   \n",
       "20                                            REHNQUIST   \n",
       "21                                            REHNQUIST   \n",
       "22     BREYER,  GINSBURG,  KENNEDY,  SCALIA,  SOUTER...   \n",
       "23                                            REHNQUIST   \n",
       "24     ALITO,  BREYER,  GINSBURG,  ROBERTS,  SCALIA,...   \n",
       "25     BREYER,  GINSBURG,  KAGAN,  KENNEDY,  ROBERTS...   \n",
       "26     ALITO,  BREYER,  GINSBURG,  KAGAN,  KENNEDY, ...   \n",
       "27     ALITO,  BREYER,  GINSBURG,  KENNEDY,  ROBERTS...   \n",
       "28     BREYER,  GINSBURG,  KAGAN,  KENNEDY,  ROBERTS...   \n",
       "29     ALITO,  BREYER,  GINSBURG,  KENNEDY,  ROBERTS...   \n",
       "...                                                 ...   \n",
       "1272   ALITO,  BREYER,  GINSBURG,  KAGAN,  KENNEDY, ...   \n",
       "1273   ALITO,  BREYER,  GINSBURG,  KENNEDY,  ROBERTS...   \n",
       "1274   ALITO,  BREYER,  GINSBURG,  GORSUCH,  KAGAN, ...   \n",
       "1275   ALITO,  BREYER,  GINSBURG,  KENNEDY,  ROBERTS...   \n",
       "1276   ALITO,  BREYER,  GINSBURG,  KENNEDY,  ROBERTS...   \n",
       "1277   ALITO,  GINSBURG,  GORSUCH,  KAGAN,  KENNEDY,...   \n",
       "1278                  REHNQUIST,              REHNQUIST   \n",
       "1279   BREYER,  GINSBURG,  KENNEDY,  ROBERTS,  SCALI...   \n",
       "1280   ALITO,  BREYER,  GINSBURG,  KAGAN,  KENNEDY, ...   \n",
       "1281   ALITO,  BREYER,  GINSBURG,  KENNEDY,  ROBERTS...   \n",
       "1282   ALITO,  BREYER,  GINSBURG,  KAGAN,  ROBERTS, ...   \n",
       "1283   ALITO,  BREYER,  GINSBURG,  KAGAN,  KENNEDY, ...   \n",
       "1284                                          REHNQUIST   \n",
       "1285   ALITO,  BREYER,  GINSBURG,  KENNEDY,  ROBERTS...   \n",
       "1286   ALITO,  BREYER,  GINSBURG,  KENNEDY,  ROBERTS...   \n",
       "1287                                          REHNQUIST   \n",
       "1288   ALITO,  BREYER,  GINSBURG,  KAGAN,  KENNEDY, ...   \n",
       "1289   ALITO,  BREYER,  GINSBURG,  KENNEDY,  ROBERTS...   \n",
       "1290                                          REHNQUIST   \n",
       "1291   ALITO,  BREYER,  GINSBURG,  KAGAN ,  KAGAN,  ...   \n",
       "1292                                          REHNQUIST   \n",
       "1293   ALITO,  BREYER,  GINSBURG,  KENNEDY,  ROBERTS...   \n",
       "1294                                          REHNQUIST   \n",
       "1295   ALITO,  BREYER,  GINSBURG,  KENNEDY,  ROBERTS...   \n",
       "1296                                          REHNQUIST   \n",
       "1297      ALITO,  BREYER,  GINSBURG,  KENNEDY,  ROBERTS   \n",
       "1298   ALITO,  BREYER,  GINSBURG,  KAGAN,  KENNEDY, ...   \n",
       "1299   ALITO,  BREYER,  GINSBURG,  KAGAN,  KENNEDY, ...   \n",
       "1300   ALITO,  BREYER,  GINSBURG,  KAGAN,  KENNEDY, ...   \n",
       "1301   ALITO,  BREYER,  GINSBURG,  KENNEDY,  ROBERTS...   \n",
       "\n",
       "                                            Appearances  \\\n",
       "0     PAUL SALVATORE, ESQ., New York, N.Y.; on behal...   \n",
       "1      SCOTT A. KELLER, Solicitor General of Texas, ...   \n",
       "2     DAVID L. HORAN, ESQ., Dallas, Texas; on behalf...   \n",
       "3      ROBERT C. OWEN, ESQ., Austin, Tex.; on behalf...   \n",
       "4     JAMES S. LIEBMAN, ESQ., New York, New York; on...   \n",
       "5     RICHARD D. DIETZ, ESQ., WinstonSalem, North Ca...   \n",
       "6     SRI SRINIVASAN, ESQ., Washington, D.C.; on beh...   \n",
       "7     JOHN J. CRABTREE, ESQ., Key Biscayne, Florida;...   \n",
       "8     WILLIAM P. PENDLEY, ESQ., President and Chief ...   \n",
       "9     LISA S. BLATT, ESQ., Washington, D.C.; on beha...   \n",
       "10     LISA S. BLATT, ESQ., Washington, D.C.; on beh...   \n",
       "11     MIGUEL A. ESTRADA, ESQ., Washington, D.C.; on...   \n",
       "12    SRI SRINIVASAN, ESQ., Deputy Solicitor General...   \n",
       "13    JONATHAN F. COHN, ESQ., Washington, D.C.; on b...   \n",
       "14    SHAY DVORETZKY, ESQ., Washington, D.C.; on beh...   \n",
       "15    ANDREW L. BRASHER, ESQ., solicitor General, Mo...   \n",
       "16    ANDREW L. BRASHER, ESQ., solicitor General, Mo...   \n",
       "17    RICHARD PILDES, ESQ., New York, N.Y.; on behal...   \n",
       "18    SANDRA JEAN STEWART, ESQ., Assistant Attorney ...   \n",
       "19    CARTER G. PHILLIPS, ESQ., Washington, D.C.; on...   \n",
       "20    WILLIAM H. PRYOR, JR., ESQ., Attorney General ...   \n",
       "21    JONATHAN S. FRANKLIN, ESQ., Washington, D.C., ...   \n",
       "22     JONATHAN S. FRANKLIN, ESQ., Washington, D.C.;...   \n",
       "23    JEFFREY S. SUTTON, ESQ., Columbus, Ohio; on be...   \n",
       "24    JEAN-CLAUDE ANDRE, ESQ., Los Angeles, Cal.; on...   \n",
       "25    CARTER G. PHILLIPS, ESQ., Washington, D.C.; on...   \n",
       "26    MARY E. MAGUIRE, ESQ., Assistant Federal Publi...   \n",
       "27    THEODORE B. OLSON, ESQ., Washington, D.C.; on ...   \n",
       "28    JAMES W. DABNEY, ESQ., New York, New York; on ...   \n",
       "29    THEODORE B. OLSON, ESQ., Washington, D.C.; on ...   \n",
       "...                                                 ...   \n",
       "1272  ANDREW J. PINCUS, ESQ., Washington, D.C.; on b...   \n",
       "1273  MARTIN N. BUCHANAN, ESQ., San Diego, Californi...   \n",
       "1274  MARK E. OLIVE, Tallahassee, Florida; on behalf...   \n",
       "1275  JEAN-CLAUDE ANDRE, ESQ., Los Angeles, Cal.; on...   \n",
       "1276  GEN. GREGORY G. GARRE, ESQ., Solicitor General...   \n",
       "1277  THOMAS H. DUPREE, JR., ESQ., Washington, D.C.;...   \n",
       "1278  MAUREEN M. FLANAGAN, ESQ., Assistant Attorney ...   \n",
       "1279   JAMES BOPP, JR., ESQ., Terre Haute, Indiana; ...   \n",
       "1280  MICHAEL A. CARVIN, ESQ., Washington, D.C.; on ...   \n",
       "1281  KERRY A. SCANLON, ESQ., Washington, D.C.; on b...   \n",
       "1282  KATHLEEN A. LORD, ESQ., Assistant Federal Publ...   \n",
       "1283  IAN H. GERSHENGORN, ESQ., Deputy Solicitor Gen...   \n",
       "1284  JANIS S. McLEAN, ESQ., Supervising Deputy Atto...   \n",
       "1285   JENNIFER G. PERKELL, ESQ., Deputy Attorney Ge...   \n",
       "1286  SETH P. WAXMAN, ESQ., Washington, D.C.; on beh...   \n",
       "1287  DEBORAH J. CHUANG, ESQ., Deputy Attorney Gener...   \n",
       "1288  JOHN L. BADALAMENTI, ESQ., Assistant Federal D...   \n",
       "1289  SAMUEL J. BUFFONE, ESQ., Washington, D.C.; on ...   \n",
       "1290  CHARLES A. ROTHFELD, ESQ., Washington, D.C.; o...   \n",
       "1291  SAMUEL R. BAGENSTOS, ESQ., Ann Arbor, Mich.; o...   \n",
       "1292  GRENVILLE CLARK, III, ESQ., Manchester, New Ha...   \n",
       "1293  CLAY R. SMITH, ESQ., Deputy Attorney General, ...   \n",
       "1294  JAY W. STANSELL, ESQ., Assistant Federal Publi...   \n",
       "1295   EDWARD S. ZAS, ESQ., New York, New York; on b...   \n",
       "1296   JUDITH L. FRENCH, ESQ., Assistant Attorney Ge...   \n",
       "1297   IAN H. GERSHENGORN, ESQ., Acting Solicitor Ge...   \n",
       "1298  NATHAN LEWIN, ESQ., Washington, D.C.; on behal...   \n",
       "1299  ALYZA D. LEWIN, ESQ., Washington, D.C.; on beh...   \n",
       "1300  PAUL D. CLEMENT, ESQ., Washington, D.C.; on be...   \n",
       "1301  RONALD J. VAN AMBERG, ESQ., Santa Fe, N.M.; on...   \n",
       "\n",
       "                                                 People  \\\n",
       "0     PAUL SALVATORE, DAVID C. FREDERICK, CURTIS E. ...   \n",
       "1     SCOTT A. KELLER, EDWIN S. KNEEDLER, MAX RENEA ...   \n",
       "2                         DAVID L. HORAN, JAMES E. RYAN   \n",
       "3                    ROBERT C. OWEN, EDWARD L. MARSHALL   \n",
       "4     JAMES S. LIEBMAN, PAUL G. SUMMERS, PAUL J. ZID...   \n",
       "5                   RICHARD D. DIETZ, JOSEPH R. PALMORE   \n",
       "6                        SRI SRINIVASAN, ERIC D. MILLER   \n",
       "7                       JOHN J. CRABTREE, GLEN D. NAGER   \n",
       "8                 WILLIAM P. PENDLEY, THEODORE B. OLSON   \n",
       "9     LISA S. BLATT, PAUL D. CLEMENT, CHARLES A. ROT...   \n",
       "10    LISA S. BLATT, MALCOLM L. STEWART, JAMES A. FE...   \n",
       "11    MIGUEL A. ESTRADA, JAMES A. FELDMAN, GEORGE P....   \n",
       "12                      SRI SRINIVASAN, DAVID W. BOWKER   \n",
       "13    JONATHAN F. COHN, ERIC J. FEIGIN, KEVIN K. RUS...   \n",
       "14                  SHAY DVORETZKY, THOMAS C. GOLDSTEIN   \n",
       "15    ANDREW L. BRASHER, ELAINE J. GOLDENBERG, CARTE...   \n",
       "16    ANDREW L. BRASHER, ELAINE J. GOLDENBERG, CARTE...   \n",
       "17                                       RICHARD PILDES   \n",
       "18    SANDRA JEAN STEWART, JEFFREY A. LAMKEN, MARK J...   \n",
       "19    CARTER G. PHILLIPS, EDWIN S. KNEEDLER ESQ, WAL...   \n",
       "20    WILLIAM H. PRYOR, CHARLES FRIED, WILLIAM H. MI...   \n",
       "21               JONATHAN S. FRANKLIN, THOMAS G. HUNGAR   \n",
       "22              JONATHAN S. FRANKLIN, JEFFREY P. MINEAR   \n",
       "23    JEFFREY S. SUTTON, ERIC SCHNAPPER, SETH P. WAXMAN   \n",
       "24                    CLAUDE ANDRE, KANNON K. SHANMUGAM   \n",
       "25    CARTER G. PHILLIPS, MARK A. PERRY, DONALD B. V...   \n",
       "26                  MARY E. MAGUIRE, MICHAEL R. DREEBEN   \n",
       "27    THEODORE B. OLSON, MALCOLM L. STEWART, JAMES B...   \n",
       "28    JAMES W. DABNEY, GINGER D. ANDERS, THOMAS C. G...   \n",
       "29    THEODORE B. OLSON, DAVID C. FREDERICK, DOUGLAS...   \n",
       "...                                                 ...   \n",
       "1272                    ANDREW J. PINCUS, BARRY RICHARD   \n",
       "1273  MARTIN N. BUCHANAN, WILLIAM M. JAY, GREGORY G....   \n",
       "1274                MARK E. OLIVE, SARAH HAWKINS WARREN   \n",
       "1275                                       CLAUDE ANDRE   \n",
       "1276               GREGORY G. GARRE, RICHARD B. KENDALL   \n",
       "1277                 THOMAS H. DUPREE, RACHEL P. KOVNER   \n",
       "1278  MAUREEN M. FLANAGAN, JEFFREY A. LAMKEN, MITCHE...   \n",
       "1279                  JAMES BOPP, PAUL D. CLEMENT, NW S   \n",
       "1280  MICHAEL A. CARVIN, STUART A. RAPHAEL, MARC E. ...   \n",
       "1281                    KERRY A. SCANLON, COREY L. MAZE   \n",
       "1282  KATHLEEN A. LORD, DANIEL D. DOMENICO, MELISSA ...   \n",
       "1283               IAN H. GERSHENGORN, STEVEN M. WILKER   \n",
       "1284                        JANIS S. M, LYNNE S. COFFIN   \n",
       "1285  JENNIFER G. PERKELL, DAN HIMMELFARB, MEIR FEDE...   \n",
       "1286  SETH P. WAXMAN, EDWIN S. KNEEDLER, DAVID C. FR...   \n",
       "1287   DEBORAH J. CHUANG, JOHN P. ELWOOD, TARA K. ALLEN   \n",
       "1288                JOHN L. BADALAMENTI, ROMAN MARTINEZ   \n",
       "1289              SAMUEL J. BUFFONE, MICHAEL R. DREEBEN   \n",
       "1290  CHARLES A. ROTHFELD, AUSTIN C. SCHLICK, THOMAS...   \n",
       "1291  SAMUEL R. BAGENSTOS, DONALD B. VERRILLI, CAITL...   \n",
       "1292               GRENVILLE CLARK, PATRICIA A. MILLETT   \n",
       "1293                 CLAY R. SMITH, JEREMIAH A. COLLINS   \n",
       "1294                 JAY W. STANSELL, ROBERT F. BARNARD   \n",
       "1295                EDWARD S. ZAS, DARYL JOSEFFER, NW S   \n",
       "1296  JUDITH L. FRENCH, DAVID J. YOUNG, THEODORE B. ...   \n",
       "1297  IAN H. GERSHENGORN, JEFFREY A. LAMKEN, RACHEL ...   \n",
       "1298                   NATHAN LEWIN, DONALD B. VERRILLI   \n",
       "1299                 ALYZA D. LEWIN, DONALD B. VERRILLI   \n",
       "1300  PAUL D. CLEMENT, NOEL FRANCISCO, DONALD B. VER...   \n",
       "1301  RONALD J. VAN AMBERG, SRI SRINIVASAN, LEIGH M....   \n",
       "\n",
       "                                        Bills Mentioned  \n",
       "0     [Labor Relations Act : 2, Labor Standards Act ...  \n",
       "1                               [Voting Rights Act : 3]  \n",
       "2                             [Career Criminal Act : 3]  \n",
       "3                                                    []  \n",
       "4                                                    []  \n",
       "5     [Gun Control Act : 12, Owners Protection Act : 2]  \n",
       "6     [The Travel Act : 1, Controlled Substances Act...  \n",
       "7     [Age Discrimination Act : 3, Civil Rights Act ...  \n",
       "8                              [Small Business Act : 3]  \n",
       "9                               [Child Welfare Act : 1]  \n",
       "10                                                   []  \n",
       "11                       [Management Relations Act : 1]  \n",
       "12                            [Affordable Care Act : 1]  \n",
       "13                    [Transportation Security Act : 1]  \n",
       "14                                                   []  \n",
       "15                                                   []  \n",
       "16                                                   []  \n",
       "17                              [Voting Rights Act : 3]  \n",
       "18                                                   []  \n",
       "19                                                   []  \n",
       "20                                                   []  \n",
       "21                                  [Clean Air Act : 3]  \n",
       "22    [The Antiquities Act : 1, Submerged Lands Act ...  \n",
       "23    [Voting Rights Act : 2, Civil Rights Act : 3, ...  \n",
       "24    [Tort Claims Act : 1, Federal Arbitration Act ...  \n",
       "25                                                   []  \n",
       "26                               [First Crimes Act : 1]  \n",
       "27                              [False Claims Act : 14]  \n",
       "28                       [Declaratory Judgment Act : 1]  \n",
       "29    [Airline Deregulation Act : 1, Trade Commissio...  \n",
       "...                                                 ...  \n",
       "1272                                                 []  \n",
       "1273                           [Vehicle Safety Act : 1]  \n",
       "1274                                                 []  \n",
       "1275                                                 []  \n",
       "1276                        [Mammal Protection Act : 1]  \n",
       "1277                           [Retirement Tax Act : 2]  \n",
       "1278  [Federal Medicaid Act : 1, Catastrophic Covera...  \n",
       "1279                                                 []  \n",
       "1280                            [Voting Rights Act : 7]  \n",
       "1281                                                 []  \n",
       "1282                                                 []  \n",
       "1283                                                 []  \n",
       "1284                                                 []  \n",
       "1285  [Age Discrimination Act : 2, Litigation Reform...  \n",
       "1286     [Federal Drug Act : 1, Medical Device Act : 1]  \n",
       "1287                                                 []  \n",
       "1288                            [Oxley Grouper Act : 1]  \n",
       "1289                                                 []  \n",
       "1290                [Transportation Efficiency Act : 1]  \n",
       "1291  [Civil Rights Act : 1, Pregnancy Discriminatio...  \n",
       "1292                                                 []  \n",
       "1293  [Federal Power Act : 1, Voluntary Contribution...  \n",
       "1294                                                 []  \n",
       "1295                            [Speedy Trial Act : 14]  \n",
       "1296                         [Community School Act : 1]  \n",
       "1297                [Administrative Procedures Act : 1]  \n",
       "1298                                                 []  \n",
       "1299  [Taiwan Relations Act : 2, Jerusalem Embassy A...  \n",
       "1300  [Affordable Care Act : 1, Freedom Restoration ...  \n",
       "1301                               [Impact Aid Act : 4]  \n",
       "\n",
       "[1302 rows x 8 columns]"
      ]
     },
     "execution_count": 70,
     "metadata": {},
     "output_type": "execute_result"
    }
   ],
   "source": []
  },
  {
   "cell_type": "code",
   "execution_count": 77,
   "metadata": {},
   "outputs": [],
   "source": [
    "bills_db = data[['Title','Case No','Date','Bills Mentioned']]"
   ]
  },
  {
   "cell_type": "code",
   "execution_count": 80,
   "metadata": {},
   "outputs": [],
   "source": [
    "bills_db.to_csv('bills_db.csv')"
   ]
  },
  {
   "cell_type": "code",
   "execution_count": null,
   "metadata": {},
   "outputs": [],
   "source": []
  }
 ],
 "metadata": {
  "kernelspec": {
   "display_name": "Python 3",
   "language": "python",
   "name": "python3"
  },
  "language_info": {
   "codemirror_mode": {
    "name": "ipython",
    "version": 3
   },
   "file_extension": ".py",
   "mimetype": "text/x-python",
   "name": "python",
   "nbconvert_exporter": "python",
   "pygments_lexer": "ipython3",
   "version": "3.6.5"
  }
 },
 "nbformat": 4,
 "nbformat_minor": 2
}
