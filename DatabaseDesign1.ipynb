{
 "cells": [
  {
   "cell_type": "code",
   "execution_count": 91,
   "metadata": {},
   "outputs": [],
   "source": [
    "import pandas as pd\n",
    "import regex as re\n",
    "import numpy as np\n",
    "import os\n",
    "\n",
    "# Read in a plain text file\n",
    "with open(os.path.join(\"trial1.txt\"), \"r\") as f:\n",
    "    text1 = f.read()\n",
    "with open(os.path.join(\"trial2.txt\"), \"r\") as f:\n",
    "    text2= f.read()\n",
    "with open(os.path.join(\"trial3.txt\"), \"r\") as f:\n",
    "    text3= f.read()\n",
    "    \n",
    "    \n",
    "with open(os.path.join(\"web scraping04-1350.pdf.txt\"), \"r\") as f:\n",
    "    text4= f.read()\n",
    "with open(os.path.join(\"web scraping05-1056.pdf.txt\"), \"r\") as f:\n",
    "    text5= f.read()\n",
    "with open(os.path.join(\"web scraping05-1074.pdf.txt\"), \"r\") as f:\n",
    "    text6= f.read()\n",
    "with open(os.path.join(\"web scraping05-1120.pdf.txt\"), \"r\") as f:\n",
    "    text7= f.read()\n",
    "with open(os.path.join(\"web scraping07-1125.pdf.txt\"), \"r\") as f:\n",
    "    text8= f.read()\n",
    "with open(os.path.join(\"web scraping07-1437.pdf.txt\"), \"r\") as f:\n",
    "    text9= f.read()\n",
    "with open(os.path.join(\"web scraping08-322.pdf.txt\"), \"r\") as f:\n",
    "    text10= f.read()\n",
    "with open(os.path.join(\"web scraping10-1121.pdf.txt\"), \"r\") as f:\n",
    "    text11= f.read()\n",
    "with open(os.path.join(\"web scraping11-262.pdf.txt\"), \"r\") as f:\n",
    "    text12= f.read()\n",
    "with open(os.path.join(\"web scraping12-1408.pdf.txt\"), \"r\") as f:\n",
    "    text13= f.read()\n",
    "with open(os.path.join(\"web scraping14-1516.pdf.txt\"), \"r\") as f:\n",
    "    text14= f.read()\n",
    "with open(os.path.join(\"web scraping17-5716.pdf.txt\"), \"r\") as f:\n",
    "    text15= f.read()"
   ]
  },
  {
   "cell_type": "code",
   "execution_count": 92,
   "metadata": {},
   "outputs": [],
   "source": [
    "t = [text1,text2,text3]\n",
    "#print(text1)\n",
    "t1 = [text4,text5,text6,text7,text8,text9,text10,text11,text12,text13,text14,text15]"
   ]
  },
  {
   "cell_type": "code",
   "execution_count": 93,
   "metadata": {},
   "outputs": [],
   "source": [
    "cleaned = []\n",
    "for txt in t1:\n",
    "    clean = re.sub('\\xad','',txt)\n",
    "    clean = re.sub('\\n','',clean)\n",
    "    clean = re.sub('\\\\\\\\','',clean)\n",
    "    cleaned += [clean]"
   ]
  },
  {
   "cell_type": "markdown",
   "metadata": {},
   "source": [
    "### **Finding Justices Present**"
   ]
  },
  {
   "cell_type": "code",
   "execution_count": 94,
   "metadata": {},
   "outputs": [],
   "source": [
    "def unique(lst):\n",
    "    uni = []\n",
    "    for i in lst:\n",
    "        if i not in uni:\n",
    "            uni += [i]\n",
    "    return uni"
   ]
  },
  {
   "cell_type": "code",
   "execution_count": 95,
   "metadata": {},
   "outputs": [],
   "source": [
    "def case_no(txt):\n",
    "    return unique(re.findall('No.\\s\\d+[-]*\\d+',txt))"
   ]
  },
  {
   "cell_type": "code",
   "execution_count": 96,
   "metadata": {},
   "outputs": [
    {
     "name": "stdout",
     "output_type": "stream",
     "text": [
      "['No. 04-1350']\n",
      "['No. 05-1056']\n",
      "['No. 05-1074']\n",
      "['No. 05-1120']\n",
      "['No. 07-1125']\n",
      "['No. 07-1437']\n",
      "['No. 08-322']\n",
      "['No. 10-1121']\n",
      "['No. 11-262']\n",
      "['No. 121408']\n",
      "['No. 141516']\n",
      "['No. 17-5716']\n"
     ]
    }
   ],
   "source": [
    "for i in cleaned:\n",
    "    print(case_no(i))"
   ]
  },
  {
   "cell_type": "code",
   "execution_count": 97,
   "metadata": {},
   "outputs": [],
   "source": [
    "def justices(texts):\n",
    "    d = {}\n",
    "    for txt in texts:\n",
    "        num = case_no(txt)[0]\n",
    "        j = re.findall('JUSTICE[A-Z\\s]+:',txt)\n",
    "        justice = sorted(unique(j))\n",
    "        cleaned_list = [justice[i][:-1] for i in range(len(justice))]\n",
    "        d[num] = cleaned_list\n",
    "    return d"
   ]
  },
  {
   "cell_type": "markdown",
   "metadata": {},
   "source": [
    "## **Date, Year**"
   ]
  },
  {
   "cell_type": "code",
   "execution_count": 8,
   "metadata": {},
   "outputs": [],
   "source": [
    "def date(text):\n",
    "    return re.findall('\\w+\\s+\\d+,\\s+\\d{4}',text)[0]"
   ]
  },
  {
   "cell_type": "code",
   "execution_count": 137,
   "metadata": {},
   "outputs": [],
   "source": [
    "def year(text):\n",
    "    return re.findall('\\d\\d\\d\\d',date(text))"
   ]
  },
  {
   "cell_type": "code",
   "execution_count": 11,
   "metadata": {},
   "outputs": [],
   "source": [
    "#This doesn't work\n",
    "def title(text):\n",
    "    s = re.findall('[-\\s]*[\\w\\n\\s\\d.,\\/#!$%\\^&\\*;:{}=\\-_`~()]*[-\\s]*',text)[0]\n",
    "    s1 = re.findall('\\w+\\s\\w+\\s\\w+',s)\n",
    "    first = re.findall('\\s\\w+',s1[0])\n",
    "    first = ''.join(first)\n",
    "    last = re.findall('\\s\\w+',s1[1])\n",
    "    last = ''.join(last)\n",
    "    title = first + ' v.'+last\n",
    "    return title"
   ]
  },
  {
   "cell_type": "markdown",
   "metadata": {},
   "source": [
    "## **Appearances**"
   ]
  },
  {
   "cell_type": "code",
   "execution_count": 101,
   "metadata": {},
   "outputs": [],
   "source": [
    "def appearances(text):\n",
    "    app = re.findall('APPEARANCES:[\\s\\S]*?Reporting',text)[0]\n",
    "    app = re.findall('[\\s\\S]*?;[\\s\\S]*?\\.',app)\n",
    "    app = [re.sub('\\d','',app[i]) for i in range(len(app))]\n",
    "    remove_appearance = re.sub('APPEARANCES:\\s','',app[0])\n",
    "    app[0] = remove_appearance\n",
    "    app = [re.sub('[\\s\\s]+',' ',app[i]) for i in range(len(app))]\n",
    "    return app"
   ]
  },
  {
   "cell_type": "code",
   "execution_count": 102,
   "metadata": {
    "scrolled": true
   },
   "outputs": [
    {
     "name": "stdout",
     "output_type": "stream",
     "text": [
      "JAMES W. DABNEY, ESQ., New York, N.Y.; on behalf of Petitioner.\n",
      " THOMAS G. HUNGAR, ESQ., Deputy Solicitor General, Department of Justice, Washington, D.C.; on behalf of the United States, as amicus curiae, supporting Petitioner.\n",
      "-----------------------\n",
      "THEODORE B. OLSON, ESQ., Washington, D.C.; on behalf of Petitioner.\n",
      " DARYL JOSEFFER, ESQ., Assistant to the Solicitor General, Department of Justice, Washington, D.C.; On behalf of the United States, as amicus curiae, supporting Petitioner.\n",
      " SETH P. WAXMAN, ESQ., Washington, D.C.; on behalf of Respondent.\n",
      "-----------------------\n",
      "KEVIN K. RUSSELL, ESQ., Washington, D.C.; on behalf of the Petitioner.\n",
      " GLEN D. NAGER, ESQ., Washington, D.C.; on behalf of the Respondent.\n",
      " IRVING L. GORNSTEIN, ESQ., Assistant to the Solicitor General, Department of Justice, Washington, D.C.; as amicus curiae on behalf of the Respondent.\n",
      "-----------------------\n",
      "JAMES R. MILKEY, ESQ., Assistant Attorney General, Boston, Mass; on behalf of Petitioners.\n",
      " GREGORY C. GARRE, ESQ., Deputy Solicitor General, Department of Justice, Washington, D.C.; on behalf of Respondents.\n",
      "-----------------------\n",
      "CHARLES A. ROTHFELD, ESQ., Washington, D.C.; on behalf of the Petitioners.\n",
      " KAY H. HODGE, ESQ., Boston, Mass.; on behalf of the Respondents.\n",
      "-----------------------\n",
      "GLENN W. RHODES, ESQ., San Francisco, Cal.; on behalf of the Petitioner.\n",
      " THEODORE S. ALLISON, ESQ., Washington, D.C.; on behalf of the Respondents.\n",
      "-----------------------\n",
      "GREGORY S. COLEMAN, ESQ., Austin, Tex.; on behalf of the Appellant.\n",
      " NEAL K. KATYAL, ESQ., Deputy Solicitor General, Department of Justice, Washington, D.C.; on behalf of the Appellee Holder.\n",
      " DEBO P. ADEGBILE, ESQ., New York, N.Y.; on behalf of the Intervenor-Appellees.\n",
      "-----------------------\n",
      "WILLIAM J. YOUNG, ESQ., Springfield, Virginia; for Petitioners.\n",
      " JEREMIAH COLLINS, ESQ., Washington, D.C.; for Respondent.\n",
      "-----------------------\n",
      "SEAN R. GALLAGHER, ESQ., Denver, Colorado; for Petitioners.\n",
      " SRI SRINIVASAN, ESQ., Principal Deputy Solicitor General, Department of Justice, Washington, D.C.; for the United States, as amicus curiae, supporting Petitioners.\n",
      " DAVID A. LANE, ESQ., Denver, Colorado; for Respondent.\n",
      "-----------------------\n",
      "ERIC J. FEIGIN, ESQ., Assistant to the Solicitor General, Department of Justice, Washington, D.C.; on behalf of Petitioner.\n",
      " ROBERT S. HERTZBERG, ESQ., Southfield, Michigan; on behalf of Respondents.\n",
      "-----------------------\n",
      "CAROLYN E. SHAPIRO, ESQ., Solicitor General of Illinois, Chicago, Ill.; on behalf of Petitioner.\n",
      " BARRY LEVENSTAM, ESQ., Chicago, Ill.; on behalf of Respondent.\n",
      "-----------------------\n",
      "JEFFREY L. FISHER, ESQ., Stanford, California; on behalf of the Petitioners.\n",
      " ERIC J. FEIGIN, Assistant to the Solicitor General, Department of Justice, Washington, D.C.; on behalf of the Respondent.\n",
      "-----------------------\n"
     ]
    }
   ],
   "source": [
    "for i in cleaned:\n",
    "    app = appearances(i)\n",
    "    for j in app:\n",
    "        print(j)\n",
    "    print('-----------------------')"
   ]
  },
  {
   "cell_type": "markdown",
   "metadata": {},
   "source": [
    "## **Sentiment Analysis**"
   ]
  },
  {
   "cell_type": "code",
   "execution_count": 14,
   "metadata": {},
   "outputs": [
    {
     "name": "stdout",
     "output_type": "stream",
     "text": [
      "Collecting vaderSentiment\n",
      "  Using cached https://files.pythonhosted.org/packages/86/9e/c53e1fc61aac5ee490a6ac5e21b1ac04e55a7c2aba647bb8411c9aadf24e/vaderSentiment-3.2.1-py2.py3-none-any.whl\n",
      "Installing collected packages: vaderSentiment\n",
      "Successfully installed vaderSentiment-3.2.1\n"
     ]
    }
   ],
   "source": [
    "!pip install vaderSentiment"
   ]
  },
  {
   "cell_type": "code",
   "execution_count": 15,
   "metadata": {},
   "outputs": [],
   "source": [
    "from vaderSentiment.vaderSentiment import SentimentIntensityAnalyzer"
   ]
  },
  {
   "cell_type": "code",
   "execution_count": 16,
   "metadata": {},
   "outputs": [
    {
     "name": "stdout",
     "output_type": "stream",
     "text": [
      "VADER is smart, handsome, and funny.----------------------------- {'neg': 0.0, 'neu': 0.254, 'pos': 0.746, 'compound': 0.8316}\n",
      "VADER is smart, handsome, and funny!----------------------------- {'neg': 0.0, 'neu': 0.248, 'pos': 0.752, 'compound': 0.8439}\n",
      "VADER is very smart, handsome, and funny.------------------------ {'neg': 0.0, 'neu': 0.299, 'pos': 0.701, 'compound': 0.8545}\n",
      "VADER is VERY SMART, handsome, and FUNNY.------------------------ {'neg': 0.0, 'neu': 0.246, 'pos': 0.754, 'compound': 0.9227}\n",
      "VADER is VERY SMART, handsome, and FUNNY!!!---------------------- {'neg': 0.0, 'neu': 0.233, 'pos': 0.767, 'compound': 0.9342}\n",
      "VADER is VERY SMART, uber handsome, and FRIGGIN FUNNY!!!--------- {'neg': 0.0, 'neu': 0.294, 'pos': 0.706, 'compound': 0.9469}\n",
      "VADER is not smart, handsome, nor funny.------------------------- {'neg': 0.646, 'neu': 0.354, 'pos': 0.0, 'compound': -0.7424}\n",
      "The book was good.----------------------------------------------- {'neg': 0.0, 'neu': 0.508, 'pos': 0.492, 'compound': 0.4404}\n",
      "At least it isn't a horrible book.------------------------------- {'neg': 0.0, 'neu': 0.637, 'pos': 0.363, 'compound': 0.431}\n",
      "The book was only kind of good.---------------------------------- {'neg': 0.0, 'neu': 0.697, 'pos': 0.303, 'compound': 0.3832}\n",
      "The plot was good, but the characters are uncompelling and the dialog is not great. {'neg': 0.327, 'neu': 0.579, 'pos': 0.094, 'compound': -0.7042}\n",
      "Today SUX!------------------------------------------------------- {'neg': 0.779, 'neu': 0.221, 'pos': 0.0, 'compound': -0.5461}\n",
      "Today only kinda sux! But I'll get by, lol----------------------- {'neg': 0.127, 'neu': 0.556, 'pos': 0.317, 'compound': 0.5249}\n",
      "Make sure you :) or :D today!------------------------------------ {'neg': 0.0, 'neu': 0.294, 'pos': 0.706, 'compound': 0.8633}\n",
      "Catch utf-8 emoji such as such as 💘 and 💋 and 😁------------------ {'neg': 0.0, 'neu': 0.746, 'pos': 0.254, 'compound': 0.7003}\n",
      "Not bad at all--------------------------------------------------- {'neg': 0.0, 'neu': 0.513, 'pos': 0.487, 'compound': 0.431}\n"
     ]
    }
   ],
   "source": [
    "#DEMO\n",
    "sentences = [\"VADER is smart, handsome, and funny.\",  # positive sentence example\n",
    "             \"VADER is smart, handsome, and funny!\",  # punctuation emphasis handled correctly (sentiment intensity adjusted)\n",
    "             \"VADER is very smart, handsome, and funny.\", # booster words handled correctly (sentiment intensity adjusted)\n",
    "             \"VADER is VERY SMART, handsome, and FUNNY.\",  # emphasis for ALLCAPS handled\n",
    "             \"VADER is VERY SMART, handsome, and FUNNY!!!\", # combination of signals - VADER appropriately adjusts intensity\n",
    "             \"VADER is VERY SMART, uber handsome, and FRIGGIN FUNNY!!!\", # booster words & punctuation make this close to ceiling for score\n",
    "             \"VADER is not smart, handsome, nor funny.\",  # negation sentence example\n",
    "             \"The book was good.\",  # positive sentence\n",
    "             \"At least it isn't a horrible book.\",  # negated negative sentence with contraction\n",
    "             \"The book was only kind of good.\", # qualified positive sentence is handled correctly (intensity adjusted)\n",
    "             \"The plot was good, but the characters are uncompelling and the dialog is not great.\", # mixed negation sentence\n",
    "             \"Today SUX!\",  # negative slang with capitalization emphasis\n",
    "             \"Today only kinda sux! But I'll get by, lol\", # mixed sentiment example with slang and constrastive conjunction \"but\"\n",
    "             \"Make sure you :) or :D today!\",  # emoticons handled\n",
    "             \"Catch utf-8 emoji such as such as 💘 and 💋 and 😁\",  # emojis handled\n",
    "             \"Not bad at all\"  # Capitalized negation\n",
    "             ]\n",
    "analyzer = SentimentIntensityAnalyzer()\n",
    "for sentence in sentences:\n",
    "    vs = analyzer.polarity_scores(sentence)\n",
    "    print(\"{:-<65} {}\".format(sentence, str(vs)))"
   ]
  },
  {
   "cell_type": "code",
   "execution_count": 17,
   "metadata": {
    "scrolled": true
   },
   "outputs": [
    {
     "data": {
      "text/plain": [
       "'APPEARANCES:     THOMAS H. DUPREE, JR., ESQ., Washington, D.C.; on     behalf of the Petitioners.     RACHEL P. KOVNER, Assistant to the Solicitor General,     Department of Justice, Washington, D.C.; on     behalf of the Respondent.        Heritage Reporting Corporation   \\x0cOfficial     C O N T E N T S    ORAL ARGUMENT OF:    THOMAS H. DUPREE, JR., ESQ.    On behalf of the Petitioners    ORAL ARGUMENT OF:    RACHEL P. KOVNER, ESQ.    On behalf of the Respondent    REBUTTAL ARGUMENT OF:    THOMAS H. DUPREE, ESQ.    On behalf of the Petitioners                  Heritage Reporting Corporation   PAGE:        \\x0cOfficial     P R O C E E D I N G S     (: a.m.)     CHIEF JUSTICE ROBERTS:  We\\'ll hear     argument first this morning in Case -,     Wisconsin Central versus the United States.     Mr. Dupree.     ORAL ARGUMENT OF THOMAS H. DUPREE, JR.     ON BEHALF OF THE PETITIONERS      MR. DUPREE:  Mr. Chief Justice, and   may it please the Court:     The Railroad Retirement Tax Act levies     a payroll tax on railroad employees\\' money     remuneration.    case is whether remuneration in shares of stock     is remuneration in money.     The question presented in this   We believe it is not for a simple     reason.    of \"money\" is a generally accepted medium of     exchange.    buy -'"
      ]
     },
     "execution_count": 17,
     "metadata": {},
     "output_type": "execute_result"
    }
   ],
   "source": [
    "sent1 = re.sub('\\d','',text1.replace('\\n',' '))\n",
    "sents = re.findall('[A-Z]+:[\\w\\n\\s\\d\\.,\\/#!\\$%\\'\\^&\\\\\\\"*;:{}=\\-\\_`~()]*',sent1)\n",
    "#print(text1)\n",
    "sents[0]"
   ]
  },
  {
   "cell_type": "code",
   "execution_count": null,
   "metadata": {},
   "outputs": [],
   "source": []
  },
  {
   "cell_type": "code",
   "execution_count": null,
   "metadata": {},
   "outputs": [],
   "source": []
  },
  {
   "cell_type": "code",
   "execution_count": null,
   "metadata": {},
   "outputs": [],
   "source": []
  },
  {
   "cell_type": "markdown",
   "metadata": {},
   "source": [
    "# **Building the DataFrame**"
   ]
  },
  {
   "cell_type": "code",
   "execution_count": 154,
   "metadata": {},
   "outputs": [],
   "source": [
    "##Running functions over files\n",
    "\n",
    "cases = [case_no(i)[0] for i in cleaned]\n",
    "justice = [justices(cleaned).get(num) for num in cases]\n",
    "dates = [date(i) for i in cleaned]\n",
    "years = [year(i)[0] for i in cleaned]\n",
    "people = [appearances(i) for i in cleaned]"
   ]
  },
  {
   "cell_type": "code",
   "execution_count": 150,
   "metadata": {
    "scrolled": true
   },
   "outputs": [],
   "source": [
    "data = pd.DataFrame({'Case No': cases,'Justices':justice,'Date': dates,'Year':years,'Appearances':people})"
   ]
  },
  {
   "cell_type": "code",
   "execution_count": 158,
   "metadata": {},
   "outputs": [
    {
     "data": {
      "text/html": [
       "<div>\n",
       "<style scoped>\n",
       "    .dataframe tbody tr th:only-of-type {\n",
       "        vertical-align: middle;\n",
       "    }\n",
       "\n",
       "    .dataframe tbody tr th {\n",
       "        vertical-align: top;\n",
       "    }\n",
       "\n",
       "    .dataframe thead th {\n",
       "        text-align: right;\n",
       "    }\n",
       "</style>\n",
       "<table border=\"1\" class=\"dataframe\">\n",
       "  <thead>\n",
       "    <tr style=\"text-align: right;\">\n",
       "      <th></th>\n",
       "      <th>Case No</th>\n",
       "      <th>Justices</th>\n",
       "      <th>Date</th>\n",
       "      <th>Year</th>\n",
       "      <th>Appearances</th>\n",
       "    </tr>\n",
       "  </thead>\n",
       "  <tbody>\n",
       "    <tr>\n",
       "      <th>0</th>\n",
       "      <td>No. 04-1350</td>\n",
       "      <td>[JUSTICE ALITO, JUSTICE BREYER, JUSTICE GINSBU...</td>\n",
       "      <td>November 28, 2006</td>\n",
       "      <td>2006</td>\n",
       "      <td>[JAMES W. DABNEY, ESQ., New York, N.Y.; on beh...</td>\n",
       "    </tr>\n",
       "    <tr>\n",
       "      <th>1</th>\n",
       "      <td>No. 05-1056</td>\n",
       "      <td>[JUSTICE ALITO, JUSTICE BREYER, JUSTICE GINSBU...</td>\n",
       "      <td>February 21, 2007</td>\n",
       "      <td>2007</td>\n",
       "      <td>[THEODORE B. OLSON, ESQ., Washington, D.C.; on...</td>\n",
       "    </tr>\n",
       "    <tr>\n",
       "      <th>2</th>\n",
       "      <td>No. 05-1074</td>\n",
       "      <td>[JUSTICE ALITO, JUSTICE BREYER, JUSTICE GINSBU...</td>\n",
       "      <td>November 27, 2006</td>\n",
       "      <td>2006</td>\n",
       "      <td>[KEVIN K. RUSSELL, ESQ., Washington, D.C.; on ...</td>\n",
       "    </tr>\n",
       "    <tr>\n",
       "      <th>3</th>\n",
       "      <td>No. 05-1120</td>\n",
       "      <td>[JUSTICE ALITO, JUSTICE BREYER, JUSTICE GINSBU...</td>\n",
       "      <td>November 29, 2006</td>\n",
       "      <td>2006</td>\n",
       "      <td>[JAMES R. MILKEY, ESQ., Assistant Attorney Gen...</td>\n",
       "    </tr>\n",
       "    <tr>\n",
       "      <th>4</th>\n",
       "      <td>No. 07-1125</td>\n",
       "      <td>[JUSTICE BREYER, JUSTICE GINSBURG, JUSTICE KEN...</td>\n",
       "      <td>December 2, 2008</td>\n",
       "      <td>2008</td>\n",
       "      <td>[CHARLES A. ROTHFELD, ESQ., Washington, D.C.; ...</td>\n",
       "    </tr>\n",
       "  </tbody>\n",
       "</table>\n",
       "</div>"
      ],
      "text/plain": [
       "       Case No                                           Justices  \\\n",
       "0  No. 04-1350  [JUSTICE ALITO, JUSTICE BREYER, JUSTICE GINSBU...   \n",
       "1  No. 05-1056  [JUSTICE ALITO, JUSTICE BREYER, JUSTICE GINSBU...   \n",
       "2  No. 05-1074  [JUSTICE ALITO, JUSTICE BREYER, JUSTICE GINSBU...   \n",
       "3  No. 05-1120  [JUSTICE ALITO, JUSTICE BREYER, JUSTICE GINSBU...   \n",
       "4  No. 07-1125  [JUSTICE BREYER, JUSTICE GINSBURG, JUSTICE KEN...   \n",
       "\n",
       "                Date  Year                                        Appearances  \n",
       "0  November 28, 2006  2006  [JAMES W. DABNEY, ESQ., New York, N.Y.; on beh...  \n",
       "1  February 21, 2007  2007  [THEODORE B. OLSON, ESQ., Washington, D.C.; on...  \n",
       "2  November 27, 2006  2006  [KEVIN K. RUSSELL, ESQ., Washington, D.C.; on ...  \n",
       "3  November 29, 2006  2006  [JAMES R. MILKEY, ESQ., Assistant Attorney Gen...  \n",
       "4   December 2, 2008  2008  [CHARLES A. ROTHFELD, ESQ., Washington, D.C.; ...  "
      ]
     },
     "execution_count": 158,
     "metadata": {},
     "output_type": "execute_result"
    }
   ],
   "source": [
    "data.head()"
   ]
  },
  {
   "cell_type": "code",
   "execution_count": 157,
   "metadata": {
    "scrolled": false
   },
   "outputs": [
    {
     "data": {
      "text/plain": [
       "0    2006-11-28\n",
       "1    2007-02-21\n",
       "2    2006-11-27\n",
       "3    2006-11-29\n",
       "4    2008-12-02\n",
       "5    2009-02-24\n",
       "6    2009-04-29\n",
       "7    2012-01-10\n",
       "8    2012-03-21\n",
       "9    2014-01-14\n",
       "10   2016-01-12\n",
       "11   2018-03-27\n",
       "Name: Date, dtype: datetime64[ns]"
      ]
     },
     "execution_count": 157,
     "metadata": {},
     "output_type": "execute_result"
    }
   ],
   "source": [
    "pd.to_datetime(data['Date'])"
   ]
  },
  {
   "cell_type": "code",
   "execution_count": null,
   "metadata": {},
   "outputs": [],
   "source": []
  }
 ],
 "metadata": {
  "kernelspec": {
   "display_name": "Python 3",
   "language": "python",
   "name": "python3"
  },
  "language_info": {
   "codemirror_mode": {
    "name": "ipython",
    "version": 3
   },
   "file_extension": ".py",
   "mimetype": "text/x-python",
   "name": "python",
   "nbconvert_exporter": "python",
   "pygments_lexer": "ipython3",
   "version": "3.6.5"
  }
 },
 "nbformat": 4,
 "nbformat_minor": 2
}
