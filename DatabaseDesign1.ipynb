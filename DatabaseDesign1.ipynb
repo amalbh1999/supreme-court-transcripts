{
 "cells": [
  {
   "cell_type": "markdown",
   "metadata": {},
   "source": [
    "## **Supreme Court Transcripts Database Design**\n",
    "\n",
    "### Contents:\n",
    " 1. Finding Justices Present\n",
    " 2. Date, Year\n",
    " 3. Appearances\n",
    " 4. Sentiment Analysis \n",
    " 5. Building the DataFrame\n",
    " \n",
    "## Note to Everyone: Make sure you've uploaded the textfiles from this folder: https://drive.google.com/drive/folders/1aepNIVRUS0rwu-m_fqK7KnWEqhyJFBvW my directory might be different from yours so make sure to check !"
   ]
  },
  {
   "cell_type": "code",
   "execution_count": 1,
   "metadata": {
    "scrolled": true
   },
   "outputs": [],
   "source": [
    "import pandas as pd\n",
    "import regex as re\n",
    "import numpy as np\n",
    "import os\n",
    "from os import listdir\n",
    "from os.path import isfile,join\n",
    "\n",
    "# Read in a plain text file\n",
    "files = []\n",
    "path = r\"C:\\Users\\Avena Cheng\\Desktop\\Liberating Archives\\supremecourt\\textfiles\\\\\"\n",
    "for i in os.listdir(r\"C:\\Users\\Avena Cheng\\Desktop\\Liberating Archives\\supremecourt\\textfiles\"):\n",
    "    if i.endswith('.txt'):\n",
    "        text = open(path+i,encoding=\"utf8\").read()\n",
    "        files.append(text)"
   ]
  },
  {
   "cell_type": "code",
   "execution_count": 2,
   "metadata": {},
   "outputs": [
    {
     "data": {
      "text/plain": [
       "1302"
      ]
     },
     "execution_count": 2,
     "metadata": {},
     "output_type": "execute_result"
    }
   ],
   "source": [
    "len(files)"
   ]
  },
  {
   "cell_type": "code",
   "execution_count": 401,
   "metadata": {},
   "outputs": [],
   "source": [
    "cleaned = []\n",
    "for txt in files:\n",
    "    clean = re.sub('\\xad','',txt)\n",
    "    clean = re.sub('\\n','',clean)\n",
    "    clean = re.sub('’',\"\\\\'\",clean)\n",
    "    clean = re.sub('\\\\\\\\','',clean)\n",
    "    cleaned += [clean]"
   ]
  },
  {
   "cell_type": "code",
   "execution_count": 402,
   "metadata": {},
   "outputs": [],
   "source": [
    "instances = unique(re.findall('JUSTICE\\s[A-Z]+:',cleaned[0]))\n",
    "for i in range(len(instances)):\n",
    "    instances[i] = re.sub(':','',instances[i])"
   ]
  },
  {
   "cell_type": "code",
   "execution_count": 403,
   "metadata": {},
   "outputs": [
    {
     "data": {
      "text/plain": [
       "['JUSTICE ALITO',\n",
       " 'JUSTICE SOUTER',\n",
       " 'JUSTICE ROBERTS',\n",
       " 'JUSTICE SCALIA',\n",
       " 'JUSTICE STEVENS',\n",
       " 'JUSTICE KENNEDY',\n",
       " 'JUSTICE BREYER',\n",
       " 'JUSTICE GINSBURG']"
      ]
     },
     "execution_count": 403,
     "metadata": {},
     "output_type": "execute_result"
    }
   ],
   "source": [
    "instances"
   ]
  },
  {
   "cell_type": "code",
   "execution_count": 404,
   "metadata": {},
   "outputs": [],
   "source": [
    "## FIXING SPELLING ERRORS\n",
    "for transcript in cleaned:\n",
    "    transcript = re.sub('JUSTICE SC[A-Z]+:','JUSTICE SCALIA:',transcript)\n",
    "    transcript = re.sub('JUSTICE KEN[A-Z]+','JUSTICE KENNEDY:',transcript)\n",
    "    transcript = re.sub('JUSTICE [A-Z]+OUT[A-Z]+:','JUSTICE SOUTER:',transcript)\n",
    "    transcript = re.sub('JUSTICE BRE[A-Z]+:','JUSTICE BREYER:',transcript)\n",
    "    transcript = re.sub('JUSTICE GIN[A-Z]+:','JUSTICE GINSBURG',transcript)\n",
    "    transcript = re.sub('JUSTICE [A-Z]+QUIST:','JUSTICE REHNQUIST:',transcript)\n",
    "    transcript = re.sub('JUSTICE SOTO[A-Z]+:','JUSTICE SOTOMAYOR:',transcript)\n",
    "    transcript = re.sub('JUSTICE ROB[A-Z]+:','JUSTICE ROBERTS:',transcript)\n",
    "    transcript = re.sub('JUSTICE STEV[A-Z]+:','JUSTICE STEVENS:',transcript)"
   ]
  },
  {
   "cell_type": "markdown",
   "metadata": {},
   "source": [
    "### **Finding Justices Present**"
   ]
  },
  {
   "cell_type": "code",
   "execution_count": 405,
   "metadata": {},
   "outputs": [],
   "source": [
    "def unique(lst):\n",
    "    uni = []\n",
    "    for i in lst:\n",
    "        if i not in uni:\n",
    "            uni += [i]\n",
    "    return uni\n",
    "\n",
    "def case_no(txt):\n",
    "    return unique(re.findall('No.\\s*\\d+[-]*\\d+',txt))"
   ]
  },
  {
   "cell_type": "code",
   "execution_count": 406,
   "metadata": {},
   "outputs": [],
   "source": [
    "def justices(txt):\n",
    "    j = re.findall('JUSTICE[A-Z\\s]+:',txt)\n",
    "    justice = sorted(unique(j))\n",
    "    cleaned_list = [justice[i][:-1] for i in range(len(justice))]\n",
    "    return cleaned_list"
   ]
  },
  {
   "cell_type": "code",
   "execution_count": 407,
   "metadata": {},
   "outputs": [
    {
     "data": {
      "text/plain": [
       "['JUSTICE ALITO',\n",
       " 'JUSTICE BREYER',\n",
       " 'JUSTICE GINSBURG',\n",
       " 'JUSTICE KENNEDY',\n",
       " 'JUSTICE ROBERTS',\n",
       " 'JUSTICE SCALIA',\n",
       " 'JUSTICE SOUTER',\n",
       " 'JUSTICE STEVENS']"
      ]
     },
     "execution_count": 407,
     "metadata": {},
     "output_type": "execute_result"
    }
   ],
   "source": [
    "justices(cleaned[0])"
   ]
  },
  {
   "cell_type": "code",
   "execution_count": 408,
   "metadata": {},
   "outputs": [],
   "source": [
    "#def justices(texts):\n",
    " #   d = {}\n",
    "  #  for txt in texts:\n",
    "   #     num = case_no(txt)[0]\n",
    "    #    j = re.findall('JUSTICE[A-Z\\s]+:',txt)\n",
    "     #   justice = sorted(unique(j))\n",
    "      #  cleaned_list = [justice[i][:-1] for i in range(len(justice))]\n",
    "       # d[num] = cleaned_list\n",
    "    #return d"
   ]
  },
  {
   "cell_type": "markdown",
   "metadata": {},
   "source": [
    "## **Date, Year**"
   ]
  },
  {
   "cell_type": "code",
   "execution_count": 409,
   "metadata": {},
   "outputs": [],
   "source": [
    "def date(text):\n",
    "    return re.findall('\\W\\w+,*\\s+\\d+\\w*\\w*,\\s+\\d{4}',text)"
   ]
  },
  {
   "cell_type": "code",
   "execution_count": 410,
   "metadata": {},
   "outputs": [],
   "source": [
    "def year(text):\n",
    "    return re.findall('\\d\\d\\d\\d',date(text))"
   ]
  },
  {
   "cell_type": "markdown",
   "metadata": {},
   "source": [
    "## **Appearances**"
   ]
  },
  {
   "cell_type": "code",
   "execution_count": 411,
   "metadata": {},
   "outputs": [],
   "source": [
    "def appearances(text):\n",
    "    app = re.findall('APPEARANCES:[\\s\\S]*?Reporting',text)[0]\n",
    "    app = re.findall('[\\s\\S]*?;[\\s\\S]*?\\.',app)\n",
    "    app = [re.sub('\\d','',app[i]) for i in range(len(app))]\n",
    "    remove_appearance = re.sub('APPEARANCES:\\s','',app[0])\n",
    "    app[0] = remove_appearance\n",
    "    app = [re.sub('[\\s\\s]+',' ',app[i]) for i in range(len(app))]\n",
    "    return app"
   ]
  },
  {
   "cell_type": "code",
   "execution_count": 412,
   "metadata": {
    "scrolled": true
   },
   "outputs": [],
   "source": [
    "#for i in cleaned:\n",
    " #   app = appearances(i)\n",
    "  #  for j in app:\n",
    "   #     print(j)\n",
    "    #print('-----------------------')"
   ]
  },
  {
   "cell_type": "markdown",
   "metadata": {},
   "source": [
    "## **Sentiment Analysis**"
   ]
  },
  {
   "cell_type": "markdown",
   "metadata": {},
   "source": [
    "**Checkpoint 10/22**\n",
    "\n",
    "* need to work on finding the regex pattern between speakers\n",
    "* General pattern: \"SPEAKER: anything they say until the next SPEAKER:\"\n",
    "\n",
    "### STEPS:\n",
    "1. Extract the sentences from each speaker.\n",
    "2. Develop a function (actually there's one written in the github link below that you could model yours from; it's very good)\n",
    "3. Test it on various transcripts to ensure it's generalized"
   ]
  },
  {
   "cell_type": "markdown",
   "metadata": {},
   "source": [
    "### Note to Amal: Please look at these slides for performing sentiment analysis. They are from my IEOR class, and these techniques are very useful. Please let me know if you would like to go over it together.\n",
    "\n",
    "https://github.com/ikhlaqsidhu/data-x/blob/master/07a-tools-nlp-sentiment_add_missing_si/notebook-nlp-sentiment-analysis-imdb-afo_v2.ipynb\n",
    "\n",
    "## OTHER NOTES: you can't use the function below on cases where the justices' names are replaced with \"QUESTION\""
   ]
  },
  {
   "cell_type": "code",
   "execution_count": null,
   "metadata": {},
   "outputs": [],
   "source": []
  },
  {
   "cell_type": "code",
   "execution_count": 413,
   "metadata": {},
   "outputs": [],
   "source": [
    "## I was trying to extract the speakers from each text. \n",
    "all_justices =['JUSTICE GORSUCH','JUSTICE PHILLIPS','JUSTICE SCALIA','JUSTICE ROBERTS','JUSTICE KAVANAUGH',\n",
    "               'JUSTICE GINSBURG','JUSTICE BREYER','JUSTICE KENNEDY','JUSTICE ALITO','JUSTICE STEVENS',\n",
    "               'JUSTICE KAGAN','JUSTICE REHNQUIST','JUSTICE THOMAS','JUSTICE SOTOMAYOR','JUSTICE SOUTER','JUSTICE BENNETT']\n",
    "\n",
    "\n",
    "def dialogue(text,person):\n",
    "    pattern = re.escape(person)+r\":[\\s\\S]+?[A-Z]+\\s*?:\"\n",
    "    sents = re.findall(pattern,text) #regex pattern to find all instances\n",
    "    sents = [re.sub('\\d','',i) for i in sents] # cleaning transcript\n",
    "    sents = [re.sub('[\\s\\s]+',' ',i) for i in sents] #cleaning transcript\n",
    "    #sents = [re.sub('Reporting Company','',i) for i in sents if len(re.sub('Reporting Company','',i)) != 0]\n",
    "    #sents = [re.sub('REPORTING COMPANY','',i) for i in sents if len(re.sub('REPORTING COMPANY','',i)) != 0]\n",
    "    #sents = [re.sub('Official - Subject to Final Review','',i) for i in sents if len(re.sub('Official - Subject to Final Review','',i))!= 0]\n",
    "    new_pattern = re.escape(person)+r\":[\\s\\S]+[^[A-Z]+\\s*?:]\"\n",
    "    sents = [re.sub('JUSTICE [A-Z]+:','',i) for i in sents]\n",
    "    sents = [re.sub('[A-Z\\s*\\.*]+:','',i) for i in sents]\n",
    "    return sents\n"
   ]
  },
  {
   "cell_type": "code",
   "execution_count": 414,
   "metadata": {},
   "outputs": [
    {
     "data": {
      "text/plain": [
       "\" 1          IN THE SUPREME COURT OF THE UNITED STATES 2 - - - - - - - - - - - - - - - -X 3 TRW, INC.,                      : 4            Petitioner           : 5      v.                         :  No. 00-1045 6 ADELAIDE ANDREWS.               : 7 - - - - - - - - - - - - - - - -X 8                               Washington, D.C. 9                               Tuesday, October 9, 200110            The above-entitled matter came on for oral11 argument before the Supreme Court of the United States at12 11:02 a.m.13 APPEARANCES:14 GLEN D. NAGER, ESQ., Washington, D.C.; on behalf of the15      Petitioner.16 ANDREW R. HENDERSON, ESQ., Los Angeles, California; on17      behalf of the Respondent.18 KENT L. JONES, ESQ., Assistant to the Solicitor General,19      Department of Justice, Washington, D.C.; on behalf of20      the United States, as amicus curiae, in support of21      the Respondent.22232425                                 1            ALDERSON REPORTING COMPANY, INC.               1111 FOURTEENTH STREET, N.W.                         SUITE 400                  WASHINGTON, D.C. 20005                       (202)289-2260                      (800) FOR DEPO 1                       C O N T E N T S 2 ORAL ARGUMENT OF                                       PAGE 3 GLEN D. NAGER, ESQ. 4      On behalf of the Petitioner                          3 5 ANDREW R. HENDERSON, ESQ. 6      On behalf of the Respondent                         29 7 KENT L. JONES, ESQ. 8      On behalf of the United States, as amicus curiae, 9      in support of the Respondent                        4710111213141516171819202122232425                                2            ALDERSON REPORTING COMPANY, INC.              1111 FOURTEENTH STREET, N.W.                        SUITE 400                 WASHINGTON, D.C. 20005                      (202)289-2260                     (800) FOR DEPO 1                     P R O C E E D I N G S 2                                                (11:02 a.m.) 3           CHIEF JUSTICE REHNQUIST:   We'll hear argument 4 next in No. 00-1045, TRW, Inc. v. Adelaide Andrews. 5           Mr. Nager. 6               ORAL ARGUMENT OF GLEN D. NAGER 7                 ON BEHALF OF THE PETITIONER 8           MR. NAGER:   Thank you, Mr. Chief Justice, and 9 may it please the Court:10           In this case, the Court of Appeals for the Ninth11 Circuit held that the statute of limitations on a claim of12 improper disclosure under the Fair Credit Reporting Act13 does not commence until the plaintiff discovers her14 injury, as opposed to the -- the date of the improper15 disclosure.16           In doing so, the Court of Appeals for the Ninth17 Circuit did not parse the language of the statute of18 limitations that is in the Fair Credit Reporting Act, but19 rather said that language was not sufficiently expressed20 to overcome a presumption in favor of a discovery rule21 that the Ninth Circuit held is read into that statute and22 all Federal statutes.23           QUESTION:   When did the injury occur here to the24 respondent?25           MR. NAGER:   The -- the injury for each alleged                                 3            ALDERSON REPORTING COMPANY, INC.              1111 FOURTEENTH STREET, N.W.                         SUITE 400                 WASHINGTON, D.C. 20005                      (202)289-2260                     (800) FOR DEPO 1 improper disclosure would have occurred on the date of the 2 alleged improper disclosure, Justice O'Connor, although 3 some of the damages -- 4           QUESTION:  Disclosure to who?    I mean, when -- 5 when exactly did the injury -- 6           MR. NAGER:   Well, there were four allegedly 7 improper disclosures at issue in this case.    The first was 8 in July of 1994, and when that disclosure was made, it 9 revealed --10           QUESTION:  Disclosure to some third party.11           MR. NAGER:   To the third party.   And the first12 one here was to a bank.13           QUESTION:  And -- and the person injured may14 never know about it.15           MR. NAGER:   They -- they might not know about16 it, although the -- the way these reporting systems work,17 if they ever actually apply for credit themselves and18 they're denied, they will automatically know about it,19 which of course is what happened to the respondent in this20 case.  She didn't know about the --21           QUESTION:  But it -- it's a 2-year statute of22 limitations.23           MR. NAGER:   That's correct, and the statute24 expressly states that the action must be filed within 225 years of the date upon which liability arises.                                 4            ALDERSON REPORTING COMPANY, INC.              1111 FOURTEENTH STREET, N.W.                        SUITE 400                 WASHINGTON, D.C. 20005                      (202)289-2260                     (800) FOR DEPO 1           QUESTION:   Is this the type of statute that -- 2 that depends largely on private enforcement to implement 3 it? 4           MR. NAGER:   It does have private causes of 5 action.  The Federal Trade Commission, of course, also has 6 authority to enforce the statute through cease and desist 7 orders, through civil penalties -- 8           QUESTION:   But in general, I think you would 9 look at this as one that envisions private enforcement.10           MR. NAGER:   Absolutely, Justice O'Connor.  We11 don't dispute that.12           But what is does envision is private enforcement13 within 2 years of the date of disclosures.   That's what14 the statute expressly says on its face.   It says the15 action can be brought, but if it's going to be brought, it16 has to be brought within 2 years from the date upon which17 liability arises.   And in plain English, as well as under18 the terms of this statute, if there is liability, it19 arises upon the date of the improper disclosure.20           We know that in plain English, the term arise21 means come into existence, originate.   And we know under22 this statute, section 616 and 617, which specify what a23 defendant's liability can be, the statute equates24 liability with a failure of a defendant to comply with a25 requirement of the section.                                 5            ALDERSON REPORTING COMPANY, INC.              1111 FOURTEENTH STREET, N.W.                         SUITE 400                 WASHINGTON, D.C. 20005                      (202)289-2260                     (800) FOR DEPO 1           QUESTION:   What about the argument that the 2 plaintiff isn't harmed -- the plaintiff may not be harmed 3 by the disclosure?   So, there may have been a violation of 4 the statute, but no claim for damages, because nothing bad 5 has happened to the plaintiff.   So, you have to wait until 6 something bad happens to the plaintiff. 7           MR. NAGER:   I don't think that's what the 8 statute says, Justice Ginsburg.   The statute says that 9 liability arises upon an improper disclosure.10           QUESTION:   Liability for what, if you're not11 damaged?12           MR. NAGER:   Well, in this case, the plaintiff13 sought injunctive relief, punitive damages, and actual14 damages, as well as, if they prevailed at trial, for15 attorney's fees.16           QUESTION:   Can you get nominative -- a --17 nominal damages and punitive damages?18           MR. NAGER:   Well, it's unclear under statute19 whether you can get nominal damages.   Certainly the20 statute expressly states that in the case of an alleged,21 willful violation of the statute, which is what the22 plaintiff in this case alleged, you can get punitive23 damages.  And the case law also allows for a plaintiff to24 seek injunctive relief.25           Let me clarify what the injury is, Justice                                 6            ALDERSON REPORTING COMPANY, INC.              1111 FOURTEENTH STREET, N.W.                         SUITE 400                 WASHINGTON, D.C. 20005                      (202)289-2260                     (800) FOR DEPO 1 Ginsburg.  Maybe this will assist both you and Justice 2 O'Connor. 3           What this statute does is -- the credit 4 reporting companies have computer databases that compile 5 information about credit reporting histories of 6 individuals.  And it makes that database available to 7 subscribers, banks, insurance companies, and the like. 8 And a creditor can go onto that database, just like your 9 law clerks can go on Westlaw, and pull off information.10 And when they pull that information off, if there weren't11 reasonable procedures in place to prevent them from12 improperly pulling information off, that would be an13 improper disclosure, which would injure the person because14 it would invade their privacy and reveal confidential15 information about themselves.  Under State law, they16 possibly would have a claim for invasion of privacy, or if17 there was inaccurate information in the database, for18 defamation of character.19           What this statute did was it created a Federal20 right against improper disclosure in the absence of21 reasonable procedures of people's credit history.22           QUESTION:  Just out of curiosity, what -- what23 are the statute of limitations applicable to State actions24 for, let's say, trade liable I suppose?   Somebody gives25 out inaccurate information about -- about the financial                                7            ALDERSON REPORTING COMPANY, INC.              1111 FOURTEENTH STREET, N.W.                        SUITE 400                 WASHINGTON, D.C. 20005                      (202)289-2260                     (800) FOR DEPO 1 standing of a particular person or company. 2            MR. NAGER:  I don't know -- 3            QUESTION:  How do the statutes run?   Do they -- 4            MR. NAGER:  I don't -- 5            QUESTION:  -- normally run from -- from the date 6 of the liable or from the date that -- that the person 7 finds out about it? 8            MR. NAGER:  At the time of enactment of this 9 statute, the -- the statutes of limitations of which I'm10 aware of at State law, ran from the date of the -- of the11 disclosure, not from the date of discovery.    That was12 typical in the 1969-1970 time frame for invasion of13 privacy claims and for defamation claims.14            And we also know that this statute is one of six15 titles of the Consumer Credit Protection act, and we know16 that each of the statutes of limitations in those other17 five titles run from the date of alleged violation.18            QUESTION:  We would have been sure about that if19 the language in the initial bill, which was the date of20 the occurrence of the violation -- if that language had21 been used.   Since Congress chose not to use that language,22 which would have been clear, it seems to me that the23 phrase that they did use, when liability arises, is24 ambiguous.25            MR. NAGER:  Well, I understand the -- the point,                                 8            ALDERSON REPORTING COMPANY, INC.               1111 FOURTEENTH STREET, N.W.                         SUITE 400                  WASHINGTON, D.C. 20005                       (202)289-2260                      (800) FOR DEPO 1 Justice Ginsburg, but let me make the case for why that's 2 not a correct conclusion to draw from the premise. 3           It obviously would have been simpler if they had 4 used the language from the date of violation, but they 5 used a phrase that means the same thing.  And when they 6 made the change -- 7           QUESTION:  How do we know it means the same 8 thing? 9           MR. NAGER:  We know it means the same thing10 because every time this Court has had a case that has used11 the term arise, it has said that means the date upon which12 the event happens, not the date upon which someone13 discovers it later.14           And we know in section 616 and 617 of this15 statute that liability is defined by reference to the acts16 of the defendant.17           And we also know that there is an explicit18 exception in section 618, the statute of limitations19 provision, which does expressly refer to a discovery rule,20 but it says the discovery rule is applied in the case of a21 willful and material misrepresentation of a disclosure22 required by the statute.  And the strong implication from23 the inclusion of an express reference to the discovery24 rule and the exception is that the general rule doesn't25 include a discovery.                                9            ALDERSON REPORTING COMPANY, INC.              1111 FOURTEENTH STREET, N.W.                        SUITE 400                 WASHINGTON, D.C. 20005                      (202)289-2260                     (800) FOR DEPO 1           QUESTION:  Well, our previous cases haven't 2 looked at when liability arises. 3           MR. NAGER:  You're absolutely right. 4           QUESTION:  There's some other noun before the 5 arise. 6           MR. NAGER:  The -- the other cases that the 7 Court have said cause of action arises. 8           QUESTION:  Do you think anything turns on that? 9           MR. NAGER:  No, I don't.   And I -- I would point10 you to the Court's decision in the Bay Area Laundry case,11 which was dealing with the Multi-Employer Pension Plan12 Amendments Act.  That statute, like that statute, although13 it used the phrase, cause of action arise, had a 6-year14 limitation period from the date the cause of action arose15 or, alternatively, 3 years from the date of discovery of16 the cause of action.  And this Court, looking at the17 primary statute of limitations provision, said that18 reflects the standard rule of statute of limitations law,19 that the statute of limitations commences when the cause20 of action is complete, not upon discovery.21           QUESTION:  Let -- let me ask you.   The case is a22 little bit difficult because we're not quite sure of -- of23 the boundaries and dimensions of the negligence cause of24 action that was alleged here.  And I assume you're, of25 course, contesting liability.                               10            ALDERSON REPORTING COMPANY, INC.              1111 FOURTEENTH STREET, N.W.                        SUITE 400                 WASHINGTON, D.C. 20005                      (202)289-2260                     (800) FOR DEPO 1           I -- I take it you -- you do concede you must 2 concede, because of the statute, that there is a general 3 duty on the part of the reporting agencies and TRW not to 4 be negligent in the performance of its statutory 5 obligation. 6           MR. NAGER:  Yes. 7           QUESTION:  So, we can, I guess, then consider 8 the case based on a supposed cause of action where there 9 is negligence and there is injury.10           MR. NAGER:  Yes, Justice --11           QUESTION:  Even though in this case, I'm -- I'm12 sure you would contest it.  You would say there was no13 negligence.14           MR. NAGER:  That is correct.   The Court can also15 assume, since these are the allegations in this case, for16 purposes of considering this issue, you could consider17 that the failure to maintain procedures was in fact18 intentional because they've, in fact, proceeded under the19 -- under the provision of the statute which prohibits20 intentional noncompliance with the statute because they've21 alleged a right to punitive damages and an intentional22 noncompliance with the Ninth Circuit remanding this case23 to the -- to the trial courts.   The claim is not barred by24 the statute of limitations, and they should have the right25 to proceed on their allegations, including their claim for                               11            ALDERSON REPORTING COMPANY, INC.              1111 FOURTEENTH STREET, N.W.                        SUITE 400                 WASHINGTON, D.C. 20005                      (202)289-2260                     (800) FOR DEPO 1 punitive damages.   So, you could consider under either 2 section of the statute. 3           We would say, as they themselves conceded in 4 their briefs to the Ninth Circuit, they said Mrs. Andrews 5 was per se damaged when her privacy was invaded by the 6 disclosures.   Now, they've made an actual damages argument 7 in this Court.   That's not the argument they were making 8 in the court below.   What they were saying in the court 9 below is what would be assumed from their complaint and10 would have been assumed in any action at common law where11 someone was alleging invasion of privacy or defamation,12 that their injury occurred upon the date of the alleged13 improper disclosure, although they may have suffered some14 additional damages or more damages or all of their damages15 at a later point in time.16           QUESTION:   But you're saying in that respect17 it's just like common law defamation.   The minute the --18 the defamatory statement is out, your -- your injury is --19 is complete for purposes of a cause of action.20           MR. NAGER:   For purposes --21           QUESTION:   That's your only point there.22           MR. NAGER:   That is correct.23           Let -- let me move for a second and -- and24 explain why the Ninth Circuit's importation of a discovery25 rule into this statutory scheme makes little sense.                                12            ALDERSON REPORTING COMPANY, INC.              1111 FOURTEENTH STREET, N.W.                         SUITE 400                 WASHINGTON, D.C. 20005                       (202)289-2260                      (800) FOR DEPO 1           It's in the nature of this statutory scheme and 2 the subject matter that it's dealing with that the claims 3 that this statute can give rise to become stale very 4 quickly.  The reason is, is all of the information that's 5 critical to presenting one of those claims is not in the 6 hands of the plaintiff.  It's either in our computer 7 database or in the records of the creditors who in the 8 crediting reporting agencies give the information to. 9           And that's why when Congress passed this10 statute, it said that there were going to be certain11 disclosures that it was going to require either the credit12 reporting agencies to make or the creditors to make.   But13 it also specified, because of concerns about the burdens14 of record keeping, quite finite periods of time by which15 those records would have to be kept.   So, at the time the16 statute was passed, a credit reporting agency only had to17 keep a list of who a disclosure was made to for 6 months,18 and now, as amended in 1996, they only have to keep it for19 a year.20           And at the time the statute was passed, there21 was no requirement placed upon a subscriber to our22 database, one of the creditors, for any time period they23 had to keep their own records.   Now, in 1976, the Equal24 Credit Opportunity Act was passed, and the Federal Reserve25 Board promulgated regulations requiring that a creditor                               13            ALDERSON REPORTING COMPANY, INC.              1111 FOURTEENTH STREET, N.W.                        SUITE 400                 WASHINGTON, D.C. 20005                      (202)289-2260                     (800) FOR DEPO 1 keep records of any action it takes to deny credit for up 2 to 25 months. 3           But the fact of the matter is, because of -- of 4 the enormous amounts of information that are retained, the 5 record retention policies of credit reporting agencies and 6 creditors, pursuant to guidance received from the Federal 7 Reserve Board and the Federal Trade Commission -- record 8 retention -- we -- we get rid of those records at the end 9 of 2 years as a credit reporting agency, and the banks get10 rid of them after 25 months.   So, the claims --11           QUESTION:  I don't understand.   You mean if I12 apply for credit and TRW checks me out, they're only13 interested in the last 2 years?14           MR. NAGER:  The underlying credit information is15 preserved, as long as it's not negative, forever.    If it's16 negative, the statute prohibits the credit reporting17 agencies for retaining it for more than 7 months.18           But remember what the -- the claim is is an19 improper disclosure.  So, what you have to know is, is who20 was the information disclosed to and when.   And this --21 the -- that's a separate data field.   And under the22 statute, that list has to only be maintained for a year23 after 1996 by the credit reporting agency.   So, the only24 way to find out that a disclosure has been made is either25 within a year -- or we actually keep it for 2 years                               14            ALDERSON REPORTING COMPANY, INC.              1111 FOURTEENTH STREET, N.W.                        SUITE 400                 WASHINGTON, D.C. 20005                      (202)289-2260                     (800) FOR DEPO 1 because, in the case of an employment application, you 2 have to keep it for 2 years, or from the creditor, and 3 they only keep it for 25 months. 4           What that means is, is that claims that aren't 5 discovered within 2 years that would be preserved under 6 this statute -- the underlying records that would -- would 7 reliably prove whether a disclosure has been made and 8 contained an inaccuracy won't exist. 9           QUESTION:   Well, but if we affirmed the Ninth10 Circuit, you might change your policies, might you not?11           (Laughter.)12           MR. NAGER:   No.  As a matter of fact, Mr. Chief13 Justice, I don't think we would.   And the reason we14 wouldn't is -- for example, California has already, under15 its State consumer code, changed its statute of16 limitations to be a discovery rule, but the credit17 reporting agencies haven't changed.18           And the reason is we -- we have no desire to19 facilitate the bringing of causes of action.    And I'm20 going to be honest -- candid with the Court about it.    And21 the information is expensive to retain.   So --22           QUESTION:   How many other States have changed23 the way California has?24           MR. NAGER:   I don't know the answer to that25 question, Justice Ginsburg.   I do know from my client and                                15            ALDERSON REPORTING COMPANY, INC.              1111 FOURTEENTH STREET, N.W.                        SUITE 400                 WASHINGTON, D.C. 20005                      (202)289-2260                     (800) FOR DEPO 1 partners who practice in this area regularly that their 2 impression is no State has a statute of limitations that 3 is longer -- I'm sorry.  No -- no State has a record 4 keeping requirement that exceeds the Federal record 5 keeping requirement. 6           QUESTION:  But one of the arguments you make, if 7 I remember correctly, was the Ninth Circuit is -- is a 8 large area, so we -- whatever they say is going to govern 9 for the Nation because we can't keep our books one way for10 California and another way for someplace else.  But11 California is a pretty large State.  If -- if you're12 saying, well, California has done it, it doesn't bother13 us, we go our merry way, why wouldn't you do the same14 thing under the Ninth Circuit's decision?15           MR. NAGER:  Well, we would go -- in response to16 the Chief Justice's question, as long as the Federal law17 or State law doesn't require us to keep the records any18 longer than the present 1-year requirement, we're not19 going to keep the records for any longer --20           QUESTION:  So, then this -- this -- whether it's21 a discovery rule or whether from the date of the violation22 doesn't matter, as far as your record keeping is --23           MR. NAGER:  As far as the record keeping.   What24 I would suggest is it would leave the courts and our25 clients -- to the extent that claims are asserted after                               16            ALDERSON REPORTING COMPANY, INC.              1111 FOURTEENTH STREET, N.W.                        SUITE 400                 WASHINGTON, D.C. 20005                      (202)289-2260                     (800) FOR DEPO 1 the records are gone, it will be left -- we will be left 2 defending against claims that are based upon quite 3 unreliable evidence, and the courts will be left 4 adjudicating claims that are based upon quite unreliable 5 evidence because the underlying documents won't exist. 6           And the reason that I would like to make that 7 point to the Court, Justice Ginsburg, is because the very 8 most fundamental purpose of a statute of repose -- of the 9 repose aspect of a statute of limitations is to prevent10 society and its courts from being burdened with claims11 that can't be reliably proved.   And --12           QUESTION:   But that's an argument that you13 really save those records; you shouldn't throw them away.14           MR. NAGER:   No, I don't think so, Justice15 Stevens, because no one disputes in this case what16 Congress contemplated in the record keeping requirements.17 And my point to the Court --18           QUESTION:   No, but I'm talking about your19 exposure to State cause of action where they have a20 discovery rule that your exposure runs beyond the 2 years.21           MR. NAGER:   The -- the --22           QUESTION:   And it seems to me you would have an23 interest in keeping records that would disprove24 unmeritorious claims.25           MR. NAGER:   Well, the -- the -- I think the                                17            ALDERSON REPORTING COMPANY, INC.              1111 FOURTEENTH STREET, N.W.                        SUITE 400                 WASHINGTON, D.C. 20005                      (202)289-2260                     (800) FOR DEPO 1 answer to that is -- is no. 2           QUESTION:   Except that they would also prove 3 meritorious claims. 4           MR. NAGER:   That's -- that's true. 5           QUESTION:   Well, that's right, and the question 6 is which -- which is the greater number. 7           (Laughter.) 8           MR. NAGER:   And I think the -- the -- I can't 9 tell you that I have actual empirical information, and my10 client would tell you that the number of inaccurate11 disclosures is de minimis relative to the number of12 accurate, proper disclosures.    That's why we maintain13 reasonable procedures.14           But I can tell you this -- and I think this is15 the issue in this case -- is -- how long did Congress16 contemplate that we would keep those records for, and what17 statute of limitations did Congress correlate with those18 record keeping requirements?    Because when asking what19 could Congress have intended through this statute of20 limitations rule, when it only said that we had to keep21 the records for 6 months in 1970 and for a year in 1996,22 it couldn't possibly have been contemplating that it would23 create a statute of limitations that would produce24 unreliable claims for the court, that the more -- much25 more --                                18            ALDERSON REPORTING COMPANY, INC.              1111 FOURTEENTH STREET, N.W.                        SUITE 400                 WASHINGTON, D.C. 20005                      (202)289-2260                     (800) FOR DEPO 1           QUESTION:  But the statute of limitations I 2 thought was 2 years. 3           MR. NAGER:  The statute -- yes because the -- 4           QUESTION:  So, that's more than 7 months or a 5 year. 6           MR. NAGER:  It understandably gives the 7 plaintiff some time to commence their lawsuit. 8           QUESTION:  Even though you can say, we don't 9 have the records after whatever is -- the -- the time10 periods -- the statute of limitations is longer than the11 required record keeping.12           MR. NAGER:  That's correct.13           QUESTION:  But there's nothing that prevents you14 from keeping the records.15           MR. NAGER:  Nothing other than lots of expense.16           QUESTION:  Do we -- we do have a Federal agency17 in this picture, the FTC.  They know something about18 credit.  Do we owe them any kind of respect?19           MR. NAGER:  I -- I think the answer is you20 plainly do not owe them deference in the Chevron sense21 because they don't have rulemaking power and they're not22 the only agency charged with that administration of this23 statute.  And I don't think that you owe them Skidmore24 level respect because the fact of the matter is the first25 time they've articulated this position is in their brief                               19            ALDERSON REPORTING COMPANY, INC.              1111 FOURTEENTH STREET, N.W.                        SUITE 400                 WASHINGTON, D.C. 20005                      (202)289-2260                     (800) FOR DEPO 1 in this case.  They don't address the language of the 2 statute other than to say, well, other words in other 3 statutes have been -- haven't foreclosed the importation 4 of a discovery rule, and so perhaps it would be 5 appropriate for the Court to import one here. 6           And we would suggest to the Court that the 7 language of this statute is very clear.   It may not be 8 perfectly clear, Justice Ginsburg, but the phrase, 9 liability arise, has a plain English meaning, which10 corresponds very naturally with the liability provisions11 of section 616 and -- and section 617.12           And the overwhelmingly strong negative13 implication of the misrepresentation exception, which has14 an express reference to a discovery rule -- and as you15 noted, Justice Ginsburg, both the Senate and the House16 bills had a date of violation language.   And the17 conference committee report, which changed that language18 and added the misrepresentation exception, commented that19 its action was taken only for the purpose of adding the20 misrepresentation exception, not for changing the21 underlying meaning of the basic statute of limitations --22           QUESTION:  And -- and the -- at common law, as I23 recall, I think under California statute in defamation24 actions, the statute began to arise from the date of the25 statement, from the date of the defamation.                               20            ALDERSON REPORTING COMPANY, INC.              1111 FOURTEENTH STREET, N.W.                        SUITE 400                 WASHINGTON, D.C. 20005                      (202)289-2260                     (800) FOR DEPO 1           MR. NAGER:  That's correct. 2           QUESTION:  And I assume that one rationale for 3 that was because if the injured party doesn't discover the 4 statement for -- for 2 or 3 years, it's necessarily 5 diminished and any remediation is minor.  Is -- is -- and 6 assume that is the rationale. 7           Does that apply to you or not?  Does -- does the 8 fact that the erroneous credit information was given 2 or 9 3 years ago in most cases diminish its -- its injurious10 nature?11           MR. NAGER:  I think that in some --12           QUESTION:  I'm not sure I can say that.   I'm --13 I'm just trying to think --14           MR. NAGER:  With respect to just a pure improper15 disclosure, it may.  I'm not sure I know the answer to the16 question.17           What I can say -- and I think this may not18 answer your question, but I think it's important for you19 to know -- is that if a case of identity theft has20 occurred here, the -- our individual consumer who isn't21 aware of the disclosure -- they will find out.  They may22 not find out in a month.  They may not find out in 623 months, but once the -- a report is issued in a false --24 to -- to a person who isn't the consumer, if -- if the25 consumer later applies for credit and they're denied                               21            ALDERSON REPORTING COMPANY, INC.              1111 FOURTEENTH STREET, N.W.                        SUITE 400                 WASHINGTON, D.C. 20005                      (202)289-2260                     (800) FOR DEPO 1 credit, they have to be told by the creditor that denies 2 them credit why they're denying them credit and where they 3 got the consumer credit report from, and then they can go 4 check on our database as to what actually is on the 5 database. 6           QUESTION:   But I take it what's implicit in your 7 argument is that if they are not given notice that they 8 have been denied credit within 2 years, chances are not 9 very great that they're going to get that notice after 210 years.  Isn't that --11           MR. NAGER:   No, no.  They may because they may12 not apply for credit within 2 years.13           QUESTION:   Well, I know.  But in terms of14 probabilities, isn't -- I -- I thought that's what you15 were assuming.16           MR. NAGER:   No, no.  What I'm -- what I'm17 suggesting to the Court is that there are improper18 disclosures that might not be discovered within 2 years.19 But if there is a disclosure which adversely impacts an20 individual's credit rating and their desire to obtain21 credit, they will find out about the fact that their22 credit has been impaired when they do apply for credit,23 whether it's within the 2-year period or not.   Now, they24 won't know, because the records won't exist any longer,25 who that credit information -- what other creditors that                                22            ALDERSON REPORTING COMPANY, INC.              1111 FOURTEENTH STREET, N.W.                        SUITE 400                 WASHINGTON, D.C. 20005                      (202)289-2260                     (800) FOR DEPO 1 -- that information was given to, but the underlying data 2 about -- will be in the database about what their credit 3 is and why their credit is being adversely impacted.    That 4 -- that was the point -- 5            QUESTION:  Well, I know. 6            But going back to Justice Kennedy's question, I 7 mean, you're saying that there certainly are going to be 8 cases in which the 2 years will have passed and then 9 specific injury will arise.10            MR. NAGER:  And they'll have a claim about that11 specific injury if the specific injury is in year 3 I was12 denied credit, because in order for that credit to be13 denied, there's going to be a new credit report that's14 requested.   That will be a new disclosure, and if the new15 request for credit is denied because of something in the16 credit record reflecting the -- the fact of earlier17 multiple applications for credit that have been denied,18 they have to be told that and they have to be told who19 gave it to them.   That's what I'm saying.20            If you look at the claims in this case, the two21 claims that are subject to this Court's review right now22 are the oddball claims.   They're the improper disclosure23 claims, not the inaccuracy claims.    There's no doubt the24 respondent had a -- had the -- found out within the 225 years and thus had the ability to timely bring a claim                                23            ALDERSON REPORTING COMPANY, INC.               1111 FOURTEENTH STREET, N.W.                         SUITE 400                  WASHINGTON, D.C. 20005                       (202)289-2260                      (800) FOR DEPO 1 about when she was actually denied credit herself.    That 2 was the point I was trying to make. 3            QUESTION:   What happens to a person, if you're 4 right, who finds out 3 years -- 3 years later she's denied 5 credit, and the reason was because 3 years ago the company 6 Sears got a report that had all kinds of incorrect 7 information in it or whatever?    Is that person without any 8 remedy totally? 9            MR. NAGER:   I'm not sure I --10            QUESTION:   Well, happens is --11            MR. NAGER:   She finds -- she finds --12            QUESTION:   Let's suppose --13            MR. NAGER:   When does she apply for credit?14 That's --15            QUESTION:   She -- in year 1 you do a credit16 report.   You have 19 things you're not supposed to17 disclose:   old arrest records, old bankruptcy records.18 You do everything wrong.    All right.  You send it off to19 Sears.  She doesn't actually apply until year 8 to get20 credit from Sears.    Sears goes to its files, looks up this21 old report, says no credit.    Now, does she have any remedy22 at all?23            MR. NAGER:   If she applies in year 8, she'd have24 a -- a remedy for the credit that she was denied in year25 8.  She --                                 24            ALDERSON REPORTING COMPANY, INC.               1111 FOURTEENTH STREET, N.W.                          SUITE 400                  WASHINGTON, D.C. 20005                       (202)289-2260                      (800) FOR DEPO 1           QUESTION:  She can sue who?   She can sue you? 2           MR. NAGER:  She could sue the -- the credit 3 reporting agency for inaccurately disclosing.   If I'm 4 understanding you correctly, there's a new report that's 5 issued. 6           QUESTION:  The -- your -- your client deals with 7 Sears in year 1. 8           QUESTION:  He didn't say there was a new report. 9           MR. NAGER:  Oh, I'm -- I misunderstood.   If10 there's not --11           QUESTION:  In year 1 and they never see Sears12 again.  In year 8, the credit is denied.   Is there any13 remedy for the person who was denied the credit?14           MR. NAGER:  In the absence of a willful15 misrepresentation, not -- not under this statute.16           QUESTION:  It's unlikely, of course, that Sears17 is going to be using an 8-year-old report without asking18 again, and you'd probably give the same information again.19           MR. NAGER:  It's almost inconceivable that they20 wouldn't ask again, and it's also probably slightly less21 inconceivable but still relatively inconceivable they22 would still have the records because it's in their23 interest and I'm sure they have the record retention24 policies to abandon them as well.25           Thank you, Justice Scalia.                               25            ALDERSON REPORTING COMPANY, INC.              1111 FOURTEENTH STREET, N.W.                        SUITE 400                 WASHINGTON, D.C. 20005                      (202)289-2260                     (800) FOR DEPO 1           Let me move quickly to the presumption that the 2 court of appeals applied.   It's -- it's wrong and it's 3 wrong for two reasons. 4           First, insofar as they -- 5           QUESTION:   What -- precisely what presumption is 6 it you're talking about? 7           MR. NAGER:   I'm sorry, Mr. Chief Justice.  The 8 Ninth Circuit in this case said that in the absence of an 9 express statement by Congress, it would imply a discovery10 rule into this statute -- into this statute irrespective11 of the particular words this statute chose to use.   And so12 there's a basic -- there are two aspects to the Ninth13 Circuit's ruling.   One is that a default rule will be a14 discovery rule, and secondly, that they'll apply that15 default rule in every case under every Federal statute16 unless the statute expressly refers to discovery for the17 basic statute of limitations rule.18           With -- with respect to the -- their clear19 statement rule, this -- neither this Court nor any other20 court of appeals that I'm aware of has equated a statute21 of limitations with a retroactive law with a waiver of22 sovereign immunity, or with any of the areas of law in23 Anglo-American jurisprudence where this Court has said24 that it will require a specifically clear statement from25 Congress in order to accept the proposition that Congress                                26            ALDERSON REPORTING COMPANY, INC.              1111 FOURTEENTH STREET, N.W.                         SUITE 400                 WASHINGTON, D.C. 20005                      (202)289-2260                     (800) FOR DEPO 1 had a particular intent. 2           All of the courts of appeals that have embraced 3 a discovery rule as a default rule have said in the 4 silence of Congress, not in the ambiguity of Congress. 5           QUESTION:  So, you're not asking us to say, no, 6 there's no discovery rule.   But what you're saying is you 7 can find Congress otherwise intent -- intended from 8 something that's not an express negation. 9           MR. NAGER:  Our primary position in this case is10 that this statute, when you look at the term, liability11 arise, when -- when the Court looks at the12 misrepresentation exception, when it looks at the13 definitions of liability in sections 616 and 617, the only14 reasonable construction of this statute is that the basic15 statute of limitations rule is the traditional complete16 cause of action.17           QUESTION:  But -- but all that the Court must do18 to hold in your favor is to say you've got an express19 misrepresentation exception.   Then that's it.20           MR. NAGER:  That's correct.21           We would also say if the Court chose to decide22 what kind of default rule should be applied in -- in this23 -- in this case or in Federal cases generally, that the24 Ninth Circuit's opinion vastly overstates the support and25 authority for using a discovery rule as a default rule.                               27            ALDERSON REPORTING COMPANY, INC.              1111 FOURTEENTH STREET, N.W.                        SUITE 400                 WASHINGTON, D.C. 20005                      (202)289-2260                     (800) FOR DEPO 1           This Court for 150 years at least has said that 2 the traditional rule is the complete cause of action rule. 3 This Court has made exceptions to the complete cause of 4 action rule in the cases of fraud, in the case of the 5 Federal Employer's Liability Act, and in -- in the context 6 of medical malpractice claims in the Federal Torts Claims 7 Act. 8           But both -- in Kubrick, dealing with the Federal 9 Torts Claims Act, both the majority and the dissent in10 that case said that the general rule is an injury rule,11 not a discovery rule.  And as Justice Stevens pointed out12 in his dissent, an injury rule would be the thing that13 makes the most sense in the commercial context and the14 debate in that case was simply about in the peculiar15 context of medical malpractice claims, what should the16 discovery -- the United States in that case didn't contest17 that -- that a discovery rule shouldn't apply.  And the18 question was what kind of discovery rule should apply.19           Now, it is true that a number of -- of courts of20 appeals -- and, Justice Ginsburg, when you were on the21 D.C. Circuit, you wrote one of the opinions -- said that22 in the late 1980's in the wake of Kubrick, a number of23 Federal courts of appeals had, in fact, adopted discovery24 rules as default rules in -- in statutory silence.25           I would suggest to you that -- that Congress has                               28            ALDERSON REPORTING COMPANY, INC.              1111 FOURTEENTH STREET, N.W.                        SUITE 400                 WASHINGTON, D.C. 20005                      (202)289-2260                     (800) FOR DEPO 1 written reams of United States code against the 2 traditional rule, not against the discovery rule, that 3 once you enter into the debate -- into the notion of using 4 a discovery rule as a default rule, you run into exactly 5 the kinds of problems that the Court faced in Klehr and in 6 Rotella where then this is, well, which discovery rule do 7 we use now?   Is it -- 8           QUESTION:    Thank you, Mr. Nager. 9           MR. NAGER:    Thank you, Mr. Chief Justice.10           QUESTION:    Mr. Henderson, we'll hear from you.11             ORAL ARGUMENT OF ANDREW R. HENDERSON12                  ON BEHALF OF THE RESPONDENT13           MR. HENDERSON:    Thank you, Mr. Chief Justice,14 and may it please the Court:15           Looking at the statute at issue, there are two16 parts to it.   The first part is the main part that17 provides that under the Fair Credit Reporting Act, the18 2-year limitation begins when liability arises.19           QUESTION:    I -- it is quite correct for you to20 begin with the statute, but just a carryover of the very21 last point.   The Ninth Circuit was wrong, wasn't it, when22 it said the general Federal rule is that a Federal statute23 of limitations begins to run when a party knows or has24 reason to know the injury?    I mean, that's -- that's just25 not the general Federal rule, is it?                                 29            ALDERSON REPORTING COMPANY, INC.              1111 FOURTEENTH STREET, N.W.                         SUITE 400                  WASHINGTON, D.C. 20005                       (202)289-2260                      (800) FOR DEPO 1            MR. HENDERSON:  That -- that is the rule that's 2 been adopted by many circuit courts of appeal around the 3 country, in Cada and in the Connors case. 4            QUESTION:  Including the D.C. Circuit. 5            MR. HENDERSON:  That's correct. 6            QUESTION:  Yes. 7            QUESTION:  But it's certainly not the rule of 8 this Court, is it? 9            MR. HENDERSON:  I don't know that it's the rule10 of this Court.   That's what we're here to answer today in11 part.12            QUESTION:  Well, it's not what we said in13 Holmberg.   That was a much more limited case --14            MR. HENDERSON:  Holmberg --15            QUESTION:  -- than the Ninth Circuit gave it16 credit for.17            MR. HENDERSON:  That's correct, and I -- and I'm18 not here to defend the articulation of the judgment by the19 Ninth Circuit.   I -- I believe that the judgment was20 correct, but for reasons that can be much better21 explained.22            QUESTION:  But I sidetracked you on the statute,23 and I think that is the right place to begin.24            MR. HENDERSON:  Thank you.25            And there are the two parts.  The first part is                                30            ALDERSON REPORTING COMPANY, INC.               1111 FOURTEENTH STREET, N.W.                         SUITE 400                  WASHINGTON, D.C. 20005                       (202)289-2260                      (800) FOR DEPO 1 the liability arises language, which generally applies 2           The second part is an estoppel provision, and a 3 very liberal one at that, in that it calls for a complete 4 renewal of the limitations period, not merely suspension, 5 which is the normal rule at Federal law.  So, it is a very 6 liberal estoppel provision enacted by Congress that should 7 in no way derogate the application of the normal 8 provision, the liability arises language. 9           QUESTION:  That to me is one of the hard parts10 of this case.  It's not quite expressio unius, exclusio11 alterius, but it's close.  And Congress did consider12 whether or not the -- the rule that the statute begins13 when the injury arises ought to be modified and it did14 modify it for a misrepresentation but not otherwise.   And15 that's, it seems to me, a very difficult problem for you16 to overcome.17           MR. HENDERSON:  Well, Justice kennedy, I believe18 that when you consider the misrepresentation exception,19 what -- what it is is it is a very additive provision that20 says that if there is an intervening misrepresentation by21 a credit reporting agency, during the running of a -- of a22 normal limitations period, then there is complete renewal23 upon discovery of that intervening misrepresentation, not24 merely suspension, which is the normal Federal rule, as25 this Court has recognized, at least members of this Court                               31            ALDERSON REPORTING COMPANY, INC.              1111 FOURTEENTH STREET, N.W.                        SUITE 400                 WASHINGTON, D.C. 20005                      (202)289-2260                     (800) FOR DEPO 1 have recognized, for example, in Jordan Chardon v. Soto in 2 1983 in the dissent.  But the -- the fact that Congress 3 went out of its way to say if -- if this particular type 4 of -- of egregious misconduct arises, which is not the 5 normal misconduct that the statute is meant to address, 6 but this particular new type of egregious misconduct 7 arises, then we're going to have a complete renewal when 8 that is discovered.  That really is an -- 9           QUESTION:  Where does this statute say this10 during thing?  It just -- you put a lot of words into it,11 but all that it seems to say is that -- that if there's a12 misrepresentation, the statute doesn't run.   Period.13           MR. HENDERSON:  No.   It says that the -- that14 the limitations period shall begin from and shall run from15 -- for 2 years from the discovery of the16 misrepresentation.17           QUESTION:  Why don't we take a look at it?18 Where is this provision that --19           MR. HENDERSON:  It's shown on page 1 of the blue20 brief, for example.  And it's -- it's a very long21 provision that takes up the bulk of statute at issue.22           QUESTION:  It does but still is an exception23 from the basic prohibition.24           MR. HENDERSON:  It -- it uses the word except,25 but it is clearly an additive provision that -- and the                               32            ALDERSON REPORTING COMPANY, INC.              1111 FOURTEENTH STREET, N.W.                        SUITE 400                 WASHINGTON, D.C. 20005                      (202)289-2260                     (800) FOR DEPO 1 odd thing about this is that the four courts of appeals 2 that have misconstrued the statute in my view have looked 3 at this and have said, that which is clearly additive 4 should be read so as to subtract from the main provision 5 in -- in a substantial way.   And it makes no sense that 6 when Congress intended to simply add something, that is 7 clearly for the benefit of consumers, and that provides 2 8 full years upon the discovery of an intervening deception, 9 should how -- somehow be read to truncate the normal10 provision.11            QUESTION:  Well, the reason that I think I'm12 having such difficulty with it is because on your theory,13 the statute doesn't begin to run till discovery anyway.14 So, you have to imagine a case where the only way -- the15 thing didn't begin till discovery.    Then this proviso is16 supposed to be doing some work?   What could it be?   I17 mean, it seems you have to think of very weird cases, very18 unusual cases before you could imagine a situation where19 the proviso would serve any function at all on your20 theory, which is it doesn't run till discovery anyway.21            MR. HENDERSON:  Justice Breyer, they are22 discovery of two different things.    Just as, for example,23 the Seventh Circuit's Cada decision, which was written by24 Judge Posner, clearly makes a distinction between the25 injury discovery rule, which is an accrual rule, and                                33            ALDERSON REPORTING COMPANY, INC.               1111 FOURTEENTH STREET, N.W.                         SUITE 400                  WASHINGTON, D.C. 20005                       (202)289-2260                      (800) FOR DEPO 1 equitable estoppel, which -- which is used normally to 2 suspend the running of a statute of limitations after it 3 has begun, well, the injury accrual rule has to do with 4 the discovery of the injury commencing the limitations 5 period.  Equitable estoppel has to do with discovering the 6 deception or the wrongdoing on the part of the -- 7           QUESTION:   That, of course, is true, but it's 8 very hard to see how a -- a deception could be a material 9 deception where the person is fully aware of the10 underlying liability.11           MR. HENDERSON:   Fully aware is correct.12           QUESTION:   Well, and if he is not fully aware on13 your theory, the underlying statute didn't begin to run.14           MR. HENDERSON:   That -- I beg to differ, Justice15 Breyer.  It's -- full awareness is the kind of full16 awareness that the dissent in Kubrick argued for, which is17 full awareness of all the elements, including the breach18 of the duty.  We do not argue that the breach of the duty19 need be discovered --20           QUESTION:   Strike full aware.21           MR. HENDERSON:   I'm sorry?22           QUESTION:   I'm looking for the example on your23 theory of the case and at the heart of the statute which24 has to do primarily with two things.   You've got to have25 reasonable procedures, et cetera, when you have your                                34            ALDERSON REPORTING COMPANY, INC.              1111 FOURTEENTH STREET, N.W.                        SUITE 400                 WASHINGTON, D.C. 20005                      (202)289-2260                     (800) FOR DEPO 1 agency, and then in the few cases, comparatively, where 2 somebody wants the information about them, you have to 3 give it to them.   Okay?  That's basically what it's about. 4           That heartland of the statute on your theory -- 5 it's hard for me to find examples that would be 6 significant in number where this proviso would be doing 7 any work.   Now, that's my problem, and you can respond to 8 that by giving me obvious examples where it would be. 9           MR. HENDERSON:   Gladly, Justice Breyer.  The10 best example would be the facts in this case, and I'll add11 some facts to show you how the misrepresentation exception12 would work.   The facts in this case are that the13 plaintiff's privacy was breached four times between July14 1994 and January 1995, and she had no reason to know that15 until she went to apply for credit in the normal course of16 her business in May of 1995.17           Now, immediately upon --18           QUESTION:   And had no cause of action before19 then.20           MR. HENDERSON:   She had no cause of action21 because she had not suffered any injury as a result of22 these completely latent privacy breaches, and in fact, she23 could have gone to her grave never knowing about them.24           But because she went out and applied for credit,25 she found out about them, and she immediately asked for                                35            ALDERSON REPORTING COMPANY, INC.              1111 FOURTEENTH STREET, N.W.                         SUITE 400                  WASHINGTON, D.C. 20005                       (202)289-2260                      (800) FOR DEPO 1 and received her -- a consumer file disclosure from TRW, 2 the defendant. 3           Now, TRW, the defendant in this case, did not 4 misrepresent any facts, did not, for example, conceal 5 those four privacy breaches.    Had they done so, however, 6 had they sent back to here a letter, in which they had 7 concealed the four privacy breaches, then she would still 8 be perhaps -- well, she might not even be aware of the 9 injury at that time, but she would certainly -- the -- the10 misrepresentation exception at that point in time would be11 invoked if, in fact, the misrepresentation --12           QUESTION:   But what you just swallowed -- the13 words you just swallowed are my problem.    If those14 misrepresentations were material, then she wouldn't have15 discovered the underlying harm anyway.    So, you wouldn't16 have needed the proviso on your theory of the case.17           MR. HENDERSON:   Well, there may be -- there may18 well be other misrepresentations that could be made by a19 credit reporting agency, however, that was -- that went to20 the -- their -- that were material to their liability, and21 the fact that -- that they might not --22           QUESTION:   But those were the examples I was23 looking for.   You see?  That -- you put your finger right24 on where I'm having the problem.25           MR. HENDERSON:   Well, perhaps they could give a                                36            ALDERSON REPORTING COMPANY, INC.              1111 FOURTEENTH STREET, N.W.                         SUITE 400                 WASHINGTON, D.C. 20005                       (202)289-2260                      (800) FOR DEPO 1 misrepresentation to the effect that the Federal 2 Government requires us to use the procedures we use, and 3 they've been deemed reasonable by the Federal Government 4 or in some other way reasonable -- 5            QUESTION:  Mr. Henderson, you have, from I think 6 your answer to Justice Breyer, pretty well indicated that 7 there would be, even under your view, a large overlap 8 where you'd never get to the misrepresentation exception 9 because the claim never arose in your -- in your view of10 the case.   You stopped yourself in the middle of your11 answer to him and gave an answer that suggested that the12 claim wouldn't accrue anyway.    So, you'd never get to the13 misrepresentation exception.    And -- and I think that a14 lot turns on that.15            So, I would like you to give -- I have exactly16 the problem that Justice Breyer has.    I couldn't think of17 something that wouldn't be covered by your main rule,18 which is nothing -- no liability arises until the person19 suffers the injury, knows that she's suffered the injury.20 Now, give me an example where she knows she suffered the21 injury and would have the benefit of the misrepresentation22 exception.23            MR. HENDERSON:  As I sit here, I'm trying to24 come up with one, but I think that any misrepresentation25 by the credit reporting agency in response to a consumer                                37            ALDERSON REPORTING COMPANY, INC.               1111 FOURTEENTH STREET, N.W.                         SUITE 400                  WASHINGTON, D.C. 20005                       (202)289-2260                      (800) FOR DEPO 1 demand -- 2           QUESTION:  But you had time when you wrote your 3 brief to think about this. 4           MR. HENDERSON:   yes. 5           QUESTION:  And if -- if the misrepresentation 6 exception is superfluous on your reading of the statute, 7 that is a powerful reason for us not to agree with you. 8           MR. HENDERSON:   No, I don't believe it's at all 9 superfluous any more than I believe equitable estoppel is10 superfluous from the injury discovery rule.11           QUESTION:  Well, then give us a concrete example12 where it would have any work to do.13           MR. HENDERSON:   Well, I -- I believe that, for14 example, if a consumer were to inquire of a credit15 reporting agency saying give me everything in your file,16 which includes all the credit accounts, all the17 disclosures for up to 2 years for employment purposes and18 lesser amount of time for other reasons, and if there was19 any disclosure in there or any representation in there by20 the credit reporting agency that was intended to deceive21 the -- the consumer about the -- about the extant22 liability, then it could be, for example, as I said, a --23 a -- some message from the credit reporting agency saying24 that we are -- we are required by law to have the25 procedures we have or to do that which we did, which would                                38            ALDERSON REPORTING COMPANY, INC.              1111 FOURTEENTH STREET, N.W.                        SUITE 400                 WASHINGTON, D.C. 20005                      (202)289-2260                     (800) FOR DEPO 1 be a falsehood and intended to deceive the consumer from 2 bringing a claim for -- for -- to determine whether or not 3 the procedures were, in fact, reasonable. 4           QUESTION:  Yes, but if there were anything wrong 5 in what it disclosed to her, presumably the consumer would 6 know, and that would start the period running.  And there 7 would be no need for the consumer to invoke the exception. 8           MR. HENDERSON:  How would the consumer know that 9 the misrepresentation is --10           QUESTION:  Well, I assume it's a11 misrepresentation about the consumer.12           MR. HENDERSON:  It would be a misrepresentation13 about the behind-the-scenes activity of the credit14 reporting agency.15           QUESTION:  Well, if the -- if the behind-the-16 scenes activity of the credit reporting doesn't, in fact,17 result in a misrepresentation about the consumer, where is18 there going to be any cause of action ever at any time?19 Proviso or no proviso.20           MR. HENDERSON:  Are you talking about a21 misrepresentation to a user of the credit report?22           QUESTION:  A false -- false statement about the23 consumer in a matter that would be material to a decision24 to extend credit to the consumer.25           MR. HENDERSON:  I think you're confusing a                               39            ALDERSON REPORTING COMPANY, INC.              1111 FOURTEENTH STREET, N.W.                        SUITE 400                 WASHINGTON, D.C. 20005                      (202)289-2260                     (800) FOR DEPO 1 misrepresentation made to a user of a credit report from a 2 misrepresentation made to the consumer who inquires of a 3 credit reporting agency. 4           QUESTION:  But doesn't -- I guess what I was 5 assuming was that when the consumer inquires, the consumer 6 is told all those facts which are in the credit reporting 7 company's file which bear on the consumer's credit 8 worthiness which are the sorts of things that the -- that 9 the credit rating service discloses when a credit inquiry10 is made.  Am I wrong about that?11           MR. HENDERSON:   They should be the same given --12 except that there might be differences in time.13           QUESTION:  Well, is there any reason to -- I14 mean, I -- I'm not following you.   Are you saying that in15 some cases they won't give the consumer the entire file?16           MR. HENDERSON:   They -- that's the problem.17 That's what Congress was intending to address.   The way18 it's set up is that, for example, if I apply for credit19 and it's denied, the credit -- the creditor, potential20 creditor, is supposed to notify me that it was based on a21 report from, for example, TRW.   I am then put on notice --22           QUESTION:  Okay.   So, you're saying that if the23 credit reporting service lies to the consumer when the24 consumer says, tell me what you've got and who you've been25 telling, then the proviso would have some work to do.                                40            ALDERSON REPORTING COMPANY, INC.              1111 FOURTEENTH STREET, N.W.                        SUITE 400                 WASHINGTON, D.C. 20005                      (202)289-2260                     (800) FOR DEPO 1           MR. HENDERSON:    Exactly. 2           QUESTION:   Okay. 3           QUESTION:   Why?   Why?  I mean, the -- I still 4 don't see it.  Maybe you need an example. 5           My simpleminded thinking of it is the consumer 6 -- the credit people make a misrepresentation. 7           MR. HENDERSON:    To whom? 8           QUESTION:   To the consumer and it's either 9 material or it isn't.   If it is material, that must be10 because, at least in most cases, it's hidden, some fact11 that is relevant to showing liability, in which case you12 don't need the special exception because the person didn't13 know all the facts.   They hadn't discovered it.   Or it's14 not material, in which case it doesn't fall within the15 exception anyway.16           Now, that's my simpleminded thought, and what I17 started with and I think I'll continue with is you produce18 an example that proves my simpleminded thought is19 simplemindedly wrong.20           MR. HENDERSON:    And let me give you one.  For21 example, if in the initial credit report that's given out22 that is erroneous to a user, there are trade accounts that23 do not belong to the consumer, they belong to someone else24 and they are negative trade accounts, and yet -- and on25 that basis the -- the user writes to the consumer and                                 41            ALDERSON REPORTING COMPANY, INC.              1111 FOURTEENTH STREET, N.W.                        SUITE 400                 WASHINGTON, D.C. 20005                      (202)289-2260                     (800) FOR DEPO 1 says, you don't credit, we've got a credit report from 2 TRW, and on that basis we're denying your credit.    So, the 3 consumer turns to TRW and says, please give me a credit 4 report, and they look at it and they go, oh, there's all 5 this derogatory information in there that does not belong 6 to this consumer, let's get it out of there and give it to 7 the consumer.  So, they take out these -- these trade 8 lines that are derogatory and -- and in so doing 9 misrepresent information to the consumer in such a way as10 to be material and to deceive the consumer such that the11 consumer is then misled about the status of the files.12 And -- and presumably all this is done with the intent of13 deceiving the --14           QUESTION:  Yes, but under your theory, the15 consumer is never put on notice.16           QUESTION:  Yes.   Because the question is simply17 this.  Imagine there were no proviso.   Think of the18 example you just gave.   Are you going to admit on your19 theory that the statute began to run against your20 consumer, or are you going to say, of course, it didn't21 run?  He didn't discover what was going on.22           MR. HENDERSON:   I think under --23           QUESTION:  Which are you going to say?24           MR. HENDERSON:   -- under the injury discovery25 rule or the actual injury occurrence rule, either one                                42            ALDERSON REPORTING COMPANY, INC.              1111 FOURTEENTH STREET, N.W.                        SUITE 400                 WASHINGTON, D.C. 20005                      (202)289-2260                     (800) FOR DEPO 1 which we favor, the injury occurs when the credit is 2 denied, and then immediately thereafter the consumer is 3 put on notice. 4           QUESTION:  All right.  I understand. 5           MR. HENDERSON:  And so, yes. 6           QUESTION:  It is true, though, that under what I 7 think is the prevailing rule in most circuits at least, 8 there would be an equitable estoppel there, and the 9 statutory proviso need not have covered that unless it10 meant to indicate that there was a -- an injury-based11 statute of limitations.12           MR. HENDERSON:  Well, I think the -- it's true13 that the equitable estoppel might apply even if they had14 not added the misrepresentation exception, but as members15 of this Court have recognized, for example, when -- when16 this Court declined the opportunity to apply a Federal17 rule to class action in civil rights cases, that the18 general rule under Federal law is suspension not renewal,19 which means that normally you would just toll the running20 of the limitations period for such amount of time as there21 is -- as there is a deception in place.22           However, Congress went out of its way to say23 that's not the rule here.  We want complete renewal.   We24 want 2 full years of unadulterated knowledge in which to25 go about considering whether to bring a claim.  And it --                               43            ALDERSON REPORTING COMPANY, INC.              1111 FOURTEENTH STREET, N.W.                        SUITE 400                 WASHINGTON, D.C. 20005                      (202)289-2260                     (800) FOR DEPO 1 and it's odd to think that the Congress would want that 2 2 full years in the situation where a -- when a 3 misrepresentation had sprung up but not allow the same 2 4 full years in the normal case after discovery of an 5 injury. 6            QUESTION:  Mr. Henderson, your -- your response 7 to Justice Breyer's question leaves me with -- with some 8 confusion as to what you mean by injury discovery rule.    I 9 assumed it meant at the time the consumer knows, one, that10 he's been injured, number two, by the defendant.   And the11 example that Justice Breyer was given, you say it's enough12 he just knows he was injured because he was denied credit.13 Is that the rule you want?14            MR. HENDERSON:  Well, this Court in Kubrick15 seemed to settle upon an injury and causation accrual16 rule, but I believe that --17            QUESTION:  And causation.  And -- and you don't18 -- it's enough that he knows he was denied credit and --19 and the statute runs then even if he doesn't know that the20 reason he was denied it was -- was the -- the inaccurate21 reporting.22            MR. HENDERSON:  Based on my understanding of the23 law that has developed in the courts of appeals in Cada24 and Connors, that it is -- injury alone is enough to set25 the -- to set the plaintiff on a course of diligence                                44            ALDERSON REPORTING COMPANY, INC.               1111 FOURTEENTH STREET, N.W.                         SUITE 400                  WASHINGTON, D.C. 20005                       (202)289-2260                      (800) FOR DEPO 1 towards the potential presentation of a claim. 2           I think obviously the injury and causation 3 accrual rule is -- is more liberal and more fair in many 4 ways.  It's the rule in Germany, for example.   But -- 5 but -- 6           QUESTION:  It destroys -- it destroys the 7 exception, so you don't want to use it here. 8           MR. HENDERSON:  But if I could, Your Honor, I 9 want to just talk also about the actual injury occurrence10 rule.11           In Hyde v. Hibernia National Bank in 1987, I12 believe it was, the Fifth Circuit looked at this statute13 and said in the case of negligence violations, you have an14 actual injury occurrence rule.   In the case of willful15 violations, you really need to discover the fraud.   It was16 somewhat of a -- an elegant theory that -- that was17 derived by the Fifth Circuit, but it's been argued18 throughout this case at all levels, in the district court.19 In fact, in the petition at page 24a is a discussion of --20 in the appendix at page 24a is a discussion of Hyde v.21 Hibernia National Bank.22           QUESTION:  Why isn't the release of -- of23 confidential information an injury?   That -- that does not24 count as an injury.25           MR. HENDERSON:  I don't believe so.   If it is an                               45            ALDERSON REPORTING COMPANY, INC.              1111 FOURTEENTH STREET, N.W.                        SUITE 400                 WASHINGTON, D.C. 20005                      (202)289-2260                     (800) FOR DEPO 1 injury, it is the most metaphysical type of injury, such 2 as underground trespass where some mining company burrows 3 beneath someone's land that is, by its very nature, 4 undiscoverable, unnoticeable.  And if it is an injury, it 5 is so metaphysical and so unreal that it cries out for the 6 application of the injury discovery rule, which by the 7 way, does not require actual discovery in all cases, but 8 can also be invoked by constructive discovery.   And yet, 9 where you have an injury, if it is an injury, of this10 nature that is by its nature undiscoverable, unnoticeable,11 then of course, you would have to have the injury12 discovery rule at hand.13           I want to also point out that there is -- there14 was some question about the meaning of liability arises.15 Congress more recently has indicated that the phrasing --16 the phraseology used in this statute, the liability arises17 language, is synonymous with accrual language.   And I ask18 the Court to look at 49 U.S.C., section 32710, and the19 case of Carasco v. Fiori Enterprises, the site for which20 is 985 F.Supp. 931 at pages 934 through 935.   And in that21 case, the Court recognized that when Congress amended the22 odometer --23           QUESTION:  This is a district court decision?24           MR. HENDERSON:  It is, and it -- and it analyzes25 what Congress did with respect to the odometer --                               46            ALDERSON REPORTING COMPANY, INC.              1111 FOURTEENTH STREET, N.W.                        SUITE 400                 WASHINGTON, D.C. 20005                      (202)289-2260                     (800) FOR DEPO 1            QUESTION:  Thank you, Mr. Henderson. 2            MR. HENDERSON:  Thank you. 3            QUESTION:  Mr. Jones, we'll hear from you. 4                ORAL ARGUMENT OF KENT L. JONES 5      ON BEHALF OF THE UNITED STATES, AS AMICUS CURIAE, 6                 IN SUPPORT OF THE RESPONDENT 7            MR. JONES:  It's really the second question, of 8 course, whether if the statute has an injury discovery 9 rule, that would be negated by the misrepresentation10 exception.   But the Court is focused on that and there is11 a direct and simple answer to it.12            In this Court's own opinion in Rotella, at page13 555, the Court said, in applying a discovery rule, we have14 been at pains to explain that discovery of the injury, not15 discovery of the other elements of the claim is what16 starts the clock.17            QUESTION:  Well, the difficulty -- the18 difficulty I'm having with that, though I see that now, is19 basically what you've done there is you've taken a statute20 that doesn't discuss any of these things, and you take21 what would be a full discovery rule, and then you break it22 into bits.   Now, you say -- you say, well, we're taking a23 bit out of it and that's the work that the proviso will24 do.25            MR. JONES:  The injury discovery rule starts the                                47            ALDERSON REPORTING COMPANY, INC.               1111 FOURTEENTH STREET, N.W.                         SUITE 400                  WASHINGTON, D.C. 20005                       (202)289-2260                      (800) FOR DEPO 1 clock in the sense that once you become aware of the 2 injury, you have a duty of inquiry to find out the cause 3 of the injury, who caused it, whether it violated your -- 4 a standard of care that was owed to you.    If in making 5 that inquiry, the -- the defendant lies to you about one 6 of those aspects -- for example, he conceals what he 7 actually disclosed -- the statute then gives you 2 years 8 from the date you discover the truth. 9            QUESTION:   Suppose I find that a credit10 reporting agency has given incorrect information to -- to11 somebody who's inquired.    I haven't been denied credit.12 In fact, they give me credit anyway.    But I find that they13 have given inaccurate information.    Is that injury14 discovery?15            MR. JONES:   Well, you're -- you're mixing, I16 think, two points.    One is what is disclosed to you as the17 -- if the consumer.18            QUESTION:   No, no.19            MR. JONES:   If you think that they violated your20 rights and you ask them something, what they tell you.21 That's what the misrepresentation --22            QUESTION:   No.  I -- I discover that the credit23 reporting agency, in -- in its information to Sears,24 included erroneous information.    Sears has given me credit25 anyway.                                 48            ALDERSON REPORTING COMPANY, INC.               1111 FOURTEENTH STREET, N.W.                          SUITE 400                  WASHINGTON, D.C. 20005                       (202)289-2260                      (800) FOR DEPO 1            MR. JONES:  Right. 2            QUESTION:  Have I had any injury? 3            MR. JONES:  It's just erroneous information? 4            QUESTION:  It's erroneous information. 5            MR. JONES:  I don't -- 6            QUESTION:  And it's detrimental.  It's 7 detrimental but Sears gives -- Sears gives me the credit 8 anyway. 9            MR. JONES:  I don't --10            QUESTION:  Have I suffered any injury under this11 statute?12            MR. JONES:  I don't see that you would have,13 but --14            QUESTION:  Wow.15            QUESTION:  You might, if there were a higher16 interest rate charged and you didn't know about that.17            MR. JONES:  That's possible, but if you were18 charged a higher interest rate, you'd probably be on a19 duty of inquiry to -- reasonable diligence to find out20 whether that was injury to you.21            QUESTION:  You don't think that you could then22 get the relief against Sears doing the same thing all over23 again?   You don't think you could tell them to straighten24 out the record for future requests?25            MR. JONES:  I didn't say that you wouldn't be                                49             ALDERSON REPORTING COMPANY, INC.               1111 FOURTEENTH STREET, N.W.                         SUITE 400                  WASHINGTON, D.C. 20005                       (202)289-2260                      (800) FOR DEPO 1 able to ask them to correct the record. 2           QUESTION:  If you haven't been injured, how can 3 you get the relief? 4           MR. JONES:  You'd be entitled to ask them to 5 correct the records, and you'd be entitled to have them do 6 so.  But -- 7           QUESTION:  You mean they'd be liable.  They'd be 8 liable in a suit. 9           MR. JONES:  They'd be required to correct the --10           QUESTION:  For an injunction.11           MR. JONES:  Here's the way that would work, as I12 understand it.  If I asked them to correct the records and13 they failed to do so without a reasonable cause, I could14 bring a suit to require them to correct the records, and15 if they willfully refused to do so, I might be able to16 prove both actual damages and punitive damages.  But I17 would still have to have some actual damages before I got18 a monetary recovery.19           QUESTION:  Do you think the word liability in20 the statute refers only to monetary recovery?21           MR. JONES:  I think that -- well, I think the22 word liability in this statute, like any statute that uses23 cause of action accrues, cause of action arises -- these24 are ambiguous terms that the court has to interpret based25 on the purpose of the statute.                               50            ALDERSON REPORTING COMPANY, INC.              1111 FOURTEENTH STREET, N.W.                        SUITE 400                 WASHINGTON, D.C. 20005                      (202)289-2260                     (800) FOR DEPO 1           QUESTION:  Don't they include injunction and 2 refer not merely to monetary damages, but to an action for 3 injunction? 4           MR. JONES:  There is not a statutory action for 5 an injunction.  There is a statutory action for damages 6 when the -- when the defendant either acts negligently -- 7           QUESTION:  Where does the action for injunction 8 come from if not from the statute? 9           MR. JONES:  It comes from the invocation of the10 common law when --11           QUESTION:  I don't believe in Federal common12 law.  If there's -- there's a cause of action, it's a13 cause of action under the statute.14           MR. JONES:  Well, it's -- it's a cause of action15 that perfects the rights created by the statute.  I16 wouldn't call it an implied right of action, but I would17 think that a Federal court sitting in equity would be able18 to give an injunction to enjoin repeated violations of a19 statute.20           QUESTION:  Before there's any liability, but you21 can't get money damages before there's any liability.22           MR. JONES:  That's doesn't strike me as a23 startling idea, that the -- that an injunction can be24 given in a situation when you're not able to obtain money25 relief.                               51            ALDERSON REPORTING COMPANY, INC.              1111 FOURTEENTH STREET, N.W.                        SUITE 400                 WASHINGTON, D.C. 20005                      (202)289-2260                     (800) FOR DEPO 1           QUESTION:  But you do have to assume that 2 there's a violation for the injunction to lie. 3           MR. JONES:  That's correct.   You have to -- you 4 have to determine that for an injunction to be given. 5           But this -- the question here -- I mean, the 6 second half of the question I think is easily answered, 7 and if the Court has more questions on that, fine, but if 8 not, I'd like to address the first question, which is does 9 the phrase, liability arise, suggest an interpretation10 that -- that -- from which we would conclude that the11 injury discovery rule applied as opposed to the injury12 accrual rule.13           And Congress often creates remedies for -- for14 injuries that are latent or hidden, and -- and it's15 improbable to assume that when Congress does so, it16 intends to curtail that remedy before even a diligent17 plaintiff could be expected to learn of it.   And so, the18 injury discovery rule has been applied by the courts in19 interpreting these kinds of vague provisions like20 liability arises and cause of action accrues to give them21 meaning in the context where there's a hidden or latent22 claim that wouldn't be expected to be discovered in the23 ordinary course.24           QUESTION:  But it is odd in the context of a25 statute that has the other language in it where Congress                               52            ALDERSON REPORTING COMPANY, INC.              1111 FOURTEENTH STREET, N.W.                        SUITE 400                 WASHINGTON, D.C. 20005                      (202)289-2260                     (800) FOR DEPO 1 spells it out.   Yes, here we think there has to be 2 discovery.   I just find the juxtaposition in this statute 3 difficult to overcome. 4            MR. JONES:  There -- there is nothing odd.    In 5 fact, it's ordinary, as -- as it was pointed out, for this 6 kind of fraudulent concealment or equitable estoppel rule 7 to be applied to a statute that has an injury discovery 8 provision. 9            QUESTION:  No, that isn't odd.   What's odd is --10 what is odd is how it's expressed.    If -- if the first11 part was expressed in intending to have a discovery rule,12 the way it was, you would expect the last part to have13 been expressed, the action may be brought at any time14 within 2 years after the misrepresentation because --15            MR. JONES:  The -- Justice --16            QUESTION:  Of course, you would imply 2 years17 after discovery of the misrepresentation.18            MR. JONES:  Justice Scalia, the19 misrepresentation is -- is of any fact material to the20 violation.   The discovery rule is only of the injury, as21 this Court said in Rotella and as the other courts have22 also held.   If -- you -- you can know of the injury and23 not know what caused it or who or whether they were liable24 for it.  And if they -- the defendant lies about that,25 when you're trying to inquire, during this 2-year period                                53            ALDERSON REPORTING COMPANY, INC.               1111 FOURTEENTH STREET, N.W.                         SUITE 400                  WASHINGTON, D.C. 20005                       (202)289-2260                      (800) FOR DEPO 1 from discovery of the injury -- if they lie about that, 2 the statute can -- comes in and says, we're not going to 3 let them profit from their lie.    They're going to be -- 4 you're going to get another 2 years from the time you 5 discover the injury. 6            QUESTION:  But that's always true under 7 equitable estoppel. 8            MR. JONES:  I'm sorry.   Discover the lie.  I'm 9 sorry.10            QUESTION:  That's always true under equitable11 estoppel.12            MR. JONES:  That is -- that is --13            QUESTION:  You have that -- now, it's true that14 the whole -- the statute doesn't run, but you don't have 215 years.16            MR. JONES:  Right.   This statute does not -- is17 not a codification of the entire doctrine of equitable18 estoppel.   It's a specification of the doctrine of19 equitable estoppel in the specific context of these kinds20 of claims.   And it's focuses on these -- these specific21 types of claims.   So, I don't know whether it intends to22 preclude any broader equitable estoppel doctrine, but I do23 know that what Congress has provided is simply a24 application of the equitable estoppel rule in the specific25 context of this statute.                                54            ALDERSON REPORTING COMPANY, INC.               1111 FOURTEENTH STREET, N.W.                         SUITE 400                  WASHINGTON, D.C. 20005                       (202)289-2260                      (800) FOR DEPO 1            QUESTION:  Well, I'm a little nervous.   Perhaps 2 Congress -- I don't know if I would have written the 3 statute this way, but I assume that the credit companies 4 were arguing, look, if you have a discovery rule here 5 across the board, even discovery injury, what will happen 6 is 45 million Americans who never ask for their report, 2 7 million do.   All right?  20 years later, it turns out that 8 we used an unreasonable procedure 20 years ago.   And 9 lawyers for the 45 million others will start combing the10 records to find out how there was an invasion of privacy11 or some other injury, and before you know it, will12 proliferate lawsuits about things that happened 20 or 3013 years ago and created only minor injuries that people14 didn't even know about then.15            MR. JONES:  Well, you have the -- under the16 injury discovery rule, you have the requirement that the17 plaintiff act with some reasonable diligence.18            QUESTION:  They -- they don't know.  They don't19 know who was -- you know, there's no way to know if it was20 an unreasonable procedure, who was told what.21            MR. JONES:  Well, if they don't -- if they don't22 make any inquiry at all over 20 years, I think a court23 could conclude that they didn't act with reasonable24 diligence.   I certainly don't know of any decision25 applying the injury discovery rule that refuses to apply                                55            ALDERSON REPORTING COMPANY, INC.               1111 FOURTEENTH STREET, N.W.                         SUITE 400                  WASHINGTON, D.C. 20005                       (202)289-2260                      (800) FOR DEPO 1 it simply because it may have applications.   I mean, I've 2 never seen a court say that when these kinds of hidden 3 harms are -- are remedied by Congress, Congress meant to 4 let them go unremedied if they weren't discovered.    I 5 mean, it's just the opposite.   It's because as -- as 6 petitioner says, yes, you can have injuries that aren't 7 discovered. 8           QUESTION:   But you -- you can discover the 9 misrepresentation, that -- that is, the -- the erroneous10 credit information.   You can discover that and you can sue11 indefinitely after that.   That doesn't start anything12 running.  It's only when you find that that misinformation13 has caused a denial of credit that your cause of action14 arises.  You can just leave it there.15           MR. JONES:   The -- there are two different16 aspects of this case.   One is the inaccurate -- inaccurate17 reports, which is I believe what you're talking about, but18 then there's the thing that can never be discovered, which19 is the improper disclosure.   When I say can never be20 recovered, I mean is not ordinarily going to be likely to21 be discovered.22           This case actually only involves the improper23 disclosure.  And the Court's analysis of this statute of24 limitations issue should appropriately focus on the fact25 that these kinds of improper disclosures are inherently                                56            ALDERSON REPORTING COMPANY, INC.              1111 FOURTEENTH STREET, N.W.                        SUITE 400                 WASHINGTON, D.C. 20005                      (202)289-2260                     (800) FOR DEPO 1 hidden and not going to be known by the -- by the 2 plaintiff. 3            QUESTION:  Thank you, Mr. Jones. 4            The case is submitted. 5            (Whereupon, at 12:03 p.m., the case in the 6 above-entitled matter was submitted.) 7 8 910111213141516171819202122232425                                57            ALDERSON REPORTING COMPANY, INC.               1111 FOURTEENTH STREET, N.W.                         SUITE 400                  WASHINGTON, D.C. 20005                       (202)289-2260                      (800) FOR DEPO\""
      ]
     },
     "execution_count": 414,
     "metadata": {},
     "output_type": "execute_result"
    }
   ],
   "source": [
    "cleaned[1123]"
   ]
  },
  {
   "cell_type": "code",
   "execution_count": 415,
   "metadata": {},
   "outputs": [
    {
     "data": {
      "text/plain": [
       "[\" We'll hear argument next in No. -, TRW, Inc. v. Adelaide Andrews. Mr. Nager\"]"
      ]
     },
     "execution_count": 415,
     "metadata": {},
     "output_type": "execute_result"
    }
   ],
   "source": [
    "dialogue(cleaned[1123],'REHNQUIST')"
   ]
  },
  {
   "cell_type": "code",
   "execution_count": 416,
   "metadata": {},
   "outputs": [],
   "source": [
    "case_1 = []\n",
    "speech = []\n",
    "for j in all_justices:\n",
    "    text =  dialogue(cleaned[1123],j)\n",
    "    speech += [text]\n",
    "        "
   ]
  },
  {
   "cell_type": "code",
   "execution_count": 417,
   "metadata": {},
   "outputs": [
    {
     "data": {
      "text/plain": [
       "[[],\n",
       " [],\n",
       " [],\n",
       " [],\n",
       " [],\n",
       " [],\n",
       " [],\n",
       " [],\n",
       " [],\n",
       " [],\n",
       " [],\n",
       " [\" We'll hear argument next in No. -, TRW, Inc. v. Adelaide Andrews. Mr. Nager\"],\n",
       " [],\n",
       " [],\n",
       " [],\n",
       " []]"
      ]
     },
     "execution_count": 417,
     "metadata": {},
     "output_type": "execute_result"
    }
   ],
   "source": [
    "speech"
   ]
  },
  {
   "cell_type": "markdown",
   "metadata": {},
   "source": [
    "# **Building the DataFrame**"
   ]
  },
  {
   "cell_type": "markdown",
   "metadata": {},
   "source": [
    "#### Justices!\n",
    "`#print(cleaned[4])`\n",
    "\n",
    "If we run the above ...\n",
    "\n",
    "Notice that instead of having the justices' name, it just says \"QUESTION\". This is usually the case for when it appears there is only one justice present. It seems to be only for Justice Rehnquist."
   ]
  },
  {
   "cell_type": "code",
   "execution_count": 418,
   "metadata": {},
   "outputs": [],
   "source": [
    "## Testing do not use\n",
    "trial = [justices(i) for i in cleaned]\n",
    "every_justice = []\n",
    "for i in trial:\n",
    "    every_justice += i\n",
    "uniques = unique(every_justice)\n",
    "for i in range(len(uniques)):\n",
    "    uniques[i] = re.sub('JUSTICE','',uniques[i])\n",
    "    uniques[i] = re.sub('\\s+','',uniques[i])\n",
    "#unique(uniques)"
   ]
  },
  {
   "cell_type": "code",
   "execution_count": 419,
   "metadata": {},
   "outputs": [],
   "source": [
    "justice = [justices(i) for i in cleaned]\n",
    "for lst in justice:\n",
    "    for word in range(len(lst)):\n",
    "        lst[word] = re.sub('JUSTICE','',lst[word])\n",
    "        lst[word] = re.sub('\\s+','',lst[word])\n",
    "        if 'SC' in lst[word]:\n",
    "            lst[word] = re.sub(lst[word],'SCALIA',lst[word])\n",
    "        if 'KEN' in lst[word]:\n",
    "            lst[word] = re.sub(lst[word],'KENNEDY',lst[word])\n",
    "        if 'TER' in lst[word]:\n",
    "            lst[word] = re.sub(lst[word],'SOUTER',lst[word])\n",
    "        if 'BRE' in lst[word]:\n",
    "            lst[word] = re.sub(lst[word],'BREYER',lst[word])\n",
    "        if 'GIN' in lst[word]:\n",
    "            lst[word] = re.sub(lst[word],'GINSBURG',lst[word])\n",
    "        if 'QUIST' in lst[word]:\n",
    "            lst[word] = re.sub(lst[word],'REHNQUIST',lst[word])\n",
    "        if 'SOTO' in lst[word]:\n",
    "            lst[word] = re.sub(lst[word],'SOTOMAYOR',lst[word])\n",
    "        if 'ROB' in lst[word]:\n",
    "            lst[word] = re.sub(lst[word],'ROBERTS',lst[word])\n",
    "        if 'STEVE' in lst[word]:\n",
    "            lst[word] = re.sub(lst[word],'STEVENS',lst[word])"
   ]
  },
  {
   "cell_type": "code",
   "execution_count": 420,
   "metadata": {},
   "outputs": [],
   "source": [
    "#for i in range(len(justice)):\n",
    " #   justice[i] = re.sub('JUSTICE','',justice[i])"
   ]
  },
  {
   "cell_type": "markdown",
   "metadata": {},
   "source": [
    "#### Dates!"
   ]
  },
  {
   "cell_type": "code",
   "execution_count": 421,
   "metadata": {},
   "outputs": [
    {
     "data": {
      "text/plain": [
       "' December 1, 2008'"
      ]
     },
     "execution_count": 421,
     "metadata": {},
     "output_type": "execute_result"
    }
   ],
   "source": [
    "date(cleaned[0])[0]"
   ]
  },
  {
   "cell_type": "code",
   "execution_count": 422,
   "metadata": {},
   "outputs": [],
   "source": [
    "dates = []\n",
    "for i in cleaned:\n",
    "    dates += [date(i)[0]]"
   ]
  },
  {
   "cell_type": "code",
   "execution_count": 423,
   "metadata": {},
   "outputs": [
    {
     "data": {
      "text/plain": [
       "1302"
      ]
     },
     "execution_count": 423,
     "metadata": {},
     "output_type": "execute_result"
    }
   ],
   "source": [
    "len(dates)"
   ]
  },
  {
   "cell_type": "markdown",
   "metadata": {},
   "source": [
    "#### Year!"
   ]
  },
  {
   "cell_type": "code",
   "execution_count": 424,
   "metadata": {},
   "outputs": [],
   "source": [
    "years = []\n",
    "for i in dates:\n",
    "    years += re.findall('\\d\\d\\d\\d',i)"
   ]
  },
  {
   "cell_type": "code",
   "execution_count": 425,
   "metadata": {},
   "outputs": [
    {
     "data": {
      "text/plain": [
       "1302"
      ]
     },
     "execution_count": 425,
     "metadata": {},
     "output_type": "execute_result"
    }
   ],
   "source": [
    "len(years)"
   ]
  },
  {
   "cell_type": "markdown",
   "metadata": {},
   "source": [
    "#### Case Numbers!"
   ]
  },
  {
   "cell_type": "code",
   "execution_count": 426,
   "metadata": {},
   "outputs": [
    {
     "data": {
      "text/plain": [
       "['No. 07-581']"
      ]
     },
     "execution_count": 426,
     "metadata": {},
     "output_type": "execute_result"
    }
   ],
   "source": [
    "case_no(cleaned[0])"
   ]
  },
  {
   "cell_type": "code",
   "execution_count": 427,
   "metadata": {},
   "outputs": [],
   "source": [
    "cases = []\n",
    "for i in cleaned:\n",
    "    cases += [case_no(i)[0]]"
   ]
  },
  {
   "cell_type": "code",
   "execution_count": 428,
   "metadata": {},
   "outputs": [
    {
     "data": {
      "text/plain": [
       "1302"
      ]
     },
     "execution_count": 428,
     "metadata": {},
     "output_type": "execute_result"
    }
   ],
   "source": [
    "len(cleaned)"
   ]
  },
  {
   "cell_type": "markdown",
   "metadata": {},
   "source": [
    "#### Appearances!"
   ]
  },
  {
   "cell_type": "code",
   "execution_count": 429,
   "metadata": {},
   "outputs": [],
   "source": [
    "# don't use this one\n",
    "def appearances(text):\n",
    "    app = re.findall('APPEARANCES:[\\s\\S]*?Reporting.*?',text)\n",
    "    if len(app) == 0:\n",
    "        app = re.findall('APPEARANCES:[\\s\\S]*?REPORTING.*?',text)\n",
    "        if len(app) == 0:\n",
    "            app = re.findall('APPEARANCES:[\\s\\S]*?C O N T E N T S.*?',text)\n",
    "            if len(app) == 0:\n",
    "                app = re.findall('APPEARANCES:[\\s\\S]*?CONTENTS.*?',text)\n",
    "    app = app[0]\n",
    "    app = re.findall('[\\s\\S]*?;[\\s\\S]*?\\.',app)\n",
    "    app = [re.sub('\\d','',app[i]) for i in range(len(app))]\n",
    "    remove_appearance = re.sub('APPEARANCES:\\s','',app[0])\n",
    "    app[0] = remove_appearance\n",
    "    app = [re.sub('[\\s\\s]+',' ',app[i]) for i in range(len(app))]\n",
    "    return app"
   ]
  },
  {
   "cell_type": "code",
   "execution_count": 430,
   "metadata": {},
   "outputs": [],
   "source": [
    "def diff(text):\n",
    "    app = re.findall('APPEARANCES:*[\\s\\S]*?Reporting.*?',text)\n",
    "    if len(app) == 0 or len(app[0])>1000:\n",
    "        app = re.findall('APPEARANCES:[\\s\\S]*?REPORTING.*?',text)\n",
    "        if len(app) == 0 or len(app[0])>1000:\n",
    "            app = re.findall('APPEARANCES:[\\s\\S]*?C O N T E N T S.*?',text)\n",
    "            if len(app) == 0 or len(app[0])>1000:\n",
    "                app = re.findall('APPEARANCES:[\\s\\S]*?CONTENTS.*?',text)\n",
    "                if len(app) == 0 or len(app[0])>1000:\n",
    "                    app = re.findall('APPEARANCES:[\\s\\S]*?P R O C E E D I N G S.*?',text)\n",
    "    app = app[0]\n",
    "    app = re.sub('\\d','',app)\n",
    "    remove_appearance = re.sub('APPEARANCES:*\\s','',app)\n",
    "    app = re.sub('[\\s\\s]+',' ',remove_appearance)\n",
    "    return app"
   ]
  },
  {
   "cell_type": "code",
   "execution_count": 431,
   "metadata": {
    "scrolled": true
   },
   "outputs": [],
   "source": [
    "ugh = []\n",
    "c = 1\n",
    "for i in range(len(cleaned)):\n",
    "    #print(c)\n",
    "    try:\n",
    "        ugh+=[diff(cleaned[i])]\n",
    "        #print('')\n",
    "    except:\n",
    "        ugh += [i]\n",
    "        continue\n",
    "    c+=1"
   ]
  },
  {
   "cell_type": "code",
   "execution_count": 432,
   "metadata": {},
   "outputs": [
    {
     "name": "stdout",
     "output_type": "stream",
     "text": [
      "1023\n"
     ]
    }
   ],
   "source": [
    "for i in ugh:\n",
    "    if type(i)==int:\n",
    "        print(i)"
   ]
  },
  {
   "cell_type": "code",
   "execution_count": 433,
   "metadata": {},
   "outputs": [
    {
     "data": {
      "text/plain": [
       "1023"
      ]
     },
     "execution_count": 433,
     "metadata": {},
     "output_type": "execute_result"
    }
   ],
   "source": [
    "ugh[1023]"
   ]
  },
  {
   "cell_type": "code",
   "execution_count": 434,
   "metadata": {},
   "outputs": [],
   "source": [
    "for i in range(len(ugh)):\n",
    "    if i == 1023:\n",
    "        ugh[i] = 1023\n",
    "    else:\n",
    "        ugh[i] = re.sub('in No. -','',ugh[i])"
   ]
  },
  {
   "cell_type": "code",
   "execution_count": 435,
   "metadata": {},
   "outputs": [],
   "source": [
    "reporting_pattern = '[A-Z][a-z]+\\sReporting'\n",
    "REPORTING_pattern = '[A-Z]+\\sREPORTING'\n",
    "contents_pattern = 'CONTENTS'\n",
    "CONTENTS_pattern = 'C O N T E N T S'"
   ]
  },
  {
   "cell_type": "code",
   "execution_count": 436,
   "metadata": {},
   "outputs": [
    {
     "data": {
      "text/plain": [
       "'PAUL SALVATORE, ESQ., New York, N.Y.; on behalf of the Petitioners. DAVID C. FREDERICK, ESQ., Washington, D.C.; on behalf of the Respondents. CURTIS E. GANNON, ESQ., Assistant to the Solicitor General, Department of Justice, Washington, D.C.; on behalf of the United States, as amicus curiae, supporting the Respondents. Alderson Reporting'"
      ]
     },
     "execution_count": 436,
     "metadata": {},
     "output_type": "execute_result"
    }
   ],
   "source": [
    "ugh[0]"
   ]
  },
  {
   "cell_type": "code",
   "execution_count": 437,
   "metadata": {
    "scrolled": true
   },
   "outputs": [
    {
     "data": {
      "text/plain": [
       "'PAUL SALVATORE, ESQ., New York, N.Y.; on behalf of the Petitioners. DAVID C. FREDERICK, ESQ., Washington, D.C.; on behalf of the Respondents. CURTIS E. GANNON, ESQ., Assistant to the Solicitor General, Department of Justice, Washington, D.C.; on behalf of the United States, as amicus curiae, supporting the Respondents. '"
      ]
     },
     "execution_count": 437,
     "metadata": {},
     "output_type": "execute_result"
    }
   ],
   "source": [
    "re.sub(re.findall(reporting_pattern,ugh[0])[0],'',ugh[0])"
   ]
  },
  {
   "cell_type": "code",
   "execution_count": 438,
   "metadata": {},
   "outputs": [],
   "source": [
    "for i in range(len(ugh)):\n",
    "    if i == 1023:\n",
    "        ugh[i] == 'JASON D. HAWKINS, ESQ., Assistant Federal Public Defender, Dallas, Texas; for Petitioner. WILLIAM M. JAY, ESQ., Assistant to the Solicitor General, Department of Justice, Washington, D.C.; for  Respondent, in support of Petitioner. EVAN A. YOUNG, ESQ., Austin, Texas; for amicus curiae, in support of the judgment below; appointed by this Court.'\n",
    "    else:\n",
    "        report1 = re.findall(reporting_pattern,ugh[i])\n",
    "        report2 = re.findall(REPORTING_pattern,ugh[i])\n",
    "        content1 = re.findall(contents_pattern,ugh[i])\n",
    "        content2 = re.findall(CONTENTS_pattern,ugh[i])\n",
    "        if len(report1) > 0:\n",
    "            ugh[i]=re.sub(report1[0],'',ugh[i])\n",
    "        elif len(report2) > 0:\n",
    "            ugh[i]=re.sub(report2[0],'',ugh[i])\n",
    "        elif len(content1) > 0:\n",
    "            ugh[i]=re.sub(content1[0],'',ugh[i])\n",
    "        else:\n",
    "            ugh[i]=re.sub(content2[0],'',ugh[i])"
   ]
  },
  {
   "cell_type": "code",
   "execution_count": 439,
   "metadata": {},
   "outputs": [],
   "source": [
    "bad = 'JASON D. HAWKINS, ESQ., Assistant Federal Public Defender, Dallas, Texas; for Petitioner. WILLIAM M. JAY, ESQ., Assistant to the Solicitor General, Department of Justice, Washington, D.C.; for  Respondent, in support of Petitioner. EVAN A. YOUNG, ESQ., Austin, Texas; for amicus curiae, in support of the judgment below; appointed by this Court.'"
   ]
  },
  {
   "cell_type": "code",
   "execution_count": 440,
   "metadata": {},
   "outputs": [],
   "source": [
    "no_55 = re.sub(\"\\d\", \"\",cleaned[55])\n",
    "no_295 = re.sub(\"\\d\",\"\",cleaned[295])\n",
    "app_55 = \"THOMAS C. GOLDSTEIN, ESQ., Washington, D.C.; on behalf of Petitioners. DONALD B. VERRILLI, JR., ESQ., Solicitor General, Department of Justice, Washington, D.C.; on behalf of Respondents.\"\n",
    "app_295 = \"APPEARANCES: Alderson Reporting Company Official - Subject to Final Review TIMOTHY S. BISHOP, ESQ., Chicago, Illinois; on behalf of Petitioners. MALCOLM L. STEWART, ESQ., Deputy Solicitor General, Department of Justice, Washington, D.C.; for United States, as amicus curiae, in support of Petitioners. JEFFREY L. FISHER, ESQ., Stanford, California; on behalf of Respondents.\"\n",
    "app_1023 = 'JASON D. HAWKINS, ESQ., Assistant Federal Public Defender, Dallas, Texas; for Petitioner. WILLIAM M. JAY, ESQ., Assistant to the Solicitor General, Department of Justice, Washington, D.C.; for  Respondent, in support of Petitioner. EVAN A. YOUNG, ESQ., Austin, Texas; for amicus curiae, in support of the judgment below; appointed by this Court.'"
   ]
  },
  {
   "cell_type": "code",
   "execution_count": 441,
   "metadata": {},
   "outputs": [],
   "source": [
    "ugh[55] = app_55\n",
    "ugh[295] = app_295\n",
    "ugh[1023] = app_1023"
   ]
  },
  {
   "cell_type": "markdown",
   "metadata": {},
   "source": [
    "#### People!"
   ]
  },
  {
   "cell_type": "code",
   "execution_count": 442,
   "metadata": {},
   "outputs": [],
   "source": [
    "people = []\n",
    "for i in range(len(ugh)):\n",
    "    p = re.findall('[A-Z]+\\s[A-Z\\.\\s]*[\\'*A-Za-z\\s*]+',ugh[i])\n",
    "    people += [p]\n",
    "    \n",
    "for i in range(len(people)):\n",
    "    people[i] = \", \".join(people[i])"
   ]
  },
  {
   "cell_type": "code",
   "execution_count": 443,
   "metadata": {
    "scrolled": true
   },
   "outputs": [],
   "source": [
    "anns = []\n",
    "for i in range(len(people)):\n",
    "    lst = people[i]\n",
    "    if \"DABNEY\" in lst:\n",
    "        anns += [i]"
   ]
  },
  {
   "cell_type": "code",
   "execution_count": 444,
   "metadata": {},
   "outputs": [
    {
     "name": "stdout",
     "output_type": "stream",
     "text": [
      "Already, LLC v. Nike, Inc.\n",
      "\n",
      "Holmes Group, Inc. v. Vornado Air Circulation Systems, Inc.\n",
      "\n",
      "KSR International Co. v. Teleflex, Inc.\n",
      "\n",
      "TC Heartland LLC v. Kraft Foods Group Brands LLC\n",
      "\n"
     ]
    }
   ],
   "source": [
    "for i in anns:\n",
    "    print(data.iloc[i]['Title'])\n",
    "    print('')"
   ]
  },
  {
   "cell_type": "code",
   "execution_count": 445,
   "metadata": {
    "scrolled": true
   },
   "outputs": [
    {
     "data": {
      "text/plain": [
       "'MICHAEL B. KIMBERLY, ESQ., Washington, D.C.; on behalf of the Petitioner. RANDALL E. RAVITZ, ESQ., Assistant Attorney General, Boston, Mass.; on behalf of the Respondent. ANN O’CONNELL, ESQ., Assistant to the Solicitor General, Department of Justice, Washington, D.C.; for United States, as amicus curiae, supporting the Respondent. '"
      ]
     },
     "execution_count": 445,
     "metadata": {},
     "output_type": "execute_result"
    }
   ],
   "source": [
    "data.iloc[1252]['Appearances']"
   ]
  },
  {
   "cell_type": "code",
   "execution_count": 446,
   "metadata": {},
   "outputs": [],
   "source": [
    "#for i in range(len(people)):\n",
    " #   need_to_fix = re.findall()"
   ]
  },
  {
   "cell_type": "code",
   "execution_count": 447,
   "metadata": {},
   "outputs": [
    {
     "data": {
      "text/plain": [
       "Title                                            Nevada v. Hicks\n",
       "Case No                                              No. 99-1994\n",
       "Date                                              March 21, 2001\n",
       "Year                                                        2001\n",
       "Justices                                             [REHNQUIST]\n",
       "Appearances    C. WAYNE HOWLE, ESQ., Carson City, Nevada; on ...\n",
       "People                WAYNE HOWLE, JAMES ANAYA, BARBARA MCDOWELL\n",
       "Name: 825, dtype: object"
      ]
     },
     "execution_count": 447,
     "metadata": {},
     "output_type": "execute_result"
    }
   ],
   "source": [
    "data.iloc[825]"
   ]
  },
  {
   "cell_type": "markdown",
   "metadata": {},
   "source": [
    "#### Title!"
   ]
  },
  {
   "cell_type": "code",
   "execution_count": 448,
   "metadata": {},
   "outputs": [],
   "source": [
    "title = [f for f in listdir(r\"C:\\Users\\Avena Cheng\\Desktop\\Liberating Archives\\supremecourt\\textfiles\") if isfile(join(r\"C:\\Users\\Avena Cheng\\Desktop\\Liberating Archives\\supremecourt\\textfiles\", f))]\n",
    "for i in range(len(title)):\n",
    "    title[i] = re.sub('.pdf.txt','',title[i])\n",
    "title.remove('DatabaseDesign1.ipynb')"
   ]
  },
  {
   "cell_type": "markdown",
   "metadata": {},
   "source": [
    "### ACTUAL DATAFRAME!!!\n",
    "\n",
    "** Note: Some cases only have one justice, Rehnquist, but this is actually because the rest of the questions appear as \"QUESTION:\" rather than the justices' name."
   ]
  },
  {
   "cell_type": "code",
   "execution_count": 449,
   "metadata": {},
   "outputs": [
    {
     "name": "stdout",
     "output_type": "stream",
     "text": [
      "1302 1302 1302 1302 1302 1302\n"
     ]
    }
   ],
   "source": [
    "#make sure they're all the same length\n",
    "print(len(justice),\n",
    "len(title),\n",
    "len(ugh),\n",
    "len(people),\n",
    "len(years),\n",
    "len(cases))"
   ]
  },
  {
   "cell_type": "code",
   "execution_count": 450,
   "metadata": {
    "scrolled": true
   },
   "outputs": [],
   "source": [
    "data = pd.DataFrame({'Title':title,'Case No': cases,'Date':dates,'Year':years,'Justices':justice,'Appearances':ugh,'People':people})#'Justices':justice,'Appearances':people})"
   ]
  },
  {
   "cell_type": "code",
   "execution_count": 451,
   "metadata": {},
   "outputs": [],
   "source": [
    "data.to_csv(r\"C:\\Users\\Avena Cheng\\Desktop\\Liberating Archives\\data.csv\")"
   ]
  },
  {
   "cell_type": "markdown",
   "metadata": {},
   "source": [
    "## Bills/Acts"
   ]
  },
  {
   "cell_type": "code",
   "execution_count": 155,
   "metadata": {},
   "outputs": [],
   "source": [
    "import regex as re\n",
    "import numpy\n",
    "import os\n",
    "\n",
    "def unique(texts):\n",
    "    return list(set(texts))\n",
    "\n",
    "#return a set of nonunique bill mentioned in the speech.\n",
    "def bill(texts):\n",
    "    no_num = re.sub('\\d+','',texts)\n",
    "    no_n = re.sub('\\n','',no_num)\n",
    "    evenly_spaced = re.sub('\\s+',' ',no_n)\n",
    "    b= re.findall(\"[A-Z][a-z]+\\s[A-Z][a-z]+\\sAct\", evenly_spaced)\n",
    "    return b\n",
    "#return a set of unique bill mentioned in the speech.\n",
    "def unibill(texts):\n",
    "    return unique(bill(texts))\n",
    "#return the name and times it appears.\n",
    "def count(texts):\n",
    "    bills = bill(texts)\n",
    "    ret = []\n",
    "    for i in range(0,len(bills)):\n",
    "        count = bills.count(bills[i])\n",
    "        ret.append (str(bills[i]) + \" \" + \":\" + ' '+str(count))\n",
    "    return unique(ret)\n"
   ]
  },
  {
   "cell_type": "code",
   "execution_count": 96,
   "metadata": {},
   "outputs": [
    {
     "data": {
      "text/plain": [
       "['Labor Relations Act : 2', 'Labor Standards Act : 1']"
      ]
     },
     "execution_count": 96,
     "metadata": {},
     "output_type": "execute_result"
    }
   ],
   "source": [
    "unibill(cleaned[0])\n",
    "count(cleaned[0])"
   ]
  },
  {
   "cell_type": "code",
   "execution_count": 97,
   "metadata": {},
   "outputs": [],
   "source": [
    "bills_mentioned = []\n",
    "for i in range(len(cleaned)):\n",
    "    bills_mentioned += [count(cleaned[i])]"
   ]
  },
  {
   "cell_type": "code",
   "execution_count": 98,
   "metadata": {},
   "outputs": [
    {
     "data": {
      "text/plain": [
       "1302"
      ]
     },
     "execution_count": 98,
     "metadata": {},
     "output_type": "execute_result"
    }
   ],
   "source": [
    "len(bills_mentioned)"
   ]
  },
  {
   "cell_type": "code",
   "execution_count": 99,
   "metadata": {},
   "outputs": [],
   "source": [
    "data['Bills Mentioned'] = bills_mentioned"
   ]
  },
  {
   "cell_type": "code",
   "execution_count": 102,
   "metadata": {
    "scrolled": true
   },
   "outputs": [
    {
     "data": {
      "text/plain": [
       "' ALITO,  BREYER,  GINSBURG,  KENNEDY,  ROBERTS,  SCALIA,  SOUTER,  STEVENS'"
      ]
     },
     "execution_count": 102,
     "metadata": {},
     "output_type": "execute_result"
    }
   ],
   "source": [
    "data['Justices'].iloc[0]"
   ]
  },
  {
   "cell_type": "code",
   "execution_count": 103,
   "metadata": {},
   "outputs": [
    {
     "data": {
      "text/plain": [
       "' ALITO,  BREYER,  GINSBURG,  GORSUCH,  KAGAN,  KENNEDY,  ROBERTS,  SOTOMAYOR'"
      ]
     },
     "execution_count": 103,
     "metadata": {},
     "output_type": "execute_result"
    }
   ],
   "source": [
    "data['Justices'].iloc[1]"
   ]
  },
  {
   "cell_type": "code",
   "execution_count": 104,
   "metadata": {},
   "outputs": [
    {
     "data": {
      "text/plain": [
       "' ALITO,  BREYER,  GINSBURG,  ROBERTS,  SCALIA,  SOTOMAYOR'"
      ]
     },
     "execution_count": 104,
     "metadata": {},
     "output_type": "execute_result"
    }
   ],
   "source": [
    "data['Justices'].iloc[2]"
   ]
  },
  {
   "cell_type": "code",
   "execution_count": 105,
   "metadata": {},
   "outputs": [
    {
     "data": {
      "text/plain": [
       "' ALITO,  BREYER,  GINSBURG,  KENNEDY,  ROBERTS,  SCALIA,  STEVENS'"
      ]
     },
     "execution_count": 105,
     "metadata": {},
     "output_type": "execute_result"
    }
   ],
   "source": [
    "data['Justices'].iloc[3]"
   ]
  },
  {
   "cell_type": "code",
   "execution_count": 77,
   "metadata": {},
   "outputs": [],
   "source": [
    "bills_db = data[['Title','Case No','Date','Bills Mentioned']]"
   ]
  },
  {
   "cell_type": "code",
   "execution_count": 80,
   "metadata": {},
   "outputs": [],
   "source": [
    "#bills_db.to_csv('bills_db.csv')"
   ]
  },
  {
   "cell_type": "markdown",
   "metadata": {},
   "source": [
    "## Keywords/TF-IDF"
   ]
  },
  {
   "cell_type": "code",
   "execution_count": 5,
   "metadata": {},
   "outputs": [],
   "source": [
    "import nltk\n",
    "\n",
    "# nltk.download('all')\n",
    "from nltk.tokenize import sent_tokenize # tokenizes sentences\n",
    "import re\n",
    "\n",
    "from nltk import word_tokenize\n",
    "from nltk.tag import pos_tag\n",
    "from nltk.corpus import stopwords\n",
    "from nltk.corpus import wordnet\n",
    "\n",
    "eng_stopwords = stopwords.words('english')"
   ]
  },
  {
   "cell_type": "code",
   "execution_count": 29,
   "metadata": {},
   "outputs": [],
   "source": [
    "def text_cleaner(text,stem=False):\n",
    "    '''\n",
    "    1. Use regex to remove all special characters (only keep letters)\n",
    "    2. Make strings to lower case and tokenize / word split reviews\n",
    "    3. Remove English stopwords\n",
    "    4. Rejoin to one string\n",
    "    '''\n",
    "    #3. Remove punctuation\n",
    "    text = re.sub(\"[^a-zA-Z]\", \" \",text)\n",
    "    #4. Tokenize into words (all lower case)\n",
    "    text = text.lower()\n",
    "    #5. Remove stopwords\n",
    "    eng_stopwords = set(stopwords.words(\"english\"))\n",
    "\n",
    "    words = word_tokenize(text)\n",
    "    words = [w for w in words if w not in eng_stopwords]\n",
    "    return(words)"
   ]
  },
  {
   "cell_type": "code",
   "execution_count": 30,
   "metadata": {},
   "outputs": [
    {
     "name": "stdout",
     "output_type": "stream",
     "text": [
      "Total number of words in document 1 is 13697\n",
      "Frequency of the word Allegations is 17\n"
     ]
    },
    {
     "data": {
      "text/plain": [
       "0.0012411476965758926"
      ]
     },
     "execution_count": 30,
     "metadata": {},
     "output_type": "execute_result"
    }
   ],
   "source": [
    "def term_frequency(document, term):\n",
    "    words = text_cleaner(document)\n",
    "    number_of_words = len(words)\n",
    "    print(\"Total number of words in document 1 is\", number_of_words)\n",
    "\n",
    "    frequency_of_word = sum([1 for word in words if word.lower() == term])\n",
    "    print(\"Frequency of the word\", term, \"is\", frequency_of_word)\n",
    "\n",
    "    term_frequency = frequency_of_word / number_of_words\n",
    "    return term_frequency"
   ]
  },
  {
   "cell_type": "code",
   "execution_count": 31,
   "metadata": {},
   "outputs": [
    {
     "data": {
      "text/plain": [
       "['official',\n",
       " 'subject',\n",
       " 'final',\n",
       " 'review',\n",
       " 'supreme',\n",
       " 'court',\n",
       " 'united',\n",
       " 'states',\n",
       " 'x',\n",
       " 'penn',\n",
       " 'plaza',\n",
       " 'llc',\n",
       " 'et',\n",
       " 'al',\n",
       " 'petitioners',\n",
       " 'v',\n",
       " 'steven',\n",
       " 'pyett',\n",
       " 'et',\n",
       " 'al',\n",
       " 'x',\n",
       " 'washington',\n",
       " 'c',\n",
       " 'monday',\n",
       " 'december',\n",
       " 'entitled',\n",
       " 'matter',\n",
       " 'came',\n",
       " 'oral',\n",
       " 'argument',\n",
       " 'supreme',\n",
       " 'court',\n",
       " 'united',\n",
       " 'states',\n",
       " 'appearances',\n",
       " 'paul',\n",
       " 'salvatore',\n",
       " 'esq',\n",
       " 'new',\n",
       " 'york',\n",
       " 'n',\n",
       " 'behalf',\n",
       " 'petitioners',\n",
       " 'david',\n",
       " 'c',\n",
       " 'frederick',\n",
       " 'esq',\n",
       " 'washington',\n",
       " 'c',\n",
       " 'behalf',\n",
       " 'respondents',\n",
       " 'curtis',\n",
       " 'e',\n",
       " 'gannon',\n",
       " 'esq',\n",
       " 'assistant',\n",
       " 'solicitor',\n",
       " 'general',\n",
       " 'department',\n",
       " 'justice',\n",
       " 'washington',\n",
       " 'c',\n",
       " 'behalf',\n",
       " 'united',\n",
       " 'states',\n",
       " 'amicus',\n",
       " 'curiae',\n",
       " 'supporting',\n",
       " 'respondents',\n",
       " 'alderson',\n",
       " 'reporting',\n",
       " 'company',\n",
       " 'official',\n",
       " 'subject',\n",
       " 'final',\n",
       " 'review',\n",
       " 'c',\n",
       " 'n',\n",
       " 'e',\n",
       " 'n',\n",
       " 'oral',\n",
       " 'argument',\n",
       " 'page',\n",
       " 'paul',\n",
       " 'salvatore',\n",
       " 'esq',\n",
       " 'behalf',\n",
       " 'petitioners',\n",
       " 'david',\n",
       " 'c',\n",
       " 'frederick',\n",
       " 'esq',\n",
       " 'behalf',\n",
       " 'respondents',\n",
       " 'curtis',\n",
       " 'e',\n",
       " 'gannon',\n",
       " 'esq',\n",
       " 'behalf',\n",
       " 'united',\n",
       " 'states',\n",
       " 'amicus',\n",
       " 'curiae',\n",
       " 'supporting',\n",
       " 'respondents',\n",
       " 'rebuttal',\n",
       " 'argument',\n",
       " 'paul',\n",
       " 'salvatore',\n",
       " 'esq',\n",
       " 'behalf',\n",
       " 'petitioners',\n",
       " 'alderson',\n",
       " 'reporting',\n",
       " 'company',\n",
       " 'official',\n",
       " 'subject',\n",
       " 'final',\n",
       " 'review',\n",
       " 'p',\n",
       " 'r',\n",
       " 'c',\n",
       " 'e',\n",
       " 'e',\n",
       " 'n',\n",
       " 'g',\n",
       " 'chief',\n",
       " 'justice',\n",
       " 'roberts',\n",
       " 'hear',\n",
       " 'argument',\n",
       " 'next',\n",
       " 'case',\n",
       " 'penn',\n",
       " 'plaza',\n",
       " 'llc',\n",
       " 'v',\n",
       " 'pyett',\n",
       " 'mr',\n",
       " 'salvatore',\n",
       " 'oral',\n",
       " 'argument',\n",
       " 'paul',\n",
       " 'salvatore',\n",
       " 'behalf',\n",
       " 'petitioners',\n",
       " 'mr',\n",
       " 'salvatore',\n",
       " 'thank',\n",
       " 'mr',\n",
       " 'chief',\n",
       " 'justice',\n",
       " 'may',\n",
       " 'please',\n",
       " 'court',\n",
       " 'three',\n",
       " 'reasons',\n",
       " 'court',\n",
       " 'reverse',\n",
       " 'second',\n",
       " 'circuit',\n",
       " 'blanket',\n",
       " 'ban',\n",
       " 'collectively',\n",
       " 'bargained',\n",
       " 'arbitral',\n",
       " 'forum',\n",
       " 'forum',\n",
       " 'selection',\n",
       " 'clauses',\n",
       " 'first',\n",
       " 'second',\n",
       " 'circuit',\n",
       " 'ignored',\n",
       " 'section',\n",
       " 'national',\n",
       " 'labor',\n",
       " 'relations',\n",
       " 'act',\n",
       " 'congress',\n",
       " 'empowered',\n",
       " 'unions',\n",
       " 'bargain',\n",
       " 'behalf',\n",
       " 'employees',\n",
       " 'anything',\n",
       " 'germane',\n",
       " 'working',\n",
       " 'environment',\n",
       " 'including',\n",
       " 'methods',\n",
       " 'workplace',\n",
       " 'dispute',\n",
       " 'resolution',\n",
       " 'forum',\n",
       " 'adea',\n",
       " 'claim',\n",
       " 'heard',\n",
       " 'falls',\n",
       " 'squarely',\n",
       " 'authority',\n",
       " 'indeed',\n",
       " 'forbidding',\n",
       " 'unions',\n",
       " 'bargaining',\n",
       " 'procedural',\n",
       " 'right',\n",
       " 'arbitral',\n",
       " 'forum',\n",
       " 'carve',\n",
       " 'judicial',\n",
       " 'exception',\n",
       " 'labor',\n",
       " 'law',\n",
       " 'permitting',\n",
       " 'employers',\n",
       " 'bypass',\n",
       " 'union',\n",
       " 'deal',\n",
       " 'directly',\n",
       " 'employees',\n",
       " 'defeating',\n",
       " 'congress',\n",
       " 'alderson',\n",
       " 'reporting',\n",
       " 'company',\n",
       " 'official',\n",
       " 'subject',\n",
       " 'final',\n",
       " 'review',\n",
       " 'national',\n",
       " 'labor',\n",
       " 'policy',\n",
       " 'second',\n",
       " 'second',\n",
       " 'circuit',\n",
       " 'failed',\n",
       " 'consider',\n",
       " 'congress',\n",
       " 'strong',\n",
       " 'endorsement',\n",
       " 'workplace',\n",
       " 'arbitration',\n",
       " 'contained',\n",
       " 'faa',\n",
       " 'section',\n",
       " 'third',\n",
       " 'second',\n",
       " 'circuit',\n",
       " 'erroneously',\n",
       " 'exclusively',\n",
       " 'relied',\n",
       " 'alexander',\n",
       " 'versus',\n",
       " 'gardner',\n",
       " 'denver',\n",
       " 'gardner',\n",
       " 'denver',\n",
       " 'case',\n",
       " 'claim',\n",
       " 'preclusion',\n",
       " 'enforcing',\n",
       " 'agreement',\n",
       " 'arbitrate',\n",
       " 'statutory',\n",
       " 'claim',\n",
       " 'justice',\n",
       " 'souter',\n",
       " 'mr',\n",
       " 'salvatore',\n",
       " 'take',\n",
       " 'position',\n",
       " 'thing',\n",
       " 'stake',\n",
       " 'simply',\n",
       " 'effect',\n",
       " 'selection',\n",
       " 'arbitral',\n",
       " 'forum',\n",
       " 'say',\n",
       " 'argument',\n",
       " 'fact',\n",
       " 'collective',\n",
       " 'bargaining',\n",
       " 'agreement',\n",
       " 'employee',\n",
       " 'subject',\n",
       " 'merely',\n",
       " 'right',\n",
       " 'union',\n",
       " 'choose',\n",
       " 'arbitral',\n",
       " 'forum',\n",
       " 'fact',\n",
       " 'assert',\n",
       " 'claim',\n",
       " 'answer',\n",
       " 'mr',\n",
       " 'salvatore',\n",
       " 'honor',\n",
       " 'collective',\n",
       " 'bargaining',\n",
       " 'agreement',\n",
       " 'collective',\n",
       " 'bargaining',\n",
       " 'agreement',\n",
       " 'union',\n",
       " 'employee',\n",
       " 'tenders',\n",
       " 'claim',\n",
       " 'union',\n",
       " 'majority',\n",
       " 'cases',\n",
       " 'employee',\n",
       " 'union',\n",
       " 'interests',\n",
       " 'aligned',\n",
       " 'justice',\n",
       " 'ginsburg',\n",
       " 'alderson',\n",
       " 'reporting',\n",
       " 'company',\n",
       " 'official',\n",
       " 'subject',\n",
       " 'final',\n",
       " 'review',\n",
       " 'justice',\n",
       " 'kennedy',\n",
       " 'yes',\n",
       " 'justice',\n",
       " 'ginsburg',\n",
       " 'dealing',\n",
       " 'claims',\n",
       " 'union',\n",
       " 'said',\n",
       " 'sorry',\n",
       " 'going',\n",
       " 'process',\n",
       " 'claims',\n",
       " 'tension',\n",
       " 'since',\n",
       " 'younger',\n",
       " 'workers',\n",
       " 'replaced',\n",
       " 'also',\n",
       " 'represent',\n",
       " 'proposing',\n",
       " 'far',\n",
       " 'understand',\n",
       " 'situation',\n",
       " 'workers',\n",
       " 'would',\n",
       " 'individual',\n",
       " 'right',\n",
       " 'union',\n",
       " 'says',\n",
       " 'represent',\n",
       " 'mr',\n",
       " 'salvatore',\n",
       " 'honor',\n",
       " 'clause',\n",
       " 'requires',\n",
       " 'claims',\n",
       " 'arbitrated',\n",
       " 'claims',\n",
       " 'means',\n",
       " 'individuals',\n",
       " 'go',\n",
       " 'arbitration',\n",
       " 'private',\n",
       " 'counsel',\n",
       " 'case',\n",
       " 'claims',\n",
       " 'heard',\n",
       " 'arbitral',\n",
       " 'forum',\n",
       " 'one',\n",
       " 'denying',\n",
       " 'justice',\n",
       " 'ginsburg',\n",
       " 'contract',\n",
       " 'say',\n",
       " 'anything',\n",
       " 'individual',\n",
       " 'succeeding',\n",
       " 'whatever',\n",
       " 'arrangement',\n",
       " 'union',\n",
       " 'employer',\n",
       " 'mr',\n",
       " 'salvatore',\n",
       " 'honor',\n",
       " 'looking',\n",
       " 'petition',\n",
       " 'appendix',\n",
       " 'justice',\n",
       " 'ginsburg',\n",
       " 'thought',\n",
       " 'union',\n",
       " 'invoke',\n",
       " 'arbitration',\n",
       " 'clause',\n",
       " 'individual',\n",
       " 'alderson',\n",
       " 'reporting',\n",
       " 'company',\n",
       " 'official',\n",
       " 'subject',\n",
       " 'final',\n",
       " 'review',\n",
       " 'mr',\n",
       " 'salvatore',\n",
       " 'honor',\n",
       " 'way',\n",
       " 'contract',\n",
       " 'reads',\n",
       " 'looking',\n",
       " 'petition',\n",
       " 'appendix',\n",
       " 'page',\n",
       " 'discrimination',\n",
       " 'clause',\n",
       " 'quick',\n",
       " 'prelude',\n",
       " 'go',\n",
       " 'language',\n",
       " 'want',\n",
       " 'note',\n",
       " 'argument',\n",
       " 'employees',\n",
       " 'bound',\n",
       " 'go',\n",
       " 'individually',\n",
       " 'arbitration',\n",
       " 'never',\n",
       " 'raised',\n",
       " 'second',\n",
       " 'circuit',\n",
       " 'consider',\n",
       " 'indeed',\n",
       " 'second',\n",
       " 'circuit',\n",
       " 'found',\n",
       " 'clause',\n",
       " 'covered',\n",
       " 'employees',\n",
       " 'came',\n",
       " 'respondents',\n",
       " 'brief',\n",
       " 'court',\n",
       " 'cert',\n",
       " 'granted',\n",
       " 'red',\n",
       " 'brief',\n",
       " 'argument',\n",
       " 'one',\n",
       " 'factual',\n",
       " 'premises',\n",
       " 'never',\n",
       " 'considered',\n",
       " 'district',\n",
       " 'court',\n",
       " 'court',\n",
       " 'appeals',\n",
       " 'chief',\n",
       " 'justice',\n",
       " 'roberts',\n",
       " 'clear',\n",
       " 'justice',\n",
       " 'kennedy',\n",
       " 'wish',\n",
       " 'delay',\n",
       " 'reading',\n",
       " 'part',\n",
       " 'decision',\n",
       " 'make',\n",
       " 'background',\n",
       " 'consideration',\n",
       " 'potentiality',\n",
       " 'union',\n",
       " 'might',\n",
       " 'would',\n",
       " 'help',\n",
       " 'seems',\n",
       " 'inform',\n",
       " 'decision',\n",
       " 'question',\n",
       " 'presenting',\n",
       " 'alderson',\n",
       " 'reporting',\n",
       " 'company',\n",
       " 'official',\n",
       " 'subject',\n",
       " 'final',\n",
       " 'review',\n",
       " 'whether',\n",
       " 'properly',\n",
       " 'raised',\n",
       " 'agree',\n",
       " 'comes',\n",
       " 'rather',\n",
       " 'late',\n",
       " 'factor',\n",
       " 'must',\n",
       " 'necessarily',\n",
       " 'consider',\n",
       " 'mr',\n",
       " 'salvatore',\n",
       " 'yes',\n",
       " 'honor',\n",
       " 'indeed',\n",
       " 'collective',\n",
       " 'bargaining',\n",
       " 'agreements',\n",
       " 'look',\n",
       " 'language',\n",
       " 'one',\n",
       " 'second',\n",
       " 'court',\n",
       " 'recognized',\n",
       " 'little',\n",
       " 'complicated',\n",
       " 'understand',\n",
       " 'average',\n",
       " 'contracts',\n",
       " 'look',\n",
       " 'practice',\n",
       " 'custom',\n",
       " 'practice',\n",
       " 'union',\n",
       " 'turn',\n",
       " 'claims',\n",
       " 'individuals',\n",
       " 'clause',\n",
       " 'place',\n",
       " 'nine',\n",
       " 'years',\n",
       " 'new',\n",
       " 'york',\n",
       " 'courts',\n",
       " 'enforced',\n",
       " 'repeatedly',\n",
       " 'justice',\n",
       " 'scalia',\n",
       " 'included',\n",
       " 'question',\n",
       " 'presented',\n",
       " 'anyway',\n",
       " 'mr',\n",
       " 'salvatore',\n",
       " 'honor',\n",
       " 'justice',\n",
       " 'scalia',\n",
       " 'anything',\n",
       " 'way',\n",
       " 'second',\n",
       " 'circuit',\n",
       " 'resolved',\n",
       " 'case',\n",
       " 'mr',\n",
       " 'salvatore',\n",
       " 'honor',\n",
       " 'justice',\n",
       " 'scalia',\n",
       " 'second',\n",
       " 'circuit',\n",
       " 'simply',\n",
       " 'said',\n",
       " 'could',\n",
       " 'deprive',\n",
       " 'individual',\n",
       " 'right',\n",
       " 'court',\n",
       " 'trial',\n",
       " 'mr',\n",
       " 'salvatore',\n",
       " 'absolutely',\n",
       " 'justice',\n",
       " 'scalia',\n",
       " 'justice',\n",
       " 'scalia',\n",
       " 'issue',\n",
       " 'whether',\n",
       " 'alderson',\n",
       " 'reporting',\n",
       " 'company',\n",
       " 'official',\n",
       " 'subject',\n",
       " 'final',\n",
       " 'review',\n",
       " 'held',\n",
       " 'require',\n",
       " 'individual',\n",
       " 'go',\n",
       " 'arbitration',\n",
       " 'later',\n",
       " 'case',\n",
       " 'could',\n",
       " 'confront',\n",
       " 'question',\n",
       " 'whether',\n",
       " 'union',\n",
       " 'exclusive',\n",
       " 'control',\n",
       " 'arbitration',\n",
       " 'individual',\n",
       " 'get',\n",
       " 'fair',\n",
       " 'arbitrated',\n",
       " 'deal',\n",
       " 'would',\n",
       " 'invalidate',\n",
       " 'nothing',\n",
       " 'question',\n",
       " 'presented',\n",
       " 'arbitration',\n",
       " 'clause',\n",
       " 'clearly',\n",
       " 'unmistakably',\n",
       " 'waives',\n",
       " 'union',\n",
       " 'member',\n",
       " 'right',\n",
       " 'judicial',\n",
       " 'forum',\n",
       " 'enforceable',\n",
       " 'mr',\n",
       " 'salvatore',\n",
       " 'absolutely',\n",
       " 'justice',\n",
       " 'scalia',\n",
       " 'argument',\n",
       " 'respect',\n",
       " 'need',\n",
       " 'taken',\n",
       " 'justice',\n",
       " 'scalia',\n",
       " 'hate',\n",
       " 'get',\n",
       " 'know',\n",
       " 'years',\n",
       " 'history',\n",
       " 'dealings',\n",
       " 'union',\n",
       " 'employees',\n",
       " 'mr',\n",
       " 'salvatore',\n",
       " 'factual',\n",
       " 'record',\n",
       " 'honor',\n",
       " 'record',\n",
       " 'justice',\n",
       " 'souter',\n",
       " 'well',\n",
       " 'least',\n",
       " 'collective',\n",
       " 'bargaining',\n",
       " 'agreement',\n",
       " 'deciding',\n",
       " 'anything',\n",
       " 'going',\n",
       " 'decide',\n",
       " 'whether',\n",
       " 'case',\n",
       " 'second',\n",
       " 'circuit',\n",
       " 'correct',\n",
       " 'question',\n",
       " 'posed',\n",
       " 'generalities',\n",
       " 'going',\n",
       " 'decide',\n",
       " 'general',\n",
       " 'question',\n",
       " 'total',\n",
       " 'alderson',\n",
       " 'reporting',\n",
       " 'company',\n",
       " 'official',\n",
       " 'subject',\n",
       " 'final',\n",
       " 'review',\n",
       " 'ignorance',\n",
       " 'case',\n",
       " 'case',\n",
       " 'got',\n",
       " 'particular',\n",
       " 'collective',\n",
       " 'bargaining',\n",
       " 'agreement',\n",
       " 'front',\n",
       " 'us',\n",
       " 'started',\n",
       " 'answer',\n",
       " 'question',\n",
       " 'justice',\n",
       " 'ginsburg',\n",
       " 'posed',\n",
       " 'referring',\n",
       " 'discrimination',\n",
       " 'clause',\n",
       " 'mr',\n",
       " 'salvatore',\n",
       " 'yes',\n",
       " 'honor',\n",
       " 'justice',\n",
       " 'souter',\n",
       " 'go',\n",
       " 'mr',\n",
       " 'salvatore',\n",
       " 'clause',\n",
       " 'looking',\n",
       " 'petition',\n",
       " 'appendix',\n",
       " 'discrimination',\n",
       " 'clause',\n",
       " 'clause',\n",
       " 'issue',\n",
       " 'case',\n",
       " 'covers',\n",
       " 'present',\n",
       " 'future',\n",
       " 'employee',\n",
       " 'goes',\n",
       " 'state',\n",
       " 'types',\n",
       " 'protected',\n",
       " 'characteristics',\n",
       " 'covered',\n",
       " 'clause',\n",
       " 'well',\n",
       " 'relevant',\n",
       " 'statutes',\n",
       " 'incorporating',\n",
       " 'statutory',\n",
       " 'law',\n",
       " 'public',\n",
       " 'law',\n",
       " 'clause',\n",
       " 'second',\n",
       " 'last',\n",
       " 'sentence',\n",
       " 'five',\n",
       " 'lines',\n",
       " 'bottom',\n",
       " 'states',\n",
       " 'claims',\n",
       " 'shall',\n",
       " 'subject',\n",
       " 'grievance',\n",
       " 'arbitration',\n",
       " 'procedure',\n",
       " 'articles',\n",
       " 'sole',\n",
       " 'exclusive',\n",
       " 'remedy',\n",
       " 'violations',\n",
       " 'justice',\n",
       " 'scalia',\n",
       " 'mean',\n",
       " 'mean',\n",
       " 'must',\n",
       " 'go',\n",
       " 'arbitration',\n",
       " 'even',\n",
       " 'union',\n",
       " 'decides',\n",
       " 'know',\n",
       " 'claim',\n",
       " 'alderson',\n",
       " 'reporting',\n",
       " 'company',\n",
       " 'official',\n",
       " 'subject',\n",
       " 'final',\n",
       " 'review',\n",
       " 'insignificant',\n",
       " 'want',\n",
       " 'take',\n",
       " 'arbitration',\n",
       " 'mr',\n",
       " 'salvatore',\n",
       " 'means',\n",
       " 'justice',\n",
       " 'scalia',\n",
       " 'individuals',\n",
       " 'go',\n",
       " 'court',\n",
       " 'go',\n",
       " 'either',\n",
       " 'union',\n",
       " 'practice',\n",
       " 'union',\n",
       " 'turn',\n",
       " 'claim',\n",
       " 'let',\n",
       " 'go',\n",
       " 'justice',\n",
       " 'souter',\n",
       " 'get',\n",
       " 'phrase',\n",
       " 'get',\n",
       " 'language',\n",
       " 'union',\n",
       " 'turn',\n",
       " 'thing',\n",
       " 'see',\n",
       " 'addresses',\n",
       " 'page',\n",
       " 'clause',\n",
       " 'reads',\n",
       " 'union',\n",
       " 'claims',\n",
       " 'brought',\n",
       " 'union',\n",
       " 'alone',\n",
       " 'individual',\n",
       " 'shall',\n",
       " 'right',\n",
       " 'compromise',\n",
       " 'settle',\n",
       " 'claim',\n",
       " 'without',\n",
       " 'written',\n",
       " 'permission',\n",
       " 'union',\n",
       " 'lot',\n",
       " 'gray',\n",
       " 'area',\n",
       " 'one',\n",
       " 'thing',\n",
       " 'seems',\n",
       " 'clear',\n",
       " 'union',\n",
       " 'total',\n",
       " 'control',\n",
       " 'claim',\n",
       " 'including',\n",
       " 'arbitration',\n",
       " 'claim',\n",
       " 'seems',\n",
       " 'lend',\n",
       " 'substance',\n",
       " 'point',\n",
       " 'made',\n",
       " 'side',\n",
       " 'accept',\n",
       " 'position',\n",
       " 'accepting',\n",
       " 'position',\n",
       " 'nearly',\n",
       " 'far',\n",
       " 'designation',\n",
       " 'procedural',\n",
       " 'designation',\n",
       " 'forum',\n",
       " 'enforced',\n",
       " 'fact',\n",
       " 'total',\n",
       " 'control',\n",
       " 'assertion',\n",
       " 'statutory',\n",
       " 'federal',\n",
       " 'right',\n",
       " 'also',\n",
       " 'ceded',\n",
       " 'alderson',\n",
       " 'reporting',\n",
       " 'company',\n",
       " 'official',\n",
       " 'subject',\n",
       " 'final',\n",
       " 'review',\n",
       " 'language',\n",
       " 'section',\n",
       " 'support',\n",
       " 'mr',\n",
       " 'salvatore',\n",
       " 'honor',\n",
       " 'support',\n",
       " 'following',\n",
       " 'reason',\n",
       " 'section',\n",
       " 'clause',\n",
       " 'page',\n",
       " 'discrimination',\n",
       " 'clause',\n",
       " 'added',\n",
       " 'added',\n",
       " 'court',\n",
       " 'decision',\n",
       " 'wright',\n",
       " 'added',\n",
       " 'comply',\n",
       " 'wright',\n",
       " 'undisputed',\n",
       " 'fact',\n",
       " 'added',\n",
       " 'separate',\n",
       " 'section',\n",
       " 'separate',\n",
       " 'arbitration',\n",
       " 'promise',\n",
       " 'claims',\n",
       " 'broader',\n",
       " 'union',\n",
       " 'claims',\n",
       " 'union',\n",
       " 'claims',\n",
       " 'something',\n",
       " 'goes',\n",
       " 'back',\n",
       " 'years',\n",
       " 'put',\n",
       " 'section',\n",
       " 'justice',\n",
       " 'souter',\n",
       " 'well',\n",
       " 'claims',\n",
       " 'claims',\n",
       " 'refers',\n",
       " 'among',\n",
       " 'things',\n",
       " 'statutory',\n",
       " 'right',\n",
       " 'mr',\n",
       " 'salvatore',\n",
       " 'correct',\n",
       " 'justice',\n",
       " 'souter',\n",
       " 'statutory',\n",
       " 'right',\n",
       " 'appropriate',\n",
       " 'section',\n",
       " 'arbitration',\n",
       " 'agreement',\n",
       " 'union',\n",
       " 'ultimate',\n",
       " 'control',\n",
       " 'arbitration',\n",
       " 'agreement',\n",
       " 'follows',\n",
       " 'union',\n",
       " 'got',\n",
       " 'ultimate',\n",
       " 'control',\n",
       " 'assertion',\n",
       " 'statutory',\n",
       " 'right',\n",
       " 'mr',\n",
       " 'salvatore',\n",
       " 'honor',\n",
       " 'unless',\n",
       " 'union',\n",
       " 'turns',\n",
       " 'employee',\n",
       " 'reading',\n",
       " 'alderson',\n",
       " 'reporting',\n",
       " 'company',\n",
       " 'official',\n",
       " 'subject',\n",
       " 'final',\n",
       " 'review',\n",
       " 'justice',\n",
       " 'souter',\n",
       " 'guarantee',\n",
       " 'union',\n",
       " 'says',\n",
       " 'want',\n",
       " 'touch',\n",
       " 'case',\n",
       " 'employee',\n",
       " 'right',\n",
       " 'either',\n",
       " 'arbitrate',\n",
       " 'matter',\n",
       " 'sue',\n",
       " 'find',\n",
       " 'mr',\n",
       " 'salvatore',\n",
       " 'honor',\n",
       " 'right',\n",
       " 'described',\n",
       " 'language',\n",
       " 'claims',\n",
       " 'another',\n",
       " 'route',\n",
       " 'articles',\n",
       " 'describe',\n",
       " 'must',\n",
       " 'go',\n",
       " 'office',\n",
       " 'contract',\n",
       " 'arbitrator',\n",
       " 'specify',\n",
       " 'whether',\n",
       " 'go',\n",
       " 'union',\n",
       " 'go',\n",
       " ...]"
      ]
     },
     "execution_count": 31,
     "metadata": {},
     "output_type": "execute_result"
    }
   ],
   "source": [
    "text_cleaner(cleaned[0])"
   ]
  },
  {
   "cell_type": "code",
   "execution_count": null,
   "metadata": {},
   "outputs": [],
   "source": []
  }
 ],
 "metadata": {
  "kernelspec": {
   "display_name": "Python 3",
   "language": "python",
   "name": "python3"
  },
  "language_info": {
   "codemirror_mode": {
    "name": "ipython",
    "version": 3
   },
   "file_extension": ".py",
   "mimetype": "text/x-python",
   "name": "python",
   "nbconvert_exporter": "python",
   "pygments_lexer": "ipython3",
   "version": "3.6.5"
  }
 },
 "nbformat": 4,
 "nbformat_minor": 2
}
