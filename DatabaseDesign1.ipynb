{
 "cells": [
  {
   "cell_type": "markdown",
   "metadata": {},
   "source": [
    "## **Supreme Court Transcripts Database Design**\n",
    "\n",
    "### Contents:\n",
    " 1. Finding Justices Present\n",
    " 2. Date, Year\n",
    " 3. Appearances\n",
    " 4. Sentiment Analysis \n",
    " 5. Building the DataFrame\n",
    " \n",
    "## Note to Everyone: Make sure you've uploaded the textfiles from this folder: https://drive.google.com/drive/folders/1aepNIVRUS0rwu-m_fqK7KnWEqhyJFBvW my directory might be different from yours so make sure to check !"
   ]
  },
  {
   "cell_type": "code",
   "execution_count": 101,
   "metadata": {},
   "outputs": [],
   "source": [
    "import pandas as pd\n",
    "import regex as re\n",
    "import numpy as np\n",
    "import os\n",
    "from os import listdir\n",
    "from os.path import isfile,join\n",
    "\n",
    "# Read in a plain text file\n",
    "files = []\n",
    "for i in os.listdir(r\"C:\\Users\\Avena Cheng\\Desktop\\Liberating Archives\\supremecourt\\textfiles\"):\n",
    "    if i.endswith('.txt'):\n",
    "        text = open(i,encoding=\"utf8\").read()\n",
    "        files.append(text)"
   ]
  },
  {
   "cell_type": "code",
   "execution_count": 103,
   "metadata": {},
   "outputs": [
    {
     "data": {
      "text/plain": [
       "1302"
      ]
     },
     "execution_count": 103,
     "metadata": {},
     "output_type": "execute_result"
    }
   ],
   "source": [
    "len(files)"
   ]
  },
  {
   "cell_type": "code",
   "execution_count": 104,
   "metadata": {},
   "outputs": [],
   "source": [
    "cleaned = []\n",
    "for txt in files:\n",
    "    clean = re.sub('\\xad','',txt)\n",
    "    clean = re.sub('\\n','',clean)\n",
    "    clean = re.sub('\\\\\\\\','',clean)\n",
    "    cleaned += [clean]"
   ]
  },
  {
   "cell_type": "markdown",
   "metadata": {},
   "source": [
    "### **Finding Justices Present**"
   ]
  },
  {
   "cell_type": "code",
   "execution_count": 31,
   "metadata": {},
   "outputs": [],
   "source": [
    "def unique(lst):\n",
    "    uni = []\n",
    "    for i in lst:\n",
    "        if i not in uni:\n",
    "            uni += [i]\n",
    "    return uni\n",
    "\n",
    "def case_no(txt):\n",
    "    return unique(re.findall('No.\\s*\\d+[-]*\\d+',txt))"
   ]
  },
  {
   "cell_type": "code",
   "execution_count": 133,
   "metadata": {},
   "outputs": [],
   "source": [
    "def justices(txt):\n",
    "    j = re.findall('JUSTICE[A-Z\\s]+:',txt)\n",
    "    justice = sorted(unique(j))\n",
    "    cleaned_list = [justice[i][:-1] for i in range(len(justice))]\n",
    "    return cleaned_list"
   ]
  },
  {
   "cell_type": "code",
   "execution_count": 35,
   "metadata": {},
   "outputs": [],
   "source": [
    "#def justices(texts):\n",
    " #   d = {}\n",
    "  #  for txt in texts:\n",
    "   #     num = case_no(txt)[0]\n",
    "    #    j = re.findall('JUSTICE[A-Z\\s]+:',txt)\n",
    "     #   justice = sorted(unique(j))\n",
    "      #  cleaned_list = [justice[i][:-1] for i in range(len(justice))]\n",
    "       # d[num] = cleaned_list\n",
    "    #return d"
   ]
  },
  {
   "cell_type": "markdown",
   "metadata": {},
   "source": [
    "## **Date, Year**"
   ]
  },
  {
   "cell_type": "code",
   "execution_count": 10,
   "metadata": {},
   "outputs": [],
   "source": [
    "def date(text):\n",
    "    return re.findall('\\W\\w+,*\\s+\\d+\\w*\\w*,\\s+\\d{4}',text)"
   ]
  },
  {
   "cell_type": "code",
   "execution_count": 11,
   "metadata": {},
   "outputs": [],
   "source": [
    "def year(text):\n",
    "    return re.findall('\\d\\d\\d\\d',date(text))"
   ]
  },
  {
   "cell_type": "markdown",
   "metadata": {},
   "source": [
    "## **Appearances**"
   ]
  },
  {
   "cell_type": "code",
   "execution_count": 36,
   "metadata": {},
   "outputs": [],
   "source": [
    "def appearances(text):\n",
    "    app = re.findall('APPEARANCES:[\\s\\S]*?Reporting',text)[0]\n",
    "    app = re.findall('[\\s\\S]*?;[\\s\\S]*?\\.',app)\n",
    "    app = [re.sub('\\d','',app[i]) for i in range(len(app))]\n",
    "    remove_appearance = re.sub('APPEARANCES:\\s','',app[0])\n",
    "    app[0] = remove_appearance\n",
    "    app = [re.sub('[\\s\\s]+',' ',app[i]) for i in range(len(app))]\n",
    "    return app"
   ]
  },
  {
   "cell_type": "code",
   "execution_count": 37,
   "metadata": {
    "scrolled": true
   },
   "outputs": [
    {
     "name": "stdout",
     "output_type": "stream",
     "text": [
      "PAUL SALVATORE, ESQ., New York, N.Y.; on behalf of the Petitioners.\n",
      " DAVID C. FREDERICK, ESQ., Washington, D.C.; on behalf of the Respondents.\n",
      " CURTIS E. GANNON, ESQ., Assistant to the Solicitor General, Department of Justice, Washington, D.C.; on behalf of the United States, as amicus curiae, supporting the Respondents.\n",
      "-----------------------\n",
      " SCOTT A. KELLER, Solicitor General of Texas, Austin, Texas; on behalf of the Appellants.\n",
      " EDWIN S. KNEEDLER, Deputy Solicitor General, Department of Justice, Washington, D.C.; on behalf of Appellee United States, in support of the Appellants.\n",
      " MAX RENEA HICKS, ESQ., Austin, Texas; on behalf of the Appellees in No.\n",
      " -. ALLISON J. RIGGS, ESQ., Durham, North Carolina; on behalf of the Appellees in No.\n",
      "-----------------------\n",
      "DAVID L. HORAN, ESQ., Dallas, Texas; on behalf of Petitioner in No.\n",
      " -; appointed by this Court.\n",
      " JAMES E. RYAN, ESQ., Charlottesville, Virginia; on behalf of Petitioner in No.\n",
      "-----------------------\n",
      " ROBERT C. OWEN, ESQ., Austin, Tex.; on behalf of the Petitioners.\n",
      " EDWARD L. MARSHALL, ESQ., Assistant Attorney General, Austin, Tex.; on behalf of the Respondent.\n",
      "-----------------------\n"
     ]
    },
    {
     "ename": "IndexError",
     "evalue": "list index out of range",
     "output_type": "error",
     "traceback": [
      "\u001b[1;31m---------------------------------------------------------------------------\u001b[0m",
      "\u001b[1;31mIndexError\u001b[0m                                Traceback (most recent call last)",
      "\u001b[1;32m<ipython-input-37-0a76f7ce4e4f>\u001b[0m in \u001b[0;36m<module>\u001b[1;34m()\u001b[0m\n\u001b[0;32m      1\u001b[0m \u001b[1;32mfor\u001b[0m \u001b[0mi\u001b[0m \u001b[1;32min\u001b[0m \u001b[0mcleaned\u001b[0m\u001b[1;33m:\u001b[0m\u001b[1;33m\u001b[0m\u001b[0m\n\u001b[1;32m----> 2\u001b[1;33m     \u001b[0mapp\u001b[0m \u001b[1;33m=\u001b[0m \u001b[0mappearances\u001b[0m\u001b[1;33m(\u001b[0m\u001b[0mi\u001b[0m\u001b[1;33m)\u001b[0m\u001b[1;33m\u001b[0m\u001b[0m\n\u001b[0m\u001b[0;32m      3\u001b[0m     \u001b[1;32mfor\u001b[0m \u001b[0mj\u001b[0m \u001b[1;32min\u001b[0m \u001b[0mapp\u001b[0m\u001b[1;33m:\u001b[0m\u001b[1;33m\u001b[0m\u001b[0m\n\u001b[0;32m      4\u001b[0m         \u001b[0mprint\u001b[0m\u001b[1;33m(\u001b[0m\u001b[0mj\u001b[0m\u001b[1;33m)\u001b[0m\u001b[1;33m\u001b[0m\u001b[0m\n\u001b[0;32m      5\u001b[0m     \u001b[0mprint\u001b[0m\u001b[1;33m(\u001b[0m\u001b[1;34m'-----------------------'\u001b[0m\u001b[1;33m)\u001b[0m\u001b[1;33m\u001b[0m\u001b[0m\n",
      "\u001b[1;32m<ipython-input-36-319f85d7f9ff>\u001b[0m in \u001b[0;36mappearances\u001b[1;34m(text)\u001b[0m\n\u001b[0;32m      1\u001b[0m \u001b[1;32mdef\u001b[0m \u001b[0mappearances\u001b[0m\u001b[1;33m(\u001b[0m\u001b[0mtext\u001b[0m\u001b[1;33m)\u001b[0m\u001b[1;33m:\u001b[0m\u001b[1;33m\u001b[0m\u001b[0m\n\u001b[1;32m----> 2\u001b[1;33m     \u001b[0mapp\u001b[0m \u001b[1;33m=\u001b[0m \u001b[0mre\u001b[0m\u001b[1;33m.\u001b[0m\u001b[0mfindall\u001b[0m\u001b[1;33m(\u001b[0m\u001b[1;34m'APPEARANCES:[\\s\\S]*?Reporting'\u001b[0m\u001b[1;33m,\u001b[0m\u001b[0mtext\u001b[0m\u001b[1;33m)\u001b[0m\u001b[1;33m[\u001b[0m\u001b[1;36m0\u001b[0m\u001b[1;33m]\u001b[0m\u001b[1;33m\u001b[0m\u001b[0m\n\u001b[0m\u001b[0;32m      3\u001b[0m     \u001b[0mapp\u001b[0m \u001b[1;33m=\u001b[0m \u001b[0mre\u001b[0m\u001b[1;33m.\u001b[0m\u001b[0mfindall\u001b[0m\u001b[1;33m(\u001b[0m\u001b[1;34m'[\\s\\S]*?;[\\s\\S]*?\\.'\u001b[0m\u001b[1;33m,\u001b[0m\u001b[0mapp\u001b[0m\u001b[1;33m)\u001b[0m\u001b[1;33m\u001b[0m\u001b[0m\n\u001b[0;32m      4\u001b[0m     \u001b[0mapp\u001b[0m \u001b[1;33m=\u001b[0m \u001b[1;33m[\u001b[0m\u001b[0mre\u001b[0m\u001b[1;33m.\u001b[0m\u001b[0msub\u001b[0m\u001b[1;33m(\u001b[0m\u001b[1;34m'\\d'\u001b[0m\u001b[1;33m,\u001b[0m\u001b[1;34m''\u001b[0m\u001b[1;33m,\u001b[0m\u001b[0mapp\u001b[0m\u001b[1;33m[\u001b[0m\u001b[0mi\u001b[0m\u001b[1;33m]\u001b[0m\u001b[1;33m)\u001b[0m \u001b[1;32mfor\u001b[0m \u001b[0mi\u001b[0m \u001b[1;32min\u001b[0m \u001b[0mrange\u001b[0m\u001b[1;33m(\u001b[0m\u001b[0mlen\u001b[0m\u001b[1;33m(\u001b[0m\u001b[0mapp\u001b[0m\u001b[1;33m)\u001b[0m\u001b[1;33m)\u001b[0m\u001b[1;33m]\u001b[0m\u001b[1;33m\u001b[0m\u001b[0m\n\u001b[0;32m      5\u001b[0m     \u001b[0mremove_appearance\u001b[0m \u001b[1;33m=\u001b[0m \u001b[0mre\u001b[0m\u001b[1;33m.\u001b[0m\u001b[0msub\u001b[0m\u001b[1;33m(\u001b[0m\u001b[1;34m'APPEARANCES:\\s'\u001b[0m\u001b[1;33m,\u001b[0m\u001b[1;34m''\u001b[0m\u001b[1;33m,\u001b[0m\u001b[0mapp\u001b[0m\u001b[1;33m[\u001b[0m\u001b[1;36m0\u001b[0m\u001b[1;33m]\u001b[0m\u001b[1;33m)\u001b[0m\u001b[1;33m\u001b[0m\u001b[0m\n",
      "\u001b[1;31mIndexError\u001b[0m: list index out of range"
     ]
    }
   ],
   "source": [
    "for i in cleaned:\n",
    "    app = appearances(i)\n",
    "    for j in app:\n",
    "        print(j)\n",
    "    print('-----------------------')"
   ]
  },
  {
   "cell_type": "markdown",
   "metadata": {},
   "source": [
    "## **Sentiment Analysis**"
   ]
  },
  {
   "cell_type": "markdown",
   "metadata": {},
   "source": [
    "**Checkpoint 10/22**\n",
    "\n",
    "* need to work on finding the regex pattern between speakers\n",
    "* General pattern: \"SPEAKER: anything they say until the next SPEAKER:\"\n",
    "\n",
    "### STEPS:\n",
    "1. Extract the sentences from each speaker.\n",
    "2. Develop a function (actually there's one written in the github link below that you could model yours from; it's very good)\n",
    "3. Test it on various transcripts to ensure it's generalized"
   ]
  },
  {
   "cell_type": "markdown",
   "metadata": {},
   "source": [
    "### Note to Amal: Please look at these slides for performing sentiment analysis. They are from my IEOR class, and these techniques are very useful. Please let me know if you would like to go over it together.\n",
    "\n",
    "https://github.com/ikhlaqsidhu/data-x/blob/master/07a-tools-nlp-sentiment_add_missing_si/notebook-nlp-sentiment-analysis-imdb-afo_v2.ipynb"
   ]
  },
  {
   "cell_type": "code",
   "execution_count": 30,
   "metadata": {},
   "outputs": [],
   "source": [
    "## I was trying to extract the speakers from each text. \n",
    "\n",
    "def dialogue(text):\n",
    "    sents = re.findall('[A-Z\\s]+:[\\s\\S]+?[A-Z]+?:',text) #regex pattern to find all instances\n",
    "    sents = [re.sub('\\d','',i) for i in sents] # cleaning transcript\n",
    "    sents = [re.sub('[\\s\\s]+',' ',i) for i in sents] #cleaning transcript\n",
    "    return sents\n",
    "\n",
    "other_regex_patters = re.findall('[A-Z\\s.]+:[\\s\\S]+?[A-Z\\s]+?:',text)"
   ]
  },
  {
   "cell_type": "code",
   "execution_count": 48,
   "metadata": {},
   "outputs": [],
   "source": [
    "for i in re.findall('(MR. DABNEY:)([\\s\\S\\]+?)([A-Z][A-Z\\s]*:)',cleaned[0]):\n",
    "    print(i)\n",
    "    print('')"
   ]
  },
  {
   "cell_type": "code",
   "execution_count": 49,
   "metadata": {},
   "outputs": [
    {
     "data": {
      "text/plain": [
       "\" CHIEF JUSTICE ROBERTS: We'll hear argument next in No. -, KSR International versus Teleflex, Incorporated. Mr. Dabney. ORAL ARGUMENT OF JAMES W. DABNEY ON BEHALF OF THE PETITIONER MR. DABNEY:\""
      ]
     },
     "execution_count": 49,
     "metadata": {},
     "output_type": "execute_result"
    }
   ],
   "source": [
    "dialogue(cleaned[0])[1]"
   ]
  },
  {
   "cell_type": "markdown",
   "metadata": {},
   "source": [
    "# **Building the DataFrame**"
   ]
  },
  {
   "cell_type": "markdown",
   "metadata": {},
   "source": [
    "#### Justices!\n",
    "`#print(cleaned[4])`\n",
    "\n",
    "If we run the above ...\n",
    "\n",
    "Notice that instead of having the justices' name, it just says \"QUESTION\". This is usually the case for when it appears there is only one justice present. It seems to be only for Justice Rehnquist."
   ]
  },
  {
   "cell_type": "code",
   "execution_count": 153,
   "metadata": {},
   "outputs": [],
   "source": [
    "justice = [justices(i) for i in cleaned]\n",
    "for i in range(len(justice)):\n",
    "    justice[i] = \", \".join(justice[i])"
   ]
  },
  {
   "cell_type": "code",
   "execution_count": 544,
   "metadata": {},
   "outputs": [],
   "source": [
    "for i in range(len(justice)):\n",
    "    justice[i] = re.sub('JUSTICE','',justice[i])\n",
    "data['Justices'] = justice"
   ]
  },
  {
   "cell_type": "markdown",
   "metadata": {},
   "source": [
    "#### Dates!"
   ]
  },
  {
   "cell_type": "code",
   "execution_count": 162,
   "metadata": {},
   "outputs": [
    {
     "data": {
      "text/plain": [
       "' December 1, 2008'"
      ]
     },
     "execution_count": 162,
     "metadata": {},
     "output_type": "execute_result"
    }
   ],
   "source": [
    "date(cleaned[0])[0]"
   ]
  },
  {
   "cell_type": "code",
   "execution_count": 164,
   "metadata": {},
   "outputs": [],
   "source": [
    "uh = []\n",
    "for i in cleaned:\n",
    "    uh += date(i)[0]"
   ]
  },
  {
   "cell_type": "code",
   "execution_count": 168,
   "metadata": {},
   "outputs": [],
   "source": [
    "hea = []\n",
    "for i in range(len(cleaned)):\n",
    "    hea += date(cleaned[i])[0]"
   ]
  },
  {
   "cell_type": "code",
   "execution_count": 169,
   "metadata": {},
   "outputs": [
    {
     "data": {
      "text/plain": [
       "21323"
      ]
     },
     "execution_count": 169,
     "metadata": {},
     "output_type": "execute_result"
    }
   ],
   "source": [
    "len(hea)"
   ]
  },
  {
   "cell_type": "markdown",
   "metadata": {},
   "source": [
    "#### Year!"
   ]
  },
  {
   "cell_type": "code",
   "execution_count": null,
   "metadata": {},
   "outputs": [],
   "source": [
    "years = []\n",
    "for i in data['Date']:\n",
    "    years += re.findall('\\d\\d\\d\\d',i)"
   ]
  },
  {
   "cell_type": "markdown",
   "metadata": {},
   "source": [
    "#### Appearances!"
   ]
  },
  {
   "cell_type": "code",
   "execution_count": 377,
   "metadata": {},
   "outputs": [],
   "source": [
    "def appearances(text):\n",
    "    app = re.findall('APPEARANCES:[\\s\\S]*?Reporting.*?',text)\n",
    "    if len(app) == 0:\n",
    "        app = re.findall('APPEARANCES:[\\s\\S]*?REPORTING.*?',text)\n",
    "        if len(app) == 0:\n",
    "            app = re.findall('APPEARANCES:[\\s\\S]*?C O N T E N T S.*?',text)\n",
    "            if len(app) == 0:\n",
    "                app = re.findall('APPEARANCES:[\\s\\S]*?CONTENTS.*?',text)\n",
    "    app = app[0]\n",
    "    app = re.findall('[\\s\\S]*?;[\\s\\S]*?\\.',app)\n",
    "    app = [re.sub('\\d','',app[i]) for i in range(len(app))]\n",
    "    remove_appearance = re.sub('APPEARANCES:\\s','',app[0])\n",
    "    app[0] = remove_appearance\n",
    "    app = [re.sub('[\\s\\s]+',' ',app[i]) for i in range(len(app))]\n",
    "    return app"
   ]
  },
  {
   "cell_type": "code",
   "execution_count": 391,
   "metadata": {},
   "outputs": [],
   "source": [
    "def diff(text):\n",
    "    app = re.findall('APPEARANCES:*[\\s\\S]*?Reporting.*?',text)\n",
    "    if len(app) == 0 or len(app)>400:\n",
    "        app = re.findall('APPEARANCES:[\\s\\S]*?REPORTING.*?',text)\n",
    "        if len(app) == 0:\n",
    "            app = re.findall('APPEARANCES:[\\s\\S]*?C O N T E N T S.*?',text)\n",
    "            if len(app) == 0:\n",
    "                app = re.findall('APPEARANCES:[\\s\\S]*?CONTENTS.*?',text)\n",
    "    app = app[0]\n",
    "    app = re.sub('\\d','',app)\n",
    "    remove_appearance = re.sub('APPEARANCES:*\\s','',app)\n",
    "    app = re.sub('[\\s\\s]+',' ',remove_appearance)\n",
    "    return app"
   ]
  },
  {
   "cell_type": "code",
   "execution_count": 417,
   "metadata": {
    "scrolled": true
   },
   "outputs": [],
   "source": [
    "ugh = []\n",
    "c = 1\n",
    "for i in cleaned:\n",
    "    #print(c)\n",
    "    try:\n",
    "        ugh+=[diff(i)]\n",
    "        #print('')\n",
    "    except:\n",
    "        ugh+= [\"ERROR\"]\n",
    "        continue\n",
    "    c+=1"
   ]
  },
  {
   "cell_type": "code",
   "execution_count": 418,
   "metadata": {},
   "outputs": [
    {
     "name": "stdout",
     "output_type": "stream",
     "text": [
      "ERROR\n"
     ]
    }
   ],
   "source": [
    "for i in ugh:\n",
    "    if i == \"ERROR\":\n",
    "        print(i)"
   ]
  },
  {
   "cell_type": "code",
   "execution_count": 425,
   "metadata": {},
   "outputs": [],
   "source": [
    "#diff(cleaned[1023])"
   ]
  },
  {
   "cell_type": "code",
   "execution_count": 421,
   "metadata": {
    "scrolled": true
   },
   "outputs": [
    {
     "data": {
      "text/plain": [
       "[' SCOTT A. KELLER, Solicitor General of Texas, Austin, Texas; on behalf of the Appellants.',\n",
       " ' EDWIN S. KNEEDLER, Deputy Solicitor General, Department of Justice, Washington, D.C.; on behalf of Appellee United States, in support of the Appellants.',\n",
       " ' MAX RENEA HICKS, ESQ., Austin, Texas; on behalf of the Appellees in No.',\n",
       " ' -. ALLISON J. RIGGS, ESQ., Durham, North Carolina; on behalf of the Appellees in No.']"
      ]
     },
     "execution_count": 421,
     "metadata": {},
     "output_type": "execute_result"
    }
   ],
   "source": [
    "appearances(cleaned[1])"
   ]
  },
  {
   "cell_type": "code",
   "execution_count": 427,
   "metadata": {},
   "outputs": [
    {
     "data": {
      "text/plain": [
       "'ERROR'"
      ]
     },
     "execution_count": 427,
     "metadata": {},
     "output_type": "execute_result"
    }
   ],
   "source": [
    "ugh[1023]"
   ]
  },
  {
   "cell_type": "code",
   "execution_count": 432,
   "metadata": {},
   "outputs": [],
   "source": [
    "for i in range(len(ugh)):\n",
    "    if i == 1023:\n",
    "        ugh[i] = 'ignore'\n",
    "    else:\n",
    "        ugh[i] = re.sub('in No. -','',ugh[i])"
   ]
  },
  {
   "cell_type": "code",
   "execution_count": 446,
   "metadata": {},
   "outputs": [],
   "source": [
    "reporting_pattern = '[A-Z][a-z]+\\sReporting'\n",
    "REPORTING_pattern = '[A-Z]+\\sREPORTING'\n",
    "contents_pattern = 'CONTENTS'\n",
    "CONTENTS_pattren = 'C O N T E N T S'"
   ]
  },
  {
   "cell_type": "code",
   "execution_count": 445,
   "metadata": {
    "scrolled": true
   },
   "outputs": [
    {
     "data": {
      "text/plain": [
       "'PAUL SALVATORE, ESQ., New York, N.Y.; on behalf of the Petitioners. DAVID C. FREDERICK, ESQ., Washington, D.C.; on behalf of the Respondents. CURTIS E. GANNON, ESQ., Assistant to the Solicitor General, Department of Justice, Washington, D.C.; on behalf of the United States, as amicus curiae, supporting the Respondents. '"
      ]
     },
     "execution_count": 445,
     "metadata": {},
     "output_type": "execute_result"
    }
   ],
   "source": [
    "re.sub(re.findall(reporting_pattern,ugh[0])[0],'',ugh[0])"
   ]
  },
  {
   "cell_type": "code",
   "execution_count": 470,
   "metadata": {},
   "outputs": [
    {
     "ename": "IndexError",
     "evalue": "list index out of range",
     "output_type": "error",
     "traceback": [
      "\u001b[1;31m---------------------------------------------------------------------------\u001b[0m",
      "\u001b[1;31mIndexError\u001b[0m                                Traceback (most recent call last)",
      "\u001b[1;32m<ipython-input-470-df7e89e83de2>\u001b[0m in \u001b[0;36m<module>\u001b[1;34m()\u001b[0m\n\u001b[0;32m     14\u001b[0m             \u001b[0mugh\u001b[0m\u001b[1;33m[\u001b[0m\u001b[0mi\u001b[0m\u001b[1;33m]\u001b[0m\u001b[1;33m=\u001b[0m\u001b[0mre\u001b[0m\u001b[1;33m.\u001b[0m\u001b[0msub\u001b[0m\u001b[1;33m(\u001b[0m\u001b[0mcontent1\u001b[0m\u001b[1;33m[\u001b[0m\u001b[1;36m0\u001b[0m\u001b[1;33m]\u001b[0m\u001b[1;33m,\u001b[0m\u001b[1;34m''\u001b[0m\u001b[1;33m,\u001b[0m\u001b[0mugh\u001b[0m\u001b[1;33m[\u001b[0m\u001b[0mi\u001b[0m\u001b[1;33m]\u001b[0m\u001b[1;33m)\u001b[0m\u001b[1;33m\u001b[0m\u001b[0m\n\u001b[0;32m     15\u001b[0m         \u001b[1;32melse\u001b[0m\u001b[1;33m:\u001b[0m\u001b[1;33m\u001b[0m\u001b[0m\n\u001b[1;32m---> 16\u001b[1;33m             \u001b[0mugh\u001b[0m\u001b[1;33m[\u001b[0m\u001b[0mi\u001b[0m\u001b[1;33m]\u001b[0m\u001b[1;33m=\u001b[0m\u001b[0mre\u001b[0m\u001b[1;33m.\u001b[0m\u001b[0msub\u001b[0m\u001b[1;33m(\u001b[0m\u001b[0mcontent2\u001b[0m\u001b[1;33m[\u001b[0m\u001b[1;36m0\u001b[0m\u001b[1;33m]\u001b[0m\u001b[1;33m,\u001b[0m\u001b[1;34m''\u001b[0m\u001b[1;33m,\u001b[0m\u001b[0mugh\u001b[0m\u001b[1;33m[\u001b[0m\u001b[0mi\u001b[0m\u001b[1;33m]\u001b[0m\u001b[1;33m)\u001b[0m\u001b[1;33m\u001b[0m\u001b[0m\n\u001b[0m",
      "\u001b[1;31mIndexError\u001b[0m: list index out of range"
     ]
    }
   ],
   "source": [
    "for i in range(len(ugh)):\n",
    "    if i == 1023:\n",
    "        ugh[i] == 'JASON D. HAWKINS, ESQ., Assistant Federal Public Defender, Dallas, Texas; for Petitioner. WILLIAM M. JAY, ESQ., Assistant to the Solicitor General, Department of Justice, Washington, D.C.; for  Respondent, in support of Petitioner. EVAN A. YOUNG, ESQ., Austin, Texas; for amicus curiae, in support of the judgment below; appointed by this Court.'\n",
    "    else:\n",
    "        report1 = re.findall(reporting_pattern,ugh[i])\n",
    "        report2 = re.findall(REPORTING_pattern,ugh[i])\n",
    "        content1 = re.findall(contents_pattern,ugh[i])\n",
    "        content2 = re.findall(CONTENTS_pattren,ugh[i])\n",
    "        if len(report1) > 0:\n",
    "            ugh[i]=re.sub(report1[0],'',ugh[i])\n",
    "        elif len(report2) > 0:\n",
    "            ugh[i]=re.sub(report2[0],'',ugh[i])\n",
    "        elif len(content1) > 0:\n",
    "            ugh[i]=re.sub(content1[0],'',ugh[i])\n",
    "        else:\n",
    "            ugh[i]=re.sub(content2[0],'',ugh[i])"
   ]
  },
  {
   "cell_type": "code",
   "execution_count": 468,
   "metadata": {},
   "outputs": [],
   "source": [
    "bad = 'JASON D. HAWKINS, ESQ., Assistant Federal Public Defender, Dallas, Texas; for Petitioner. WILLIAM M. JAY, ESQ., Assistant to the Solicitor General, Department of Justice, Washington, D.C.; for  Respondent, in support of Petitioner. EVAN A. YOUNG, ESQ., Austin, Texas; for amicus curiae, in support of the judgment below; appointed by this Court.'"
   ]
  },
  {
   "cell_type": "code",
   "execution_count": 545,
   "metadata": {},
   "outputs": [],
   "source": [
    "#ugh"
   ]
  },
  {
   "cell_type": "markdown",
   "metadata": {},
   "source": [
    "#### Title!"
   ]
  },
  {
   "cell_type": "code",
   "execution_count": 105,
   "metadata": {},
   "outputs": [],
   "source": [
    "title = [f for f in listdir(r\"C:\\Users\\Avena Cheng\\Desktop\\Liberating Archives\\supremecourt\\textfiles\") if isfile(join(r\"C:\\Users\\Avena Cheng\\Desktop\\Liberating Archives\\supremecourt\\textfiles\", f))]\n",
    "for i in range(len(title)):\n",
    "    title[i] = re.sub('.pdf.txt','',title[i])\n",
    "title.remove('DatabaseDesign1.ipynb')"
   ]
  },
  {
   "cell_type": "markdown",
   "metadata": {},
   "source": [
    "### ACTUAL DATAFRAME!!!"
   ]
  },
  {
   "cell_type": "code",
   "execution_count": 472,
   "metadata": {
    "scrolled": true
   },
   "outputs": [],
   "source": [
    "data = pd.DataFrame({'Title':title,'Case No': cases,'Date':dates,'Year':years,'Justices':justice,'Appearances':ugh})#'Justices':justice,'Appearances':people})"
   ]
  },
  {
   "cell_type": "code",
   "execution_count": 548,
   "metadata": {},
   "outputs": [],
   "source": [
    "data.to_csv(r\"C:\\Users\\Avena Cheng\\Desktop\\Liberating Archives\\supremecourt\\textfiles\\data.csv\")"
   ]
  },
  {
   "cell_type": "code",
   "execution_count": 480,
   "metadata": {
    "scrolled": true
   },
   "outputs": [],
   "source": [
    "data['Appearances'] = data['Appearances'].replace('ignore',bad)"
   ]
  },
  {
   "cell_type": "markdown",
   "metadata": {},
   "source": [
    "#### People!"
   ]
  },
  {
   "cell_type": "code",
   "execution_count": 546,
   "metadata": {},
   "outputs": [],
   "source": [
    "people = []\n",
    "for i in range(len(apps)):\n",
    "    p = re.findall('[A-Z]+\\s[A-Z\\.\\s]*[A-Z]+',apps[i])\n",
    "    people += [p]\n",
    "    \n",
    "for i in range(len(people)):\n",
    "    people[i] = \", \".join(people[i])\n",
    "    \n",
    "data['People'] = people"
   ]
  },
  {
   "cell_type": "code",
   "execution_count": 549,
   "metadata": {},
   "outputs": [
    {
     "data": {
      "text/html": [
       "<div>\n",
       "<style scoped>\n",
       "    .dataframe tbody tr th:only-of-type {\n",
       "        vertical-align: middle;\n",
       "    }\n",
       "\n",
       "    .dataframe tbody tr th {\n",
       "        vertical-align: top;\n",
       "    }\n",
       "\n",
       "    .dataframe thead th {\n",
       "        text-align: right;\n",
       "    }\n",
       "</style>\n",
       "<table border=\"1\" class=\"dataframe\">\n",
       "  <thead>\n",
       "    <tr style=\"text-align: right;\">\n",
       "      <th></th>\n",
       "      <th>Title</th>\n",
       "      <th>Case No</th>\n",
       "      <th>Date</th>\n",
       "      <th>Year</th>\n",
       "      <th>Justices</th>\n",
       "      <th>Appearances</th>\n",
       "      <th>People</th>\n",
       "    </tr>\n",
       "  </thead>\n",
       "  <tbody>\n",
       "    <tr>\n",
       "      <th>0</th>\n",
       "      <td>14 Penn Plaza LLC v. Pyett</td>\n",
       "      <td>No. 07-581</td>\n",
       "      <td>December 1, 2008</td>\n",
       "      <td>2008</td>\n",
       "      <td>ALITO,  BREYER,  GINSBURG,  KENNEDY,  ROBERTS...</td>\n",
       "      <td>PAUL SALVATORE, ESQ., New York, N.Y.; on behal...</td>\n",
       "      <td>PAUL SALVATORE, DAVID C. FREDERICK, CURTIS E. ...</td>\n",
       "    </tr>\n",
       "    <tr>\n",
       "      <th>1</th>\n",
       "      <td>Abbott v. Perez</td>\n",
       "      <td>No. 17-586</td>\n",
       "      <td>April 24, 2018</td>\n",
       "      <td>2018</td>\n",
       "      <td>ALITO,  BREYER,  GINSBURG,  GORSUCH,  KAGAN, ...</td>\n",
       "      <td>SCOTT A. KELLER, Solicitor General of Texas, ...</td>\n",
       "      <td>SCOTT A. KELLER, EDWIN S. KNEEDLER, MAX RENEA ...</td>\n",
       "    </tr>\n",
       "    <tr>\n",
       "      <th>2</th>\n",
       "      <td>Abbott v. United States</td>\n",
       "      <td>No. 09-479</td>\n",
       "      <td>October 4, 2010</td>\n",
       "      <td>2010</td>\n",
       "      <td>ALITO,  BREYER,  GINSBURG,  ROBERTS,  SCALIA,...</td>\n",
       "      <td>DAVID L. HORAN, ESQ., Dallas, Texas; on behalf...</td>\n",
       "      <td>DAVID L. HORAN, JAMES E. RYAN</td>\n",
       "    </tr>\n",
       "    <tr>\n",
       "      <th>3</th>\n",
       "      <td>Abdul-Kabir v. Quarterman</td>\n",
       "      <td>No. 05-11284</td>\n",
       "      <td>January 17, 2006</td>\n",
       "      <td>2006</td>\n",
       "      <td>ALITO,  BREYER,  GINSBURG,  KENNEDY,  ROBERTS...</td>\n",
       "      <td>ROBERT C. OWEN, ESQ., Austin, Tex.; on behalf...</td>\n",
       "      <td>ROBERT C. OWEN, EDWARD L. MARSHALL</td>\n",
       "    </tr>\n",
       "    <tr>\n",
       "      <th>4</th>\n",
       "      <td>Abdur_Rahman v. Bell</td>\n",
       "      <td>No. 01-9094</td>\n",
       "      <td>November 6, 2002</td>\n",
       "      <td>2002</td>\n",
       "      <td>REHNQUIST REHNQUIST</td>\n",
       "      <td>JAMES S. LIEBMAN, ESQ., New York, New York; on...</td>\n",
       "      <td>JAMES S. LIEBMAN, PAUL G. SUMMERS, PAUL J. ZID...</td>\n",
       "    </tr>\n",
       "  </tbody>\n",
       "</table>\n",
       "</div>"
      ],
      "text/plain": [
       "                        Title       Case No               Date  Year  \\\n",
       "0  14 Penn Plaza LLC v. Pyett    No. 07-581   December 1, 2008  2008   \n",
       "1             Abbott v. Perez    No. 17-586     April 24, 2018  2018   \n",
       "2     Abbott v. United States    No. 09-479    October 4, 2010  2010   \n",
       "3   Abdul-Kabir v. Quarterman  No. 05-11284   January 17, 2006  2006   \n",
       "4        Abdur_Rahman v. Bell   No. 01-9094   November 6, 2002  2002   \n",
       "\n",
       "                                            Justices  \\\n",
       "0   ALITO,  BREYER,  GINSBURG,  KENNEDY,  ROBERTS...   \n",
       "1   ALITO,  BREYER,  GINSBURG,  GORSUCH,  KAGAN, ...   \n",
       "2   ALITO,  BREYER,  GINSBURG,  ROBERTS,  SCALIA,...   \n",
       "3   ALITO,  BREYER,  GINSBURG,  KENNEDY,  ROBERTS...   \n",
       "4                                REHNQUIST REHNQUIST   \n",
       "\n",
       "                                         Appearances  \\\n",
       "0  PAUL SALVATORE, ESQ., New York, N.Y.; on behal...   \n",
       "1   SCOTT A. KELLER, Solicitor General of Texas, ...   \n",
       "2  DAVID L. HORAN, ESQ., Dallas, Texas; on behalf...   \n",
       "3   ROBERT C. OWEN, ESQ., Austin, Tex.; on behalf...   \n",
       "4  JAMES S. LIEBMAN, ESQ., New York, New York; on...   \n",
       "\n",
       "                                              People  \n",
       "0  PAUL SALVATORE, DAVID C. FREDERICK, CURTIS E. ...  \n",
       "1  SCOTT A. KELLER, EDWIN S. KNEEDLER, MAX RENEA ...  \n",
       "2                      DAVID L. HORAN, JAMES E. RYAN  \n",
       "3                 ROBERT C. OWEN, EDWARD L. MARSHALL  \n",
       "4  JAMES S. LIEBMAN, PAUL G. SUMMERS, PAUL J. ZID...  "
      ]
     },
     "execution_count": 549,
     "metadata": {},
     "output_type": "execute_result"
    }
   ],
   "source": [
    "data.head()"
   ]
  },
  {
   "cell_type": "code",
   "execution_count": null,
   "metadata": {},
   "outputs": [],
   "source": []
  }
 ],
 "metadata": {
  "kernelspec": {
   "display_name": "Python 3",
   "language": "python",
   "name": "python3"
  },
  "language_info": {
   "codemirror_mode": {
    "name": "ipython",
    "version": 3
   },
   "file_extension": ".py",
   "mimetype": "text/x-python",
   "name": "python",
   "nbconvert_exporter": "python",
   "pygments_lexer": "ipython3",
   "version": "3.6.5"
  }
 },
 "nbformat": 4,
 "nbformat_minor": 2
}
